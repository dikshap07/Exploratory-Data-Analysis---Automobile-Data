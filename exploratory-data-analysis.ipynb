{
 "cells": 
  {
   "cell_type": "markdown",
   "metadata": {},
   "source": [
    "Exploratory Data Analysis"
   ]
  },
  {
   "cell_type": "markdown",
   "metadata": {},
   "source": [
    "We will explore several methods to see if certain characteristics or features can be used to predict car price. "
   ]
  },
  {
   "cell_type": "markdown",
   "metadata": {},
   "source": [
    "<h2>Table of content</h2>\n",
    "\n",
    "<div class=\"alert alert-block alert-info\" style=\"margin-top: 20px\">\n",
    "<ol>\n",
    "    <li><a href=\"#import_data\">Import Data from Module</a></li>\n",
    "    <li><a href=\"#pattern_visualization\">Analyzing Individual Feature Patterns using Visualization</a></li>\n",
    "    <li><a href=\"#discriptive_statistics\">Descriptive Statistical Analysis</a></li>\n",
    "    <li><a href=\"#basic_grouping\">Basics of Grouping</a></li>\n",
    "    <li><a href=\"#correlation_causation\">Correlation and Causation</a></li>\n",
    "    <li><a href=\"#anova\">ANOVA</a></li>\n",
    "</ol>\n",
    "    \n",
    "Estimated Time Needed: <strong>30 min</strong>\n",
    "</div>\n",
    " \n",
    "<hr>"
   ]
  },
  {
   "cell_type": "markdown",
   "metadata": {},
   "source": [
    "<h3>What are the main characteristics which have the most impact on the car price?</h3>"
   ]
  },
  {
   "cell_type": "markdown",
   "metadata": {},
   "source": [
    "<h2 id=\"import_data\">1. Import Data from Module 2</h2>"
   ]
  },
  {
   "cell_type": "markdown",
   "metadata": {},
   "source": [
    "<h4>Setup</h4>"
   ]
  },
  {
   "cell_type": "markdown",
   "metadata": {},
   "source": [
    " Import libraries "
   ]
  },
  {
   "cell_type": "code",
   "execution_count": 3,
   "metadata": {},
   "outputs": [],
   "source": [
    "import pandas as pd\n",
    "import numpy as np"
   ]
  },
  {
   "cell_type": "markdown",
   "metadata": {},
   "source": [
    " load data and store in dataframe df:"
   ]
  },
  {
   "cell_type": "markdown",
   "metadata": {},
   "source": [
    "This dataset was hosted on IBM Cloud object click <a href=\"https://cocl.us/DA101EN_object_storage\">HERE</a> for free storage"
   ]
  },
  {
   "cell_type": "code",
   "execution_count": 4,
   "metadata": {
    "collapsed": false,
    "jupyter": {
     "outputs_hidden": false
    }
   },
   "outputs": [
    {
     "data": {
      "text/html": [
       "<div>\n",
       "<style scoped>\n",
       "    .dataframe tbody tr th:only-of-type {\n",
       "        vertical-align: middle;\n",
       "    }\n",
       "\n",
       "    .dataframe tbody tr th {\n",
       "        vertical-align: top;\n",
       "    }\n",
       "\n",
       "    .dataframe thead th {\n",
       "        text-align: right;\n",
       "    }\n",
       "</style>\n",
       "<table border=\"1\" class=\"dataframe\">\n",
       "  <thead>\n",
       "    <tr style=\"text-align: right;\">\n",
       "      <th></th>\n",
       "      <th>symboling</th>\n",
       "      <th>normalized-losses</th>\n",
       "      <th>make</th>\n",
       "      <th>aspiration</th>\n",
       "      <th>num-of-doors</th>\n",
       "      <th>body-style</th>\n",
       "      <th>drive-wheels</th>\n",
       "      <th>engine-location</th>\n",
       "      <th>wheel-base</th>\n",
       "      <th>length</th>\n",
       "      <th>...</th>\n",
       "      <th>compression-ratio</th>\n",
       "      <th>horsepower</th>\n",
       "      <th>peak-rpm</th>\n",
       "      <th>city-mpg</th>\n",
       "      <th>highway-mpg</th>\n",
       "      <th>price</th>\n",
       "      <th>city-L/100km</th>\n",
       "      <th>horsepower-binned</th>\n",
       "      <th>diesel</th>\n",
       "      <th>gas</th>\n",
       "    </tr>\n",
       "  </thead>\n",
       "  <tbody>\n",
       "    <tr>\n",
       "      <th>0</th>\n",
       "      <td>3</td>\n",
       "      <td>122</td>\n",
       "      <td>alfa-romero</td>\n",
       "      <td>std</td>\n",
       "      <td>two</td>\n",
       "      <td>convertible</td>\n",
       "      <td>rwd</td>\n",
       "      <td>front</td>\n",
       "      <td>88.6</td>\n",
       "      <td>0.811148</td>\n",
       "      <td>...</td>\n",
       "      <td>9.0</td>\n",
       "      <td>111.0</td>\n",
       "      <td>5000.0</td>\n",
       "      <td>21</td>\n",
       "      <td>27</td>\n",
       "      <td>13495.0</td>\n",
       "      <td>11.190476</td>\n",
       "      <td>Medium</td>\n",
       "      <td>0</td>\n",
       "      <td>1</td>\n",
       "    </tr>\n",
       "    <tr>\n",
       "      <th>1</th>\n",
       "      <td>3</td>\n",
       "      <td>122</td>\n",
       "      <td>alfa-romero</td>\n",
       "      <td>std</td>\n",
       "      <td>two</td>\n",
       "      <td>convertible</td>\n",
       "      <td>rwd</td>\n",
       "      <td>front</td>\n",
       "      <td>88.6</td>\n",
       "      <td>0.811148</td>\n",
       "      <td>...</td>\n",
       "      <td>9.0</td>\n",
       "      <td>111.0</td>\n",
       "      <td>5000.0</td>\n",
       "      <td>21</td>\n",
       "      <td>27</td>\n",
       "      <td>16500.0</td>\n",
       "      <td>11.190476</td>\n",
       "      <td>Medium</td>\n",
       "      <td>0</td>\n",
       "      <td>1</td>\n",
       "    </tr>\n",
       "    <tr>\n",
       "      <th>2</th>\n",
       "      <td>1</td>\n",
       "      <td>122</td>\n",
       "      <td>alfa-romero</td>\n",
       "      <td>std</td>\n",
       "      <td>two</td>\n",
       "      <td>hatchback</td>\n",
       "      <td>rwd</td>\n",
       "      <td>front</td>\n",
       "      <td>94.5</td>\n",
       "      <td>0.822681</td>\n",
       "      <td>...</td>\n",
       "      <td>9.0</td>\n",
       "      <td>154.0</td>\n",
       "      <td>5000.0</td>\n",
       "      <td>19</td>\n",
       "      <td>26</td>\n",
       "      <td>16500.0</td>\n",
       "      <td>12.368421</td>\n",
       "      <td>Medium</td>\n",
       "      <td>0</td>\n",
       "      <td>1</td>\n",
       "    </tr>\n",
       "    <tr>\n",
       "      <th>3</th>\n",
       "      <td>2</td>\n",
       "      <td>164</td>\n",
       "      <td>audi</td>\n",
       "      <td>std</td>\n",
       "      <td>four</td>\n",
       "      <td>sedan</td>\n",
       "      <td>fwd</td>\n",
       "      <td>front</td>\n",
       "      <td>99.8</td>\n",
       "      <td>0.848630</td>\n",
       "      <td>...</td>\n",
       "      <td>10.0</td>\n",
       "      <td>102.0</td>\n",
       "      <td>5500.0</td>\n",
       "      <td>24</td>\n",
       "      <td>30</td>\n",
       "      <td>13950.0</td>\n",
       "      <td>9.791667</td>\n",
       "      <td>Medium</td>\n",
       "      <td>0</td>\n",
       "      <td>1</td>\n",
       "    </tr>\n",
       "    <tr>\n",
       "      <th>4</th>\n",
       "      <td>2</td>\n",
       "      <td>164</td>\n",
       "      <td>audi</td>\n",
       "      <td>std</td>\n",
       "      <td>four</td>\n",
       "      <td>sedan</td>\n",
       "      <td>4wd</td>\n",
       "      <td>front</td>\n",
       "      <td>99.4</td>\n",
       "      <td>0.848630</td>\n",
       "      <td>...</td>\n",
       "      <td>8.0</td>\n",
       "      <td>115.0</td>\n",
       "      <td>5500.0</td>\n",
       "      <td>18</td>\n",
       "      <td>22</td>\n",
       "      <td>17450.0</td>\n",
       "      <td>13.055556</td>\n",
       "      <td>Medium</td>\n",
       "      <td>0</td>\n",
       "      <td>1</td>\n",
       "    </tr>\n",
       "  </tbody>\n",
       "</table>\n",
       "<p>5 rows × 29 columns</p>\n",
       "</div>"
      ],
      "text/plain": [
       "   symboling  normalized-losses         make aspiration num-of-doors  \\\n",
       "0          3                122  alfa-romero        std          two   \n",
       "1          3                122  alfa-romero        std          two   \n",
       "2          1                122  alfa-romero        std          two   \n",
       "3          2                164         audi        std         four   \n",
       "4          2                164         audi        std         four   \n",
       "\n",
       "    body-style drive-wheels engine-location  wheel-base    length  ...  \\\n",
       "0  convertible          rwd           front        88.6  0.811148  ...   \n",
       "1  convertible          rwd           front        88.6  0.811148  ...   \n",
       "2    hatchback          rwd           front        94.5  0.822681  ...   \n",
       "3        sedan          fwd           front        99.8  0.848630  ...   \n",
       "4        sedan          4wd           front        99.4  0.848630  ...   \n",
       "\n",
       "   compression-ratio  horsepower  peak-rpm city-mpg highway-mpg    price  \\\n",
       "0                9.0       111.0    5000.0       21          27  13495.0   \n",
       "1                9.0       111.0    5000.0       21          27  16500.0   \n",
       "2                9.0       154.0    5000.0       19          26  16500.0   \n",
       "3               10.0       102.0    5500.0       24          30  13950.0   \n",
       "4                8.0       115.0    5500.0       18          22  17450.0   \n",
       "\n",
       "  city-L/100km  horsepower-binned  diesel  gas  \n",
       "0    11.190476             Medium       0    1  \n",
       "1    11.190476             Medium       0    1  \n",
       "2    12.368421             Medium       0    1  \n",
       "3     9.791667             Medium       0    1  \n",
       "4    13.055556             Medium       0    1  \n",
       "\n",
       "[5 rows x 29 columns]"
      ]
     },
     "execution_count": 4,
     "metadata": {},
     "output_type": "execute_result"
    }
   ],
   "source": [
    "path='https://s3-api.us-geo.objectstorage.softlayer.net/cf-courses-data/CognitiveClass/DA0101EN/automobileEDA.csv'\n",
    "df = pd.read_csv(path)\n",
    "df.head()"
   ]
  },
  {
   "cell_type": "markdown",
   "metadata": {},
   "source": [
    "<h2 id=\"pattern_visualization\">2. Analyzing Individual Feature Patterns using Visualization</h2>"
   ]
  },
  {
   "cell_type": "markdown",
   "metadata": {},
   "source": [
    "To install seaborn we use the pip which is the python package manager."
   ]
  },
  {
   "cell_type": "code",
   "execution_count": 5,
   "metadata": {},
   "outputs": [],
   "source": [
    "%%capture\n",
    "! pip install seaborn"
   ]
  },
  {
   "cell_type": "markdown",
   "metadata": {},
   "source": [
    " Import visualization packages \"Matplotlib\" and \"Seaborn\", don't forget about \"%matplotlib inline\" to plot in a Jupyter notebook."
   ]
  },
  {
   "cell_type": "code",
   "execution_count": 6,
   "metadata": {
    "collapsed": false,
    "jupyter": {
     "outputs_hidden": false
    }
   },
   "outputs": [],
   "source": [
    "import matplotlib.pyplot as plt\n",
    "import seaborn as sns\n",
    "%matplotlib inline "
   ]
  },
  {
   "cell_type": "markdown",
   "metadata": {},
   "source": [
    "<h4>How to choose the right visualization method?</h4>\n",
    "<p>When visualizing individual variables, it is important to first understand what type of variable you are dealing with. This will help us find the right visualization method for that variable.</p>\n"
   ]
  },
  {
   "cell_type": "code",
   "execution_count": 7,
   "metadata": {
    "collapsed": false,
    "jupyter": {
     "outputs_hidden": false
    }
   },
   "outputs": [
    {
     "name": "stdout",
     "output_type": "stream",
     "text": [
      "symboling              int64\n",
      "normalized-losses      int64\n",
      "make                  object\n",
      "aspiration            object\n",
      "num-of-doors          object\n",
      "body-style            object\n",
      "drive-wheels          object\n",
      "engine-location       object\n",
      "wheel-base           float64\n",
      "length               float64\n",
      "width                float64\n",
      "height               float64\n",
      "curb-weight            int64\n",
      "engine-type           object\n",
      "num-of-cylinders      object\n",
      "engine-size            int64\n",
      "fuel-system           object\n",
      "bore                 float64\n",
      "stroke               float64\n",
      "compression-ratio    float64\n",
      "horsepower           float64\n",
      "peak-rpm             float64\n",
      "city-mpg               int64\n",
      "highway-mpg            int64\n",
      "price                float64\n",
      "city-L/100km         float64\n",
      "horsepower-binned     object\n",
      "diesel                 int64\n",
      "gas                    int64\n",
      "dtype: object\n"
     ]
    }
   ],
   "source": [
    "# list the data types for each column\n",
    "print(df.dtypes)"
   ]
  },
  {
   "cell_type": "markdown",
   "metadata": {},
   "source": [
    "for example, we can calculate the correlation between variables  of type \"int64\" or \"float64\" using the method \"corr\":"
   ]
  },
  {
   "cell_type": "code",
   "execution_count": 8,
   "metadata": {
    "collapsed": false,
    "jupyter": {
     "outputs_hidden": false
    }
   },
   "outputs": [
    {
     "data": {
      "text/html": [
       "<div>\n",
       "<style scoped>\n",
       "    .dataframe tbody tr th:only-of-type {\n",
       "        vertical-align: middle;\n",
       "    }\n",
       "\n",
       "    .dataframe tbody tr th {\n",
       "        vertical-align: top;\n",
       "    }\n",
       "\n",
       "    .dataframe thead th {\n",
       "        text-align: right;\n",
       "    }\n",
       "</style>\n",
       "<table border=\"1\" class=\"dataframe\">\n",
       "  <thead>\n",
       "    <tr style=\"text-align: right;\">\n",
       "      <th></th>\n",
       "      <th>symboling</th>\n",
       "      <th>normalized-losses</th>\n",
       "      <th>wheel-base</th>\n",
       "      <th>length</th>\n",
       "      <th>width</th>\n",
       "      <th>height</th>\n",
       "      <th>curb-weight</th>\n",
       "      <th>engine-size</th>\n",
       "      <th>bore</th>\n",
       "      <th>stroke</th>\n",
       "      <th>compression-ratio</th>\n",
       "      <th>horsepower</th>\n",
       "      <th>peak-rpm</th>\n",
       "      <th>city-mpg</th>\n",
       "      <th>highway-mpg</th>\n",
       "      <th>price</th>\n",
       "      <th>city-L/100km</th>\n",
       "      <th>diesel</th>\n",
       "      <th>gas</th>\n",
       "    </tr>\n",
       "  </thead>\n",
       "  <tbody>\n",
       "    <tr>\n",
       "      <th>symboling</th>\n",
       "      <td>1.000000</td>\n",
       "      <td>0.466264</td>\n",
       "      <td>-0.535987</td>\n",
       "      <td>-0.365404</td>\n",
       "      <td>-0.242423</td>\n",
       "      <td>-0.550160</td>\n",
       "      <td>-0.233118</td>\n",
       "      <td>-0.110581</td>\n",
       "      <td>-0.140019</td>\n",
       "      <td>-0.008245</td>\n",
       "      <td>-0.182196</td>\n",
       "      <td>0.075819</td>\n",
       "      <td>0.279740</td>\n",
       "      <td>-0.035527</td>\n",
       "      <td>0.036233</td>\n",
       "      <td>-0.082391</td>\n",
       "      <td>0.066171</td>\n",
       "      <td>-0.196735</td>\n",
       "      <td>0.196735</td>\n",
       "    </tr>\n",
       "    <tr>\n",
       "      <th>normalized-losses</th>\n",
       "      <td>0.466264</td>\n",
       "      <td>1.000000</td>\n",
       "      <td>-0.056661</td>\n",
       "      <td>0.019424</td>\n",
       "      <td>0.086802</td>\n",
       "      <td>-0.373737</td>\n",
       "      <td>0.099404</td>\n",
       "      <td>0.112360</td>\n",
       "      <td>-0.029862</td>\n",
       "      <td>0.055563</td>\n",
       "      <td>-0.114713</td>\n",
       "      <td>0.217299</td>\n",
       "      <td>0.239543</td>\n",
       "      <td>-0.225016</td>\n",
       "      <td>-0.181877</td>\n",
       "      <td>0.133999</td>\n",
       "      <td>0.238567</td>\n",
       "      <td>-0.101546</td>\n",
       "      <td>0.101546</td>\n",
       "    </tr>\n",
       "    <tr>\n",
       "      <th>wheel-base</th>\n",
       "      <td>-0.535987</td>\n",
       "      <td>-0.056661</td>\n",
       "      <td>1.000000</td>\n",
       "      <td>0.876024</td>\n",
       "      <td>0.814507</td>\n",
       "      <td>0.590742</td>\n",
       "      <td>0.782097</td>\n",
       "      <td>0.572027</td>\n",
       "      <td>0.493244</td>\n",
       "      <td>0.158502</td>\n",
       "      <td>0.250313</td>\n",
       "      <td>0.371147</td>\n",
       "      <td>-0.360305</td>\n",
       "      <td>-0.470606</td>\n",
       "      <td>-0.543304</td>\n",
       "      <td>0.584642</td>\n",
       "      <td>0.476153</td>\n",
       "      <td>0.307237</td>\n",
       "      <td>-0.307237</td>\n",
       "    </tr>\n",
       "    <tr>\n",
       "      <th>length</th>\n",
       "      <td>-0.365404</td>\n",
       "      <td>0.019424</td>\n",
       "      <td>0.876024</td>\n",
       "      <td>1.000000</td>\n",
       "      <td>0.857170</td>\n",
       "      <td>0.492063</td>\n",
       "      <td>0.880665</td>\n",
       "      <td>0.685025</td>\n",
       "      <td>0.608971</td>\n",
       "      <td>0.124139</td>\n",
       "      <td>0.159733</td>\n",
       "      <td>0.579821</td>\n",
       "      <td>-0.285970</td>\n",
       "      <td>-0.665192</td>\n",
       "      <td>-0.698142</td>\n",
       "      <td>0.690628</td>\n",
       "      <td>0.657373</td>\n",
       "      <td>0.211187</td>\n",
       "      <td>-0.211187</td>\n",
       "    </tr>\n",
       "    <tr>\n",
       "      <th>width</th>\n",
       "      <td>-0.242423</td>\n",
       "      <td>0.086802</td>\n",
       "      <td>0.814507</td>\n",
       "      <td>0.857170</td>\n",
       "      <td>1.000000</td>\n",
       "      <td>0.306002</td>\n",
       "      <td>0.866201</td>\n",
       "      <td>0.729436</td>\n",
       "      <td>0.544885</td>\n",
       "      <td>0.188829</td>\n",
       "      <td>0.189867</td>\n",
       "      <td>0.615077</td>\n",
       "      <td>-0.245800</td>\n",
       "      <td>-0.633531</td>\n",
       "      <td>-0.680635</td>\n",
       "      <td>0.751265</td>\n",
       "      <td>0.673363</td>\n",
       "      <td>0.244356</td>\n",
       "      <td>-0.244356</td>\n",
       "    </tr>\n",
       "    <tr>\n",
       "      <th>height</th>\n",
       "      <td>-0.550160</td>\n",
       "      <td>-0.373737</td>\n",
       "      <td>0.590742</td>\n",
       "      <td>0.492063</td>\n",
       "      <td>0.306002</td>\n",
       "      <td>1.000000</td>\n",
       "      <td>0.307581</td>\n",
       "      <td>0.074694</td>\n",
       "      <td>0.180449</td>\n",
       "      <td>-0.062704</td>\n",
       "      <td>0.259737</td>\n",
       "      <td>-0.087027</td>\n",
       "      <td>-0.309974</td>\n",
       "      <td>-0.049800</td>\n",
       "      <td>-0.104812</td>\n",
       "      <td>0.135486</td>\n",
       "      <td>0.003811</td>\n",
       "      <td>0.281578</td>\n",
       "      <td>-0.281578</td>\n",
       "    </tr>\n",
       "    <tr>\n",
       "      <th>curb-weight</th>\n",
       "      <td>-0.233118</td>\n",
       "      <td>0.099404</td>\n",
       "      <td>0.782097</td>\n",
       "      <td>0.880665</td>\n",
       "      <td>0.866201</td>\n",
       "      <td>0.307581</td>\n",
       "      <td>1.000000</td>\n",
       "      <td>0.849072</td>\n",
       "      <td>0.644060</td>\n",
       "      <td>0.167562</td>\n",
       "      <td>0.156433</td>\n",
       "      <td>0.757976</td>\n",
       "      <td>-0.279361</td>\n",
       "      <td>-0.749543</td>\n",
       "      <td>-0.794889</td>\n",
       "      <td>0.834415</td>\n",
       "      <td>0.785353</td>\n",
       "      <td>0.221046</td>\n",
       "      <td>-0.221046</td>\n",
       "    </tr>\n",
       "    <tr>\n",
       "      <th>engine-size</th>\n",
       "      <td>-0.110581</td>\n",
       "      <td>0.112360</td>\n",
       "      <td>0.572027</td>\n",
       "      <td>0.685025</td>\n",
       "      <td>0.729436</td>\n",
       "      <td>0.074694</td>\n",
       "      <td>0.849072</td>\n",
       "      <td>1.000000</td>\n",
       "      <td>0.572609</td>\n",
       "      <td>0.209523</td>\n",
       "      <td>0.028889</td>\n",
       "      <td>0.822676</td>\n",
       "      <td>-0.256733</td>\n",
       "      <td>-0.650546</td>\n",
       "      <td>-0.679571</td>\n",
       "      <td>0.872335</td>\n",
       "      <td>0.745059</td>\n",
       "      <td>0.070779</td>\n",
       "      <td>-0.070779</td>\n",
       "    </tr>\n",
       "    <tr>\n",
       "      <th>bore</th>\n",
       "      <td>-0.140019</td>\n",
       "      <td>-0.029862</td>\n",
       "      <td>0.493244</td>\n",
       "      <td>0.608971</td>\n",
       "      <td>0.544885</td>\n",
       "      <td>0.180449</td>\n",
       "      <td>0.644060</td>\n",
       "      <td>0.572609</td>\n",
       "      <td>1.000000</td>\n",
       "      <td>-0.055390</td>\n",
       "      <td>0.001263</td>\n",
       "      <td>0.566936</td>\n",
       "      <td>-0.267392</td>\n",
       "      <td>-0.582027</td>\n",
       "      <td>-0.591309</td>\n",
       "      <td>0.543155</td>\n",
       "      <td>0.554610</td>\n",
       "      <td>0.054458</td>\n",
       "      <td>-0.054458</td>\n",
       "    </tr>\n",
       "    <tr>\n",
       "      <th>stroke</th>\n",
       "      <td>-0.008245</td>\n",
       "      <td>0.055563</td>\n",
       "      <td>0.158502</td>\n",
       "      <td>0.124139</td>\n",
       "      <td>0.188829</td>\n",
       "      <td>-0.062704</td>\n",
       "      <td>0.167562</td>\n",
       "      <td>0.209523</td>\n",
       "      <td>-0.055390</td>\n",
       "      <td>1.000000</td>\n",
       "      <td>0.187923</td>\n",
       "      <td>0.098462</td>\n",
       "      <td>-0.065713</td>\n",
       "      <td>-0.034696</td>\n",
       "      <td>-0.035201</td>\n",
       "      <td>0.082310</td>\n",
       "      <td>0.037300</td>\n",
       "      <td>0.241303</td>\n",
       "      <td>-0.241303</td>\n",
       "    </tr>\n",
       "    <tr>\n",
       "      <th>compression-ratio</th>\n",
       "      <td>-0.182196</td>\n",
       "      <td>-0.114713</td>\n",
       "      <td>0.250313</td>\n",
       "      <td>0.159733</td>\n",
       "      <td>0.189867</td>\n",
       "      <td>0.259737</td>\n",
       "      <td>0.156433</td>\n",
       "      <td>0.028889</td>\n",
       "      <td>0.001263</td>\n",
       "      <td>0.187923</td>\n",
       "      <td>1.000000</td>\n",
       "      <td>-0.214514</td>\n",
       "      <td>-0.435780</td>\n",
       "      <td>0.331425</td>\n",
       "      <td>0.268465</td>\n",
       "      <td>0.071107</td>\n",
       "      <td>-0.299372</td>\n",
       "      <td>0.985231</td>\n",
       "      <td>-0.985231</td>\n",
       "    </tr>\n",
       "    <tr>\n",
       "      <th>horsepower</th>\n",
       "      <td>0.075819</td>\n",
       "      <td>0.217299</td>\n",
       "      <td>0.371147</td>\n",
       "      <td>0.579821</td>\n",
       "      <td>0.615077</td>\n",
       "      <td>-0.087027</td>\n",
       "      <td>0.757976</td>\n",
       "      <td>0.822676</td>\n",
       "      <td>0.566936</td>\n",
       "      <td>0.098462</td>\n",
       "      <td>-0.214514</td>\n",
       "      <td>1.000000</td>\n",
       "      <td>0.107885</td>\n",
       "      <td>-0.822214</td>\n",
       "      <td>-0.804575</td>\n",
       "      <td>0.809575</td>\n",
       "      <td>0.889488</td>\n",
       "      <td>-0.169053</td>\n",
       "      <td>0.169053</td>\n",
       "    </tr>\n",
       "    <tr>\n",
       "      <th>peak-rpm</th>\n",
       "      <td>0.279740</td>\n",
       "      <td>0.239543</td>\n",
       "      <td>-0.360305</td>\n",
       "      <td>-0.285970</td>\n",
       "      <td>-0.245800</td>\n",
       "      <td>-0.309974</td>\n",
       "      <td>-0.279361</td>\n",
       "      <td>-0.256733</td>\n",
       "      <td>-0.267392</td>\n",
       "      <td>-0.065713</td>\n",
       "      <td>-0.435780</td>\n",
       "      <td>0.107885</td>\n",
       "      <td>1.000000</td>\n",
       "      <td>-0.115413</td>\n",
       "      <td>-0.058598</td>\n",
       "      <td>-0.101616</td>\n",
       "      <td>0.115830</td>\n",
       "      <td>-0.475812</td>\n",
       "      <td>0.475812</td>\n",
       "    </tr>\n",
       "    <tr>\n",
       "      <th>city-mpg</th>\n",
       "      <td>-0.035527</td>\n",
       "      <td>-0.225016</td>\n",
       "      <td>-0.470606</td>\n",
       "      <td>-0.665192</td>\n",
       "      <td>-0.633531</td>\n",
       "      <td>-0.049800</td>\n",
       "      <td>-0.749543</td>\n",
       "      <td>-0.650546</td>\n",
       "      <td>-0.582027</td>\n",
       "      <td>-0.034696</td>\n",
       "      <td>0.331425</td>\n",
       "      <td>-0.822214</td>\n",
       "      <td>-0.115413</td>\n",
       "      <td>1.000000</td>\n",
       "      <td>0.972044</td>\n",
       "      <td>-0.686571</td>\n",
       "      <td>-0.949713</td>\n",
       "      <td>0.265676</td>\n",
       "      <td>-0.265676</td>\n",
       "    </tr>\n",
       "    <tr>\n",
       "      <th>highway-mpg</th>\n",
       "      <td>0.036233</td>\n",
       "      <td>-0.181877</td>\n",
       "      <td>-0.543304</td>\n",
       "      <td>-0.698142</td>\n",
       "      <td>-0.680635</td>\n",
       "      <td>-0.104812</td>\n",
       "      <td>-0.794889</td>\n",
       "      <td>-0.679571</td>\n",
       "      <td>-0.591309</td>\n",
       "      <td>-0.035201</td>\n",
       "      <td>0.268465</td>\n",
       "      <td>-0.804575</td>\n",
       "      <td>-0.058598</td>\n",
       "      <td>0.972044</td>\n",
       "      <td>1.000000</td>\n",
       "      <td>-0.704692</td>\n",
       "      <td>-0.930028</td>\n",
       "      <td>0.198690</td>\n",
       "      <td>-0.198690</td>\n",
       "    </tr>\n",
       "    <tr>\n",
       "      <th>price</th>\n",
       "      <td>-0.082391</td>\n",
       "      <td>0.133999</td>\n",
       "      <td>0.584642</td>\n",
       "      <td>0.690628</td>\n",
       "      <td>0.751265</td>\n",
       "      <td>0.135486</td>\n",
       "      <td>0.834415</td>\n",
       "      <td>0.872335</td>\n",
       "      <td>0.543155</td>\n",
       "      <td>0.082310</td>\n",
       "      <td>0.071107</td>\n",
       "      <td>0.809575</td>\n",
       "      <td>-0.101616</td>\n",
       "      <td>-0.686571</td>\n",
       "      <td>-0.704692</td>\n",
       "      <td>1.000000</td>\n",
       "      <td>0.789898</td>\n",
       "      <td>0.110326</td>\n",
       "      <td>-0.110326</td>\n",
       "    </tr>\n",
       "    <tr>\n",
       "      <th>city-L/100km</th>\n",
       "      <td>0.066171</td>\n",
       "      <td>0.238567</td>\n",
       "      <td>0.476153</td>\n",
       "      <td>0.657373</td>\n",
       "      <td>0.673363</td>\n",
       "      <td>0.003811</td>\n",
       "      <td>0.785353</td>\n",
       "      <td>0.745059</td>\n",
       "      <td>0.554610</td>\n",
       "      <td>0.037300</td>\n",
       "      <td>-0.299372</td>\n",
       "      <td>0.889488</td>\n",
       "      <td>0.115830</td>\n",
       "      <td>-0.949713</td>\n",
       "      <td>-0.930028</td>\n",
       "      <td>0.789898</td>\n",
       "      <td>1.000000</td>\n",
       "      <td>-0.241282</td>\n",
       "      <td>0.241282</td>\n",
       "    </tr>\n",
       "    <tr>\n",
       "      <th>diesel</th>\n",
       "      <td>-0.196735</td>\n",
       "      <td>-0.101546</td>\n",
       "      <td>0.307237</td>\n",
       "      <td>0.211187</td>\n",
       "      <td>0.244356</td>\n",
       "      <td>0.281578</td>\n",
       "      <td>0.221046</td>\n",
       "      <td>0.070779</td>\n",
       "      <td>0.054458</td>\n",
       "      <td>0.241303</td>\n",
       "      <td>0.985231</td>\n",
       "      <td>-0.169053</td>\n",
       "      <td>-0.475812</td>\n",
       "      <td>0.265676</td>\n",
       "      <td>0.198690</td>\n",
       "      <td>0.110326</td>\n",
       "      <td>-0.241282</td>\n",
       "      <td>1.000000</td>\n",
       "      <td>-1.000000</td>\n",
       "    </tr>\n",
       "    <tr>\n",
       "      <th>gas</th>\n",
       "      <td>0.196735</td>\n",
       "      <td>0.101546</td>\n",
       "      <td>-0.307237</td>\n",
       "      <td>-0.211187</td>\n",
       "      <td>-0.244356</td>\n",
       "      <td>-0.281578</td>\n",
       "      <td>-0.221046</td>\n",
       "      <td>-0.070779</td>\n",
       "      <td>-0.054458</td>\n",
       "      <td>-0.241303</td>\n",
       "      <td>-0.985231</td>\n",
       "      <td>0.169053</td>\n",
       "      <td>0.475812</td>\n",
       "      <td>-0.265676</td>\n",
       "      <td>-0.198690</td>\n",
       "      <td>-0.110326</td>\n",
       "      <td>0.241282</td>\n",
       "      <td>-1.000000</td>\n",
       "      <td>1.000000</td>\n",
       "    </tr>\n",
       "  </tbody>\n",
       "</table>\n",
       "</div>"
      ],
      "text/plain": [
       "                   symboling  normalized-losses  wheel-base    length  \\\n",
       "symboling           1.000000           0.466264   -0.535987 -0.365404   \n",
       "normalized-losses   0.466264           1.000000   -0.056661  0.019424   \n",
       "wheel-base         -0.535987          -0.056661    1.000000  0.876024   \n",
       "length             -0.365404           0.019424    0.876024  1.000000   \n",
       "width              -0.242423           0.086802    0.814507  0.857170   \n",
       "height             -0.550160          -0.373737    0.590742  0.492063   \n",
       "curb-weight        -0.233118           0.099404    0.782097  0.880665   \n",
       "engine-size        -0.110581           0.112360    0.572027  0.685025   \n",
       "bore               -0.140019          -0.029862    0.493244  0.608971   \n",
       "stroke             -0.008245           0.055563    0.158502  0.124139   \n",
       "compression-ratio  -0.182196          -0.114713    0.250313  0.159733   \n",
       "horsepower          0.075819           0.217299    0.371147  0.579821   \n",
       "peak-rpm            0.279740           0.239543   -0.360305 -0.285970   \n",
       "city-mpg           -0.035527          -0.225016   -0.470606 -0.665192   \n",
       "highway-mpg         0.036233          -0.181877   -0.543304 -0.698142   \n",
       "price              -0.082391           0.133999    0.584642  0.690628   \n",
       "city-L/100km        0.066171           0.238567    0.476153  0.657373   \n",
       "diesel             -0.196735          -0.101546    0.307237  0.211187   \n",
       "gas                 0.196735           0.101546   -0.307237 -0.211187   \n",
       "\n",
       "                      width    height  curb-weight  engine-size      bore  \\\n",
       "symboling         -0.242423 -0.550160    -0.233118    -0.110581 -0.140019   \n",
       "normalized-losses  0.086802 -0.373737     0.099404     0.112360 -0.029862   \n",
       "wheel-base         0.814507  0.590742     0.782097     0.572027  0.493244   \n",
       "length             0.857170  0.492063     0.880665     0.685025  0.608971   \n",
       "width              1.000000  0.306002     0.866201     0.729436  0.544885   \n",
       "height             0.306002  1.000000     0.307581     0.074694  0.180449   \n",
       "curb-weight        0.866201  0.307581     1.000000     0.849072  0.644060   \n",
       "engine-size        0.729436  0.074694     0.849072     1.000000  0.572609   \n",
       "bore               0.544885  0.180449     0.644060     0.572609  1.000000   \n",
       "stroke             0.188829 -0.062704     0.167562     0.209523 -0.055390   \n",
       "compression-ratio  0.189867  0.259737     0.156433     0.028889  0.001263   \n",
       "horsepower         0.615077 -0.087027     0.757976     0.822676  0.566936   \n",
       "peak-rpm          -0.245800 -0.309974    -0.279361    -0.256733 -0.267392   \n",
       "city-mpg          -0.633531 -0.049800    -0.749543    -0.650546 -0.582027   \n",
       "highway-mpg       -0.680635 -0.104812    -0.794889    -0.679571 -0.591309   \n",
       "price              0.751265  0.135486     0.834415     0.872335  0.543155   \n",
       "city-L/100km       0.673363  0.003811     0.785353     0.745059  0.554610   \n",
       "diesel             0.244356  0.281578     0.221046     0.070779  0.054458   \n",
       "gas               -0.244356 -0.281578    -0.221046    -0.070779 -0.054458   \n",
       "\n",
       "                     stroke  compression-ratio  horsepower  peak-rpm  \\\n",
       "symboling         -0.008245          -0.182196    0.075819  0.279740   \n",
       "normalized-losses  0.055563          -0.114713    0.217299  0.239543   \n",
       "wheel-base         0.158502           0.250313    0.371147 -0.360305   \n",
       "length             0.124139           0.159733    0.579821 -0.285970   \n",
       "width              0.188829           0.189867    0.615077 -0.245800   \n",
       "height            -0.062704           0.259737   -0.087027 -0.309974   \n",
       "curb-weight        0.167562           0.156433    0.757976 -0.279361   \n",
       "engine-size        0.209523           0.028889    0.822676 -0.256733   \n",
       "bore              -0.055390           0.001263    0.566936 -0.267392   \n",
       "stroke             1.000000           0.187923    0.098462 -0.065713   \n",
       "compression-ratio  0.187923           1.000000   -0.214514 -0.435780   \n",
       "horsepower         0.098462          -0.214514    1.000000  0.107885   \n",
       "peak-rpm          -0.065713          -0.435780    0.107885  1.000000   \n",
       "city-mpg          -0.034696           0.331425   -0.822214 -0.115413   \n",
       "highway-mpg       -0.035201           0.268465   -0.804575 -0.058598   \n",
       "price              0.082310           0.071107    0.809575 -0.101616   \n",
       "city-L/100km       0.037300          -0.299372    0.889488  0.115830   \n",
       "diesel             0.241303           0.985231   -0.169053 -0.475812   \n",
       "gas               -0.241303          -0.985231    0.169053  0.475812   \n",
       "\n",
       "                   city-mpg  highway-mpg     price  city-L/100km    diesel  \\\n",
       "symboling         -0.035527     0.036233 -0.082391      0.066171 -0.196735   \n",
       "normalized-losses -0.225016    -0.181877  0.133999      0.238567 -0.101546   \n",
       "wheel-base        -0.470606    -0.543304  0.584642      0.476153  0.307237   \n",
       "length            -0.665192    -0.698142  0.690628      0.657373  0.211187   \n",
       "width             -0.633531    -0.680635  0.751265      0.673363  0.244356   \n",
       "height            -0.049800    -0.104812  0.135486      0.003811  0.281578   \n",
       "curb-weight       -0.749543    -0.794889  0.834415      0.785353  0.221046   \n",
       "engine-size       -0.650546    -0.679571  0.872335      0.745059  0.070779   \n",
       "bore              -0.582027    -0.591309  0.543155      0.554610  0.054458   \n",
       "stroke            -0.034696    -0.035201  0.082310      0.037300  0.241303   \n",
       "compression-ratio  0.331425     0.268465  0.071107     -0.299372  0.985231   \n",
       "horsepower        -0.822214    -0.804575  0.809575      0.889488 -0.169053   \n",
       "peak-rpm          -0.115413    -0.058598 -0.101616      0.115830 -0.475812   \n",
       "city-mpg           1.000000     0.972044 -0.686571     -0.949713  0.265676   \n",
       "highway-mpg        0.972044     1.000000 -0.704692     -0.930028  0.198690   \n",
       "price             -0.686571    -0.704692  1.000000      0.789898  0.110326   \n",
       "city-L/100km      -0.949713    -0.930028  0.789898      1.000000 -0.241282   \n",
       "diesel             0.265676     0.198690  0.110326     -0.241282  1.000000   \n",
       "gas               -0.265676    -0.198690 -0.110326      0.241282 -1.000000   \n",
       "\n",
       "                        gas  \n",
       "symboling          0.196735  \n",
       "normalized-losses  0.101546  \n",
       "wheel-base        -0.307237  \n",
       "length            -0.211187  \n",
       "width             -0.244356  \n",
       "height            -0.281578  \n",
       "curb-weight       -0.221046  \n",
       "engine-size       -0.070779  \n",
       "bore              -0.054458  \n",
       "stroke            -0.241303  \n",
       "compression-ratio -0.985231  \n",
       "horsepower         0.169053  \n",
       "peak-rpm           0.475812  \n",
       "city-mpg          -0.265676  \n",
       "highway-mpg       -0.198690  \n",
       "price             -0.110326  \n",
       "city-L/100km       0.241282  \n",
       "diesel            -1.000000  \n",
       "gas                1.000000  "
      ]
     },
     "execution_count": 8,
     "metadata": {},
     "output_type": "execute_result"
    }
   ],
   "source": [
    "df.corr()"
   ]
  },
  {
   "cell_type": "markdown",
   "metadata": {},
   "source": [
    "The diagonal elements are always one; we will study correlation more precisely Pearson correlation in-depth at the end of the notebook."
   ]
  },
  {
   "cell_type": "code",
   "execution_count": 9,
   "metadata": {},
   "outputs": [
    {
     "data": {
      "text/html": [
       "<div>\n",
       "<style scoped>\n",
       "    .dataframe tbody tr th:only-of-type {\n",
       "        vertical-align: middle;\n",
       "    }\n",
       "\n",
       "    .dataframe tbody tr th {\n",
       "        vertical-align: top;\n",
       "    }\n",
       "\n",
       "    .dataframe thead th {\n",
       "        text-align: right;\n",
       "    }\n",
       "</style>\n",
       "<table border=\"1\" class=\"dataframe\">\n",
       "  <thead>\n",
       "    <tr style=\"text-align: right;\">\n",
       "      <th></th>\n",
       "      <th>bore</th>\n",
       "      <th>stroke</th>\n",
       "      <th>compression-ratio</th>\n",
       "      <th>horsepower</th>\n",
       "    </tr>\n",
       "  </thead>\n",
       "  <tbody>\n",
       "    <tr>\n",
       "      <th>bore</th>\n",
       "      <td>1.000000</td>\n",
       "      <td>-0.055390</td>\n",
       "      <td>0.001263</td>\n",
       "      <td>0.566936</td>\n",
       "    </tr>\n",
       "    <tr>\n",
       "      <th>stroke</th>\n",
       "      <td>-0.055390</td>\n",
       "      <td>1.000000</td>\n",
       "      <td>0.187923</td>\n",
       "      <td>0.098462</td>\n",
       "    </tr>\n",
       "    <tr>\n",
       "      <th>compression-ratio</th>\n",
       "      <td>0.001263</td>\n",
       "      <td>0.187923</td>\n",
       "      <td>1.000000</td>\n",
       "      <td>-0.214514</td>\n",
       "    </tr>\n",
       "    <tr>\n",
       "      <th>horsepower</th>\n",
       "      <td>0.566936</td>\n",
       "      <td>0.098462</td>\n",
       "      <td>-0.214514</td>\n",
       "      <td>1.000000</td>\n",
       "    </tr>\n",
       "  </tbody>\n",
       "</table>\n",
       "</div>"
      ],
      "text/plain": [
       "                       bore    stroke  compression-ratio  horsepower\n",
       "bore               1.000000 -0.055390           0.001263    0.566936\n",
       "stroke            -0.055390  1.000000           0.187923    0.098462\n",
       "compression-ratio  0.001263  0.187923           1.000000   -0.214514\n",
       "horsepower         0.566936  0.098462          -0.214514    1.000000"
      ]
     },
     "execution_count": 9,
     "metadata": {},
     "output_type": "execute_result"
    }
   ],
   "source": [
    "# Write your code below and press Shift+Enter to execute \n",
    "df[['bore','stroke','compression-ratio','horsepower']].corr()"
   ]
  },
  {
   "cell_type": "markdown",
   "metadata": {},
   "source": [
    "Double-click <b>here</b> for the solution.\n",
    "\n",
    "<!-- The answer is below:\n",
    "\n",
    "df[['bore', 'stroke', 'compression-ratio', 'horsepower']].corr()  \n",
    "\n",
    "-->"
   ]
  },
  {
   "cell_type": "markdown",
   "metadata": {},
   "source": [
    "<h2>Continuous numerical variables:</h2> \n",
    "\n",
    "<p>Continuous numerical variables are variables that may contain any value within some range. Continuous numerical variables can have the type \"int64\" or \"float64\". A great way to visualize these variables is by using scatterplots with fitted lines.</p>\n",
    "\n",
    "<p>In order to start understanding the (linear) relationship between an individual variable and the price. We can do this by using \"regplot\", which plots the scatterplot plus the fitted regression line for the data.</p>"
   ]
  },
  {
   "cell_type": "markdown",
   "metadata": {},
   "source": [
    " Let's see several examples of different linear relationships:"
   ]
  },
  {
   "cell_type": "markdown",
   "metadata": {},
   "source": [
    "<h4>Positive linear relationship</h4>"
   ]
  },
  {
   "cell_type": "markdown",
   "metadata": {},
   "source": [
    "Let's find the scatterplot of \"engine-size\" and \"price\" "
   ]
  },
  {
   "cell_type": "code",
   "execution_count": 10,
   "metadata": {
    "collapsed": false,
    "jupyter": {
     "outputs_hidden": false
    },
    "scrolled": true
   },
   "outputs": [
    {
     "data": {
      "text/plain": [
       "(0, 56225.455263472904)"
      ]
     },
     "execution_count": 10,
     "metadata": {},
     "output_type": "execute_result"
    },
    {
     "data": {
      "image/png": "iVBORw0KGgoAAAANSUhEUgAAAZIAAAEGCAYAAABPdROvAAAABHNCSVQICAgIfAhkiAAAAAlwSFlzAAALEgAACxIB0t1+/AAAADh0RVh0U29mdHdhcmUAbWF0cGxvdGxpYiB2ZXJzaW9uMy4xLjEsIGh0dHA6Ly9tYXRwbG90bGliLm9yZy8QZhcZAAAgAElEQVR4nO3deXxcd3no/88zq0abLcn7FkuOE5OdxDEJSRxDKCSFJml/oTi3QIBAnACFvnqhhHtbStPyu+S2lzZpL8EhSbNQCMGUxlACJDGOE2ontkM2Jya25U3eZGuXZjTLme/945wZj0Yz0oxmRqMZPe/XSy9JX805c45kzzPf5fk+YoxBKaWUmihXuS9AKaVUZdNAopRSqiAaSJRSShVEA4lSSqmCaCBRSilVEE+5L2CyzZo1yyxdurTcl6GUUhVl586dp4wxszP9bNoFkqVLl7Jjx45yX4ZSSlUUETmY7Wc6tKWUUqogGkiUUkoVRAOJUkqpgmggUUopVRANJEoppQqigUQppVRBNJAopZQqiAYSpZRSBdFAopRSqiDTLrNdKaVU7sIxi75gdMzHaCBRSik1ijGGnmCUvlAUj0vGfKwGEqWUUiOEIhanBsNErbjTooFEKaVUDqy4oWsozOBwLK/jNJAopZRiMByjazCMFTd5H6uBRCmlprGoFadrMEIwkl8vJJUGEqWUmqb6glF6ghHiJv9eSCoNJEopNc2EYxYnB8JEYvHxH5wDDSRKKTVNGGPoHorQFxo7LyRfGkiUUmoaCEZidA1GUpb0Fk9Jt0gRkQMi8rqIvCIiO5y2ZhF5WkT2OJ+bUh7/VRHZKyK/E5EPpLRf4pxnr4jcKyLitPtF5IdO+4sisrSU96OUUpXGihs6+4c53jdckiACk7PX1nuMMRcZY1Y6398JPGuMWQ4863yPiJwDrAXOBa4Fvi0ibueY+4DbgOXOx7VO+61AjzHmTOAfgbsn4X6UUqoiDAxH6egJMhie+IqsXJRj08YbgEecrx8Bbkxpf9wYEzbG7Af2AqtEZD7QaIzZaowxwKNpxyTOtQG4JtFbUUqp6SpqxTnWF+LkwMTyQvJV6kBigF+JyE4Ruc1pm2uMOQbgfJ7jtC8EDqcc2+G0LXS+Tm8fcYwxJgb0AS3pFyEit4nIDhHZcfLkyaLcmFJKTTXGGHqDETp6QoQi1qQ9b6kn268wxhwVkTnA0yKye4zHZupJmDHaxzpmZIMx9wP3A6xcubL04VkppSbZcNTeH6tYS3rzUdIeiTHmqPO5E/gJsAo44QxX4XzudB7eASxOOXwRcNRpX5ShfcQxIuIBZgDdpbgXpZSaiuJxw6nBMEd7Q2UJIlDCQCIidSLSkPgaeD/wBrARuMV52C3Ak87XG4G1zkqsVuxJ9Zec4a8BEbnMmf/4eNoxiXPdBGxy5lGUUqrqBSMxOnpC9Bc5LyRfpRzamgv8xJn79gDfN8b8QkS2A0+IyK3AIeDDAMaYXSLyBPAmEAM+Z4xJDPLdATwMBICnnA+AB4HHRGQvdk9kbQnvRymlpoSYFad7KFLy1VgAoajF97YdHPMxJQskxph24MIM7V3ANVmO+QbwjQztO4DzMrQP4wQipZSaDvqHo3QPFr4/1njixvDMmyd44IX9nBqMjPlYzWxXSqkKEInFOTUYZjha+tVYrx7u5dub97GncxAAn3vsWRANJEopNYXZS3qj9IailHoKuKMnyP1b9vPC3lPJtvecPZs71izjXf9/9uM0kCil1BQ1HLV36S3V1iYJA8NRHtt2kP/47VFiTgLjOfMbuGPNMs5dMAOv9kiUUqqyxOOGrqEIA8OlXY0Vs+JsfPUoj249SL9TXnduo5/brmpjzdmzyXWjEA0kSik1hQyF7V16Y/HS9UKMMfzXvi7Wb2mnoycEQK3PzUfftYQ/ungRPk9+mSEaSJRSagqIWXG6hiIMlXhJ754TA9z3XDuvHO4FwCXwwQvm84l3L6Wp1jehc2ogUUqpMusLRekZKu2S3lODYR58YT+/2nUiuY/UqqVNrLt6Ga2z6go6twYSpZQqk3DM4tRghHAJl/SGohY/2nGYx186zLCzhcrSllpuv3oZq1qbi/IcGkiUUmqSGWPoCUbpK+GS3kwJhTMDXj5xxVI+eP583K7iVdzQQKKUUpMoFLF36Y1acV5q7+bx7Yc51h9ifmOAtZcuZlVb4b2E9IRCr1u46ZJF/LdVS6jzF/9lXwOJUkpNAitu6BoKM+gss32pvZt7Nu3B4xIaazx0DYW5Z9MevsjyCQeTjp4g67e085u9Xcm295w9m89c1ca8GTVFuY9MNJAopVSJDQxH6R6KjKhW+Pj2w3hcQsBrVxQPeN2EohaPbz+cdyDpDzkJha8cTT5HakJhqWkgUUqpEolacboGIwQjo5f0HusP0Vgz8iW4xuvieH8or/MnEgoHnJ7OvMYaPnNVa14JhYXSQKKUUiXQF4zSHYxknUyf3xigayic7JEADEfjzGsMjHvuTAmFdT43fzLBhMJCaSBRSqkiyrXk7dpLF3PPpj2EohY1XhfD0TixuGHtpYvHPO7tEwN857l9vHK4D7ATCj90wQJuefcZE04oLJQGEqWUKoJ43NATjNCXY7XCVW3NfJHlPL79MMf7Q8wbZ9VWKRMKC6WBRCmlChSM2Ptj5btL76q25nEn1kNRiye2H+aH20cmFN6xZhmXLi1OQuFYPC4XjQHv2I8p+VUopVSVsuKGrsFwSUrexo3haSehsMtJKGyq9fLJK5Zy3XnFTSjMxONyMSPgpTHgGXfSXgOJUkpNQKYlvcXyyuFe7ktLKPzwJYu4uUQJhanyCSDJY0p6RUopVWUisThdQ2FCkeLvj5UpofCaFXO49apW5jWWLqEQnABS66WxJvcAkjy2RNeklFJVxRhj79IbLP7+WJkTChv53HuW8Y75jUV9rnSFBJDkOYp8TUopVXVyXdKbr2wJhbetbuXqs0qbUFiMAJI8V5GuSSmlqk48bugORujPcUlvrsqZUFjMAJI8Z1HOopRSVaZUJW/fPjHAfZv38WrH5CYUliKAJM9d1LMppVSFK1XJ25MDYR76TVpCYWsz61a3lTSh0ONyMbPOS4O/+AEk+RwlOatSatJt3t3J+i3tHO4JsriplnWr21izYk65L6ui9A9H6R4sbsnbUNTih05CYdiZY2mdVcftV7eVNKFwMgJI8rlKenal1KTYvLuTr23chdctzAx46RwY5msbd3EXaDDJQSQW59RgmOEilryNG8Ovdp3gwRf20zWUmlDYynXnzcuaUFhosSuv2x7CmowAkqCBRKkqsH5LO163UOuz/0vX+jwEIzHWb2nXQDIGYwy9wSi9RS55+4pToXBvSkLhH69czNpLF4+ZUFhIsatyBJAEDSRKVYHDPUFmpu2HFPC66egJlumKpr7hqMXJgXDe+2ONpdCEwokUuypnAEnQQKJUFVjcVEvnwHCyRwL22PyiptoyXtXUZMUN3UMRBoaLt6S3PxTl0W0HeTIlofDcBY18dk1+CYX5FLuaCgEkoeTVT0TELSK/FZGfOd83i8jTIrLH+dyU8tivisheEfmdiHwgpf0SEXnd+dm94vzWRMQvIj902l8UkaWlvh+lpqJ1q9uIWoZgJIYx9ueoZVi3uq3clzalDAxH6egJFi2IRK04G3Z28LGHXuLfXz6CFTfMa6zhax86h3vXXpR3Vvr8xgDD0ZE9pPRiV163i1kNfhY1BWis8ZY9iMAkBBLgi8BbKd/fCTxrjFkOPOt8j4icA6wFzgWuBb4tIonSYfcBtwHLnY9rnfZbgR5jzJnAPwJ3l/ZWlJqa1qyYw13Xn8uchhr6QlHmNNRw1/Xn6vyII2rFOdYX4uRAuCibLBpjeGHPKT718A6+vXkfA8Mx6nxublvdxsOfvHTCZW7XXrqYWNwQiloY7M+JYldet4vZUyyAJJR0aEtEFgEfBL4B/LnTfAOwxvn6EWAz8BWn/XFjTBjYLyJ7gVUicgBoNMZsdc75KHAj8JRzzNedc20A/kVExBR7IxylKsCaFXM0cKQpxf5YmRIK/8BJKJxZYEJhpmJXf/KuJVx7/jzqp8AQVjalniP5J+AvgIaUtrnGmGMAxphjIpL4l78Q2JbyuA6nLep8nd6eOOawc66YiPQBLcCp1IsQkduwezQsWbKk8LtSSk15xZ5Mz5RQ+K7WZtZd3cbSluIlFCaKXXndLmbWeqd0AEkoWSARkQ8BncaYnSKyJpdDMrSZMdrHOmZkgzH3A/cDrFy5UnsrSlWxYk+mT3ZCYSKANNSMXZVwKillj+QK4HoR+X2gBmgUke8BJ0RkvtMbmQ90Oo/vAFKr3i8CjjrtizK0px7TISIeYAbQXaobUkpNbcUsNjXZFQorMYAklCyQGGO+CnwVwOmRfMkY81ER+XvgFuCbzucnnUM2At8XkW8BC7An1V8yxlgiMiAilwEvAh8H/jnlmFuArcBNwCadH1Fq+oladmZ6sYpN/fZQD/c9155MKPR5XE6FwsUjllgXQyUHkIRy5JF8E3hCRG4FDgEfBjDG7BKRJ4A3gRjwOWNM4l/FHcDDQAB7kv0pp/1B4DFnYr4be9WXUmqaKPZk+uHuIPdvaec3+04nFL7vHXO49cpW5ha5QqHX7aKpzkd9iUvnTgaZbm/gV65caXbs2FHuy1BKFaiYk+mZEgrPW9DIHXkmFOaiUgOIiOw0xqzM9LPKuhOl1LQXjxu6ijSZHrXi/McrR/netvQKhW1cfdasoq6WqtQAkovquyOlVNUaDMfoGiw8qdAYwwt7u7h/SztHektbobCaA0hC9d6ZUqpqRK04XYMRgpHCi029fWKAb2/ex2slSChMNR0CSEL136FSFaAYRamqsbBVMSfTTw6EefCF/fzqzRPJtsvamrltdXETCn0eFzNrp0cASZg+d6rUFFWMolTVWNhqOGpxajBMJFbYZHoo4iQU7jidUNjmJBSuLGJC4XQMIAnT746VmmKKUZSqmgpbxeOG7mCE/lBhk+lW3PCrN0/wUJ4VCvPl87hoqvWNWbCq2k3fO1dqiihGUapqKWw1FI7RNRghFi+sF/LbQz3ct7mdvSdLl1CoAeQ0/Q0oVWbFKEpV6YWtYlacrqEIQ+HCJtMPOQmF/1XChMJKDCClnj+rnN+EUlVq3eo2vrZxF8FILFlaNd+iVMU4R7n0D0fpHowQH2cy/aX2bh7ffphj/SHmNwZYe+niZPnZvlCUx7Ye5MlXS5dQWIkBBCZn/qyyfiNKVaE1K+ZwF/Y8R0dPkEUTeMdYjHNMtkjM3h9rODr+/lgvtXdzz6Y9eFxCY42HrqEw92zaw+fiyzjSN8xjWw8y6PRm5s+o4TNXtXL1WRMrLpWuUgNIwmTMn1Xmb0apKlOMolTlKGw1kSETYwy9wSi9odyX9D6+/TAelxDw2kVTazwuuoNR7vrPt5Kruup8bj562Rn84TsXFiWhsNIDSMJkzJ9V9m9IKVU2Exkymej+WMf6QzTWeE6fYzBMyKlt7hL4gwsXcMvlxUko9HvdNNV6i77Lb7lMxvzZZNRsV0pVodQhExH7s9ctrN/SPuqx8bjh5ECYo72hCW2yOL8xwGDY4nj/MId6Qskg0ljj4cFbVvLFa5YXHET8XjfzZtSwcGagaoII2PNnUcsQjMQwxv5c7Pmz6vltKaUmVa5DJoUu6Q1FLFrqfbzS0Zts87qFBr+Hv/jACs4oMCu92nog6SZj/qw6f3NKVZhK3N5kcVMtB7oG6Q/FiFhxfG4XjQEPS1vqgcKX9GZKKPS4hFqfm9aWOm5etSS5amsiqj2ApCr1/Fn1/waVmuIqdXuTy9uaeelANy6x5ykiVpzOgQg3X9ps7481NP6S3mxePtTDd0qUUDidAshk0d+kUmVWqdubbG3vZna9j4Hh0z2Ser+bzW+f5EMXLpjQOQ91B1n/XDtb208nFF6zYg6fvqrwhEINIKWjv1GlyqxStzc53BNkVr2f2Q01GGOw4oZYPM5Rp75HPvpCUR7depCNJUgo1ABSevqbVarMKnV7k8R113jdxCyDMYbhaJx5jYGcz5GoUJieUHjb6jZWLy+sQmGN101TrY+Azz3hc6jcaCBRqswqdXuTz1zVyl89uYtILE6N18VwNE4sblh76eJxjzXG8PzeU9y/pZ2jvcMA1PndfOyyM7jxosISCjWATD4NJEqV2ZoVc7ipo5cHXtjPUMSizufm01e2Tun5kcFwjDPnNPCn7zmTx7cf5nh/iHlp+19l87vjdoXC14+kVCi8cAGfuHwpM2q9Yx47Fg0g5aOBRKky27y7kw0vH2F2g58lTo9kw8tHuGDRzCkXTGJWnFMpJW9XtTXnvAT35ECYB17Yz9MpFQrf1drM7Ve35ZQLkm3TRg0g5aeBRKkyq5RVWxNd0huKWDy+/RBP7OiYcIXCTJs23rtpD39ddw4fOG9+3veiiksDiVJlNtVXbYVjFqcGI4Rz2KU3lRU3/GrXcR78zQG6C6xQmLppo8slNNa4GY5ZPPxfBzWQTAEaSJQqsnyz1Kfqqi1jDD3BKH157NKb8PKhHu7bvI99J4eAwhMKj/WHmBnw4nG7cDkruaZSsJ3uNJAoVUQTyVKfiqu2QhGLU4P579KbKaGw0AqFAZ+bM5rr6BoK4/Oc7sVMhWCrbBpIlCqiicx3TKWiVFbc0DUUZnA4v/2xSlGhMOCzJ9FrvG4+u2bZlAu26jQNJEoV0UTnO4qxqV6hGz8OhmN0DYaTgSAXUSvOf/z2CI9tOzQioXDd6jaummBCYWoASZhKwVaNpoFEqSIq13xHIRs/Rq04XSlLenNRioTCTAEkVTkqQKrcaCBRqojKNd8x0SXEfcEoPcH8lvRmSii8/sIF3DLBhMLxAoia+nIOJCJyBrDcGPOMiAQAjzFmYIzH1wBbAL/zPBuMMX8tIs3AD4GlwAHgj40xPc4xXwVuBSzgC8aYXzrtlwAPAwHg58AXjTFGRPzAo8AlQBfwEWPMgZzvXqkiK9cQTL5DasNRezI9Ue88F539wzzwwn6eeasz2XZZWzPrVueWUJhOA0j1yCmQiMhngNuAZmAZsAj4DnDNGIeFgfcaYwZFxAu8ICJPAX8EPGuM+aaI3AncCXxFRM4B1gLnAguAZ0TkLGOMBdznPP827EByLfAUdtDpMcacKSJrgbuBj+T1G1CqyMoxBJPrkFo8bugJRugLRXM+dzESClPV+jzMrPVqAKkiufZIPgesAl4EMMbsEZEx/6cYe+H5oPOt1/kwwA3AGqf9EWAz8BWn/XFjTBjYLyJ7gVUicgBoNMZsBRCRR4EbsQPJDcDXnXNtAP5FRMTku+hdqQqXy5BaMBLj1EDuJW+zJRR+6opWrs0zoRA0gFSzXANJ2BgTSazAEBEPdlAYk4i4gZ3AmcD/Nca8KCJzjTHHAIwxx1IC0kLsHkdCh9MWdb5Ob08cc9g5V0xE+oAW4FTaddyG3aNhyZIlOd6yUpVjrCG1iZS8zZRQ+McrF7H20vwTCjWAVL9c/0U8JyL/AwiIyO8BnwV+Ot5BzrDURSIyE/iJiJw3xsMzvb0xY7SPdUz6ddwP3A+wcuVK7a2oqpRpSK1/OEr3YO6T6ZkSCn/vnLncesVS5uSZUKgBZPrINZDciT0f8TqwDnue4oFcn8QY0ysim7HnNk6IyHynNzIfSMzcdQCphQwWAUed9kUZ2lOP6XB6STOA7lyvS6lqFYnFOTUYZjjH/bH6glEe3TayQuH5Cxv57JozOXteQ17PrQFk+sk1kASAh4wx34XkkFUAyJplJSKzgagTRALA+7AnwzcCtwDfdD4/6RyyEfi+iHwLe7J9OfCSMcYSkQERuQx7jubjwD+nHHMLsBW4Cdik8yNqOjPG0BuM0pvj/liRWJz/eOUIj207yFDYDjrzZ9Sw7uo2rjozv4RCDSDTV66B5FnsQJCYPA8AvwLePcYx84FHnKDjAp4wxvxMRLYCT4jIrcAh4MMAxphdIvIE8CYQAz7nDI0B3MHp5b9POR8ADwKPORPz3dirvpQqq3ufeXtUkaovvO+skj/vcNTi5EBu+2MZY3h+zynuf77whEINIEpyedciIq8YYy4ar60SrFy50uzYsaPcl6Gq1L3PvM09m/biEjtRL27sjy++98ySBZN43NAdjNCf45LeTAmFN1y0kI9fdkZeCYW1Pg9NdV78Hg0g04GI7DTGrMz0s1x7JEMicrEx5mXnhJcAoWJdoFLV4oEX9uMS8Ljsd/QugVg8zgMv7C9JIMlnSW+mCoWXtTVz++plLGnJfQsX7YGodLkGkj8DfiQiiUnu+Wjin1KjDEUs0keFXGK3F5MVN3QNhpMbJY4lY0Lh7Do+e/UyLj6jKefn1ACisskpkBhjtovICuBs7CW3u40xuafGKjVN1PnsZMDUXL24sduLZWA4SvdQZNxdejMlFDbX+fjku5fmlVCoAUSNZ8xAIiLvNcZsEpE/SvvRchHBGPPvJbw2pSrOp69s5Z5Ne4nF4yPmSD59ZWvB545a9pLeUA69m5cP9nDfc4UlFGoAUbka71/U1cAm4A8y/MwAGkiUSpGYBynmqi1jDH2hKD3B8Zf0HuoKsn7L6AqFn76yNeeEwjq/hxkBDSAqd+Ou2hIRF3CTMeaJybmk0tJVW6qS5LpLb18wyiNbD7Dx1aMkRrzOXziDz65ZlnNCYb3fw4xaXYWlMito1ZYxJi4inweqIpAoVQly3aU3a0JhHhUK6/0eZtb6JlSMSinIfdXW0yLyJew6IkOJRmOMbkeiVJEFIzG6BiNjJhYmEgrXb2nnWN/phMKPX3YGN+SYUKgBRBVLroHkU9hzIp9Nay9t2TelKtBEa6fnuqR39/F+7tu8j9eP9AP5JxRqAFHFlmsgOQc7iFyJHVCexy5spZRKMdHa6bks6c1UofDythbWrW7LKaFQA4gqlVwDySNAP3Cv8/3NTtsfl+KilKpU+dZOz2VJbzAS4/Hth3liR0dy0n3Z7DruyDGhsL7Gw8yABhBVOrkGkrONMRemfP9rEXm1FBekVCXLtXZ6Lkt6rbjhl7uO81BaQuGtVyzl/eeOn1CoAURNllwDyW9F5DJjzDYAEXkX8JvSXZZSk2Oi8xnZ5FI7PZclvTudhMJ2J6HQ73HxkZWL+ciliwmMkSUvItT53TTV+vC6NYCoyZFrIHkX8HEROeR8vwR4S0Rexy7PfkFJrk6pEprofMZYxqqdnsuS3kNdQb6zZR/b2k8viMw1obC+xqMBRJVFroHk2pJehap6xX7nXwz5zmfkIlvt9FVtzXT0hLLu0ltIQqEGEFVuuW7aeLDUF6KqVyne+RdDrvMZ+UqtnR6z4nQNRTju5HqkK6RCoQYQNVXk2iNRasJK8c6/GHKZz5goYwz9oRg9wQjxDJPphSQUagBRU40GElVypXrnX6ix5jMKMd5keqaEwusvXMAtly8dM6FQA4iaqjSQqJIr5Tv/QmSbz5hoL8mKG7qHIgwMZ55MP9E/zIMTSCjUZbxqqtNAokou33f+kzkxnzqfUYixMtODkRg/eOkwP9qZX0KhBhBVKTSQqJLL551/ton5mzp62drePaVWfcHYmelW3PDUG8f519/spydo91Ka63zcemUr7z9nbtaEQg0gqtKMW4+k2mg9kqnt5vu3jRoGOzU4TPdQlEVNgRE9mruuP7dswcQYQ08wSl8oc2b6zoM93Ld5H+2nTicU2hUKl2RNKNQ5EDWVFVSPRKnJlGlivi8YxYqbrKu+JjtHZShsb/OeKSfkYNcQ67e0j0gofP85c7n1ylZmN/gznk8DiKp0GkjUlJJpYj5sxalJq9qXWPU1mTkqUStO12CEYGT0Nu99wSgPbz3AT1MSCi9YNIM7rs6eUKhDWKpaaCBRU0qmiXmPy0VDzch/qolVX5ORo2KM4eevHeO7L+znWF+I+Y0B1l66mFVtzURicX7y2yN878XTCYULZtawbvUyrjyzJWNCoQYQVW00kKgpJdPE/A0XLmDDy0cyrvr6yyffKChHZbxhseGoxc9ePcr/efptPC6hscZD11CYf3r2ba45MpdNv+tMJhTW+z187LIl3PjOhRmHqTSAqGqlgURNOZmW5F6waGbGVV+Lt0w8R2Xz7k6+vOFVBoZjxOJxTg2E+fKGV/n7my5k9Vmz6Q5G6A9F+d62Q3hcQsB7eniteyjKv71k72Hqdgk3XLiAj11+BjMCoxMKNYCoaqeBRFWEbPkehWSn3/2L3fQEo7hdgsftwhjoCUb5Xz9/i7bZ9cnJ9GP9IRprPM5S3wgDKaVw372shdtWt7GkeXTg0oqEarrQQKIqWiHZ6e2nhnAJuJLzGAbB0N41NGJF1pz6Gg52DzEwHCOx0NfrFpY01fJ3N5436ry1Pg9NdV78nux1Q5SqJiULJCKyGHgUmAfEgfuNMfeISDPwQ2ApcAD4Y2NMj3PMV4FbAQv4gjHml077JcDDQAD4OfBFY4wREb/zHJcAXcBHjDEHSnVPamoqRna6MYb0bBArbvjFG8fZ3zXEoNMLcTvzJH6Pi89cNbLXU+vzMLPWS41XA4iaXkrZI4kB/90Y87KINAA7ReRp4BPAs8aYb4rIncCdwFdE5BxgLXAusAB4RkTOMsZYwH3AbcA27EByLfAUdtDpMcacKSJrgbuBj5TwnlQVaW2pZU/nIJg4CBgDcQNnNAVGJRR63UJzrQ+DYcGM2uSqLdAAolTJAokx5hhwzPl6QETeAhYCNwBrnIc9AmwGvuK0P26MCQP7RWQvsEpEDgCNxpitACLyKHAjdiC5Afi6c64NwL+IiJjplq6v8maM4fPvWc5fbXyDoUiMeNzgcgl1Hg8+j5svb3gt+dhsCYXpAWQqFu9SajJMyhyJiCwF3gm8CMx1ggzGmGMikvifthC7x5HQ4bRFna/T2xPHHHbOFRORPqAFOJX2/Ldh92hYsmRJsW5LVajhqMXJgTDnLGzkKx9YwePbD3O0N0jcQHcwwu4TA0D2hMJMPZCpWrxLqclQ8kAiIvXAj4E/M8b0j1HxLdMPzBjtYx0zssGY+4H7wd5ra7xrVuVVqnf2mbZ5v2jJTNq7hvi3FwfGTSgM+Nw01foyDmFN1eJdSk2GkgYSEYTUe64AACAASURBVPFiB5F/M8b8u9N8QkTmO72R+UCiOEMHsDjl8EXAUad9UYb21GM6RMQDzAC6UVNKtsCQqR0oyTv7/uEoPSnbvBtjeO7tU3z3+faRCYWXn8GNFy0YkVBY43XTXJc5gCRM1eJdSk2GUq7aEuBB4C1jzLdSfrQRuAX4pvP5yZT274vIt7An25cDLxljLBEZEJHLsIfGPg78c9q5tgI3AZt0fmRy5NprGGtb+A0vHxnVXudzF/WdfThm0TUYYTh6epv3t4718+3N+9h11K5Q6HYJN1y0gI9dNjKh0Odx0VznG5HsmM1ULd6l1GQoZY/kCuBjwOsi8orT9j+wA8gTInIrcAj4MIAxZpeIPAG8ib3i63POii2AOzi9/Pcp5wPsQPWYMzHfjb3qS5VYPvMB67e0E7UsugZjRKw4PrcLv8fFPZv2Itjbq8+q99MY8BKMxNjbOYjXLUTjBp/bxewGP/V+T97v7ONxQ08wQv9wLLnN+4n+YR54fj/P7j5dofDdy+wKhYtTEgq9bhdNdT7q/bn/91i3uo0vbXiVI70hrLjB7RLq/R7+6oPn5HXdSlWiUq7aeoHMcxgA12Q55hvANzK07wBGZX4ZY4ZxApGaPJmCQ2PAk7HXsKdzgL5gFJdLcLuEiBVnKKUIlBWx7F4NtYAhGjcgdi8hFjcc7R2mpd7L0pb6Ma8ptYe0YEaAmy5ZyMql9vLcTBUKz5xdzx1r2njnktMVCr1uFzNrvTTUZK+bPhYBMPawGUay/uNXqtpoZrvKW3pwiMUNpwYiRK2BUY+NxOwcjUT2eMwaWcPDYOdvHOwO4nMLXmdqwsRBBOIYuoei/K8/bBtzruVrG3fhcUGdz82xvhD/+Mwe/vQ9Z3JqKDKiQmFLnY9PpVUoLDSAgB1cGwNe5s0IJNt0sl1NFxpIVN7Sg4MIxMUk3+2n8rqFUNQeahLJsKQu9byWYU69j4DPw6nBcLK3E3CiS7bhtPVb2nEJyf2yAl43PcEId/3nmwxH7Wvye1x85NLFfOTSxcnNF71uFzNqvTT4PRm3e8+HTrar6UwDicrbqODgRAefe/SL8VlzG9l/apCBYXsYbDy9oShzZwRodF6Ug5EYcxpqsi6vve+5fRzsHqLB7wED4ZhdQz11+Cw9obCYASRhcVMtB7oG6Q+NHO4bb0hOqWqg25JOY5t3d3Lz/du48u5N3Hz/NjanTEKP5ay5jbTU+fC4BcsYPG6hpc7H8rmNox67bnUbPo+beTNqOHtuQ8ZgA/b8glvsXkkwYk+QByOx5E6+h3uCI7ZxN8bgdbs42DXEvIYAx/uGebtzkIPdwWQQqfO5+c5HL+bO61Ywu8GPx+ViVoOfRU0BGmu8RQsiAJe3NdM5ECFixXEJRKw4nQMRLne2UVGqmmkgmaYS8wqdA8MjhopyCSbzGn2c6Lff9ccsg9/jwudxZ9y6fc2KOdx1/bnMaaihLxRl2ex6Gv2j8zE8znyLxwVel7Cnc5COnhB1Pvuxi5tqCTlLeOPGELUMQ2G7tzIYjjIQtkad87LWJs6a24DH5aKl3s/i5uIHkISt7d3Mrvfhc7uIG+wVZ/U+trZrWpOqfjq0NU3ls/Iq1b3PvM3G146TeC02BrqDUa4+a9a4k8oGmFnr47rz5vGd59oJRi0E8Ljs+RbLGGbUeNh3aoioZY+X7Ts5yJc3vMrHLjuDH+3sIBaP4nMLoYjFYMRiKByjOxjN+Hwv7u+hpc5PY2DiQ1i55ssc7gkyq97P7Iaa0/drjM6RqGlBeyTT1J7OAU4NRIg5OQ+JlVd7OkevvEr1wAv7cQn4PW5qPG4CXjuB8NndJzM+PlPPZ8PLR7j96jZm1fvwe10ggrgg4HXRG7KHswR7uCti2dua/Oy1Y/zpe8+kKeCjayhCTzBKbzCaNYgADEUsZtROvAeST68ttceUoAmJarrQQDJNpa68EsRegSVkXHmVaihi4Up7XXYJIya3U6VOkovYn71uYWt7N/9w04W8c3ET8xpreOfiJhY11eJ0ROxlwc45LAP7u4ZY3FxLS72P7qFo8vmuWNaSNV/DlX6heVq/pZ1IzOJ43zC/OzHA8b5hIjGL9VvaRz123eo2olnmd5Sqdjq0VUbl3HY8n5VXqep8djnb1NfouCE5l5FurGWx6QWprrx7U9bnjVmGW/51e8aEwg/98xaCkdELi2u9o+8ln9/52yf66QlGMcYOajHLIhS1RuXCQGGVGpWqdBpIyqTc246nL8v1uV001HhpnTX2ctVPX9nKPz27h6g1sgfyofNnZ3x8PntQLW6qpaMnlPE8Bru31FLn49YrW/m9c+bicbtorPFwwcImdh/vp384RtzYPaTGGg/vmD9jxDny/Z0HIxbxlPiUSJ7M1vsqRqVGpSqRDm2VSbYhn0zDJqWQvix33oyarCuvUl2waOaoXosAL+ztyjh3MNaQT/ry43e1No06PtXHLz+DRz+1iuvOn09TnY/FTQFa6v3cfvUyGgM+WmfVcd6CRlpn1dEY8I26l3x/5zEnigh20qWktSulbBpIyiQ9LwImNxM6fVnunIYa7rr+3HHfUa/f0g4ieFyCK/HiKtAXimZ8Qc72PMCIiezjfSF+uKODWXXeUXMefo9wzvxGPvHupcxutPNAZtX78ThbvWd6jpsuXsj6Le0jcmTy/Z27xF6OLAIY+3NihZlS6jQd2iqTqbDt+ESGYg73BIlaBituTr/gG3t1VbYVX5me5+b7t+F1CzVeNzFnnqZ/OJosLgX2Kq7GGi8ul3DbVa0saqrF58n83if1ObINYTX4PYSiVs6/87ZZdexxdiNOzCNZcUPbrLocf1tKTQ/aIymTSl3ls7ipNrkte3KNrmO8FV+pDnUP4XUJ4ZjFqYEwB7qCySAyq85Ha0sdjTUeFjXV8rfXn8uNFy/KGkTSZVttZZxExlx/51+5dgVNtXYPKWbFEaCp1stXrl2R8fET3SlAqUqnPZIyqdRVPutWt7GtvQs4vdILwO0af8VXQjASY3a9n8M9QfpCseScg0tgfmOAhz65khkBH011Xvye7FUJs3n7hD3x7kJwixCzDF1DEWJWnH/48EU5/87XrJjD3990YU6PL/fiCaXKSQNJGRV7lc9ElxPnc9yaFXNYMa+BvZ0DJDogfo+9Dft4K76iVpyuwQg7D3bTHYzSNXQ6mbDe76bO5+G/v/8szmipG7Os7Xj30BuyexwepwcjYi9zjlgm7995ro/Xmu1qOtNAUmTlyg2Z6DviiRz3lWtXJI8JeO28krGGiIwx9IWivHVsgO8+386mlCGfGTVevG5Y0lLHutVtfOC8+QXf+7HeEHEDUctKbi2PIeehsYnQbeTVdKaBpIjKObwx0XfEEzkun2G5YCTGj3d08M+/3kvnQDjZfuacet5z1mx2Huzh+MAwfo87OYyVbzBOv4car5vhmJ0DYjklexvrxq+yWIjFTbXsPt5HX+h0LsuMgIcV82aMf7BSFU4DSRGVc3hjou+IJ3rceEM+UStO58Aw//CLt3ny1SPJxD63QH2Nl9VntvDUruP4PS6aa33JoHtTRy8bXj6SVzA+3BPELdB+cpCIFcftVNByiXD23IZxe0zFMK/Rx9b2WPL7uIGeYIx5jb6SPadSU4UGkiIq5/DGRJcTJ46LWSZZldDtEpY2T2wZsjGGnmCUZ946wX2b97H/1BBAcsVTS72fmBVnw8tHmN3gHxV0H3hhP3V+d167Ejf4PezpHMTtbEVvjL0/F8bwxtF+3C7h+gvmlTSYP7v7JG45nf2eSGDMtpmlUtVEl/8WUTl3gJ3ocuJ1q9voC0U50hsi6ixxTaxyynf56mA4xvNvn+L27+3kLza8lgwiDTUels6qZd6MAH6Pizq/h6GIlTE5cDAcy3tX4uRyZGcuJJq2DNmKG5589Rj3PvN2XveTj6GIhcct9q7IXnuYzuOWrNupKFVNtEdSROtWt/G1jbsIRmI5TUIX00SXE69ZMYcaj4u4McTi9tj+rDofDQFv1l5A+hzGrVcsZX5TgPXPtfOz144mh7EuXDSD4ahFOBanzne6JkgwEktu/pjegxLnrXwu9eATBiMWC2fWcGrQrlCY+sjEguS4ge88184X3nfWuL/Lich3M0ulqokGkiIqd27IRJYTb97dybH+YWfLE3tYqCcUJeDLPCSXWFAQiVn0h6Ic7Qnx4v4u3C5JFqNa1BTg9quX8cHz5/HbQ718/advEopaI4Lrp69sZcPLR0YF3Vqvi+FYPK9diRPDc22z7cn014/0nf5h4jADwWjpegefvrKVezbtJRa3S+3Gjf3x6StbS/acSk0VGkhKpFK29Vu/pR2vy4UBROytQIjDiYEw71w8ehPF9Vva6Q+F6Q2lvCgbiFuGgNfNp65cykcvO4M5DTW4XcJ73zEXl0jG4HrBopmj2tdvac97V+L0nmBCeugp5RZZiZ7OAy/sZyhiUedz8+krW0vWA1JqKtFAUkSVlt28eXcnLx/qIRKLJwNfciNGIxmH5N4+0T8yiKSY1+jnz953Fl73yKm3bD2lbO1f27iLeTM8o4YHsy0LTu8J+txCxDL2PaVE9IUzakY9VzF94X1naeBQ05IGkiKqpOzmzbs7+fKGV0cEESA5v7F4Zs2Ia47E4rxxpI/eUIxsDnYFRwWRfGUbHgT48oZXGRiOEYvHOTUQ5ssbXuXvb7owGUxSN238wg9eZtCpJ+ISqPe5+bsbzy/o2pRSmWkgKaL0fAaf28Wset+UzG6++xe77ep/GX7mcUlyktiKGzp6gqx/rp0f7TyMNUYtjjhw7zNvF/yuPFNP5bp/2kJPMIrbJcls9Z5glLt/sXvUY9esmMO9N19ccfuYKVWpNJAUUXo+QyxuONI7zPI5pcuonqj2U0PJYaz00ODCcHIwTNdgmO+/eIiHfrOfnmA002lGeeCF/SUZ3klcb+pqLiOGdmeJcTqtVqjU5NFAUkQj8hlSPhszdafeU1dGJcSxC1X9/j3Pc8LZ1qTG42JmrQ8rbnFqMHNPBmBgOPvQl1KqOmlCYhEl8hk8bsEyBo9bWDizZkompbW21GLFDZlGqmJx++PEQBgBrj1vHj/57Ltxu2BuY4AlY2S9lypktrbU2ktq4wZjDHHn2ltbJq8QmFIqs5IFEhF5SEQ6ReSNlLZmEXlaRPY4n5tSfvZVEdkrIr8TkQ+ktF8iIq87P7tXnKw2EfGLyA+d9hdFZGmp7iVXi5tq8bhdtM2uZ8W8Rtpm1+Nxuya16mGufv/8+VjjvOq7BB7+5CruXftO3rFgBkua6whFLRrTtoGZDHde9w5qvS6i8TjDsTjReJxar4s7r3vHpF+LUmqkUvZIHgauTWu7E3jWGLMceNb5HhE5B1gLnOsc820RSSQE3AfcBix3PhLnvBXoMcacCfwjcHfJ7iRHlVT18Kk3jo/7x48buPrs2cnt11PvbyIKrSDo87rxeVx43YLP48KXZ80SpVRplCyQGGO2AN1pzTcAjzhfPwLcmNL+uDEmbIzZD+wFVonIfKDRGLPV2BMNj6YdkzjXBuCaRG+lXNasmMNd15/LnIYa+kJR5jTUcNf1507apO/m3Z1c909bOPsvn+Lsv3yKa//xuYwv1sYY9nYO5J2gl7g/ryv/X3Mix6ZzYHhEjk2uwSSxtNrtXLRbBK/bTnRUSpXXZE+2zzXGHAMwxhwTkcQr7EJgW8rjOpy2qPN1envimMPOuWIi0ge0AKfSn1REbsPu1bBkyZKi3Uwm5VotlMgL6RqMJPea2n1ikM/+206+/SeXJK9pMBzjhT0nicXHn8/IFi6C0ez7XmULMuu3tBO1rLx29U21p3OAvmAUV8qKuFMDEaJW9s0clVKTY6pMtmd69TFjtI91zOhGY+43xqw0xqycPXv2BC9xalu/pZ3uYIT0l/hgNM5fPfkGw1GLnQe7+dPvv8zt33s5p0nxev/ofx6JgJCtU3JmlqXOezoH8t7VN1UkFk9u5ijY+4IhjLmZo1Jqckx2j+SEiMx3eiPzgcS4RgewOOVxi4CjTvuiDO2px3SIiAeYweihtKqUaauQwz1BrCyvqYd7QvzNT3exYWdHcmNFn9tFJNsBjkyLzRI9g2x5iTMDmf9JpQYCyG1X31RetxCKktdmjkqpyTHZPZKNwC3O17cAT6a0r3VWYrViT6q/5AyDDYjIZc78x8fTjkmc6yZgk5nKCRtFkm2uocE/9nuCH7x0mKhlaKn3cee1K2ip87KkqWbMbc7DGV7kEwEhmxcP9GRs9zov+KnLdyH3QHDW3Ebq/e4Rq7bq/W6Wz23M6XilVOmUrEciIj8A1gCzRKQD+Gvgm8ATInIrcAj4MIAxZpeIPAG8CcSAzxljEu+H78BeARYAnnI+AB4EHhORvdg9kbWlupepJNt+XuPF0BqPi7WrFvPJK1pZ1FTLc2+fpHNgmFn1Loa6c9/CJdEzyCZbT+WsuY157+qb6vK2Zl460I3bJXidbdr7hy0ub2vO+dqVUqVRskBijLk5y4+uyfL4bwDfyNC+AzgvQ/swTiCaTrLt59UbHHtJ7uPrLmfFvAZqnCWz61a38SVncj6bTN3VREA43h/O67oTW71n2tU3F1vbu5ld70sLRB62tnfzhbyuRClVbLpFSgXZvLuT7sEIwaiFYPcOolacjp7QqG1O0l20eOaotmDEGnPSvbludOJhIiDkq9CiX4d7gsyq9zO74fRW8MaYKbkhplLTjQaSCpGYGwnH7BE/A0Qsk1oAMC9/9eQbBMfZuqU/w5bxiYDwiYe3ZzxmrBmPQpZGJ6ogppfmnYq7Big13WggqRDrt7QTiVmjtjXJNYCkr/Q63BMa95hIlgmPNSvmsLgpkPEci5oCOV5RftKrIOY7NKaUKp2pkkeixnGoe4j+sWa5x5G+0isXY/Uu/vaG86hNW/FV63PztzeMms4qinLvGqCUyk57JBVgYNh+4TzSm1sAyCR9pVcuWup9Y/681ucmbgyWk2SYHliKTWuMKDU1aY9kChsMxzjcHeTAqSGO9BY2qRzIc4PDROZ6tr2w1m9pZ0bAy/I5DayY18jyOQ3MCHh17yulpiHtkUxBQ+EYPcEIoYjFz18/xr/+5gC9BQxridgT07n2ROp8bmbV+/E4myJm6gUc7gkyM207+YDXrauolJqGNJBMIcFIjJ5glHDUYvuBbu7bvI8DXYW/MC+cUZPc/j0xUe1xkdxSJXVK3e8W2mbbSYJjLa/VVVRKqQQd2poCQhGLI70hjvcNs/tYP3f++DW+8uPXOdAVRIDrzps34XO7BP7uxvNHTVR/4b3Laan34ffa9T1cYv9jmDfj9KqrsQJDJdVeUUqVlvZIymTz7k6+vXkfh3qGmNcQ4EMXzOfVI73852vHktuMXLR4Jp9ds4zlcxt46o3j456z0e+mP3w6N8Qt8MVrlieHptKHqC5YNDOZIFjv93ByMIzHLRhjxl1eW2iCoVKqemggyUGm3XYLecH85RvH+JufvonbJdT53OzvGuQbP38rOcS0qCnA7Ve3cXlbC7V+D7Pq/eOe04U9ROVy9qFyib2q6oJFozPaE9JXQSXuM9fAoKuolFKggWRciYxyr1tG7LZ7F6Pf4Y8nMQdy3+Z2XAJRK86xPrtGB9hV/+5Y08b1Fy7A73XTUu+nfpxdfRMMEIrG8bpcyW3WQ9E433zqrZyvUwODUmoiNJCMI9tuu7lW9gN7DqQ7GCEctYedDnYPEYpYDKds0z4z4MHncfFHFy+iMeCludaHK6V6VGONh/7h7BszJnojiWNEwMQN+4swWa+UUmPRyfZxHO4JjsrByHWZ63DU4lhfiGN9IcJRi+N9w/ztz96kJxhNBpF6v5ulzbU01HhZ1FTLgpkBZtX7RwQRgE9f2Vq8m1JKqSLSHsk4JrLMdThqJfNAwE4s/P6Lh/jxy6crFHpcQlOtl5m1XsKxOMbAF967PLnNe7ovvO8snthxmI4s2e2z6rz0hmKIOV1BMG5g+ey6id66UkrlRHsk48hnmWuiB3K0N0QoYmHFDU++cpSPPfgSj2+3KxTOqvdx53UruOv6c1k4s5ahsMWCGQH+7sbzxh0q+7sbz2dJcy0zA55k5rkI/OFF8/mHD19EU60XAWJWHAGaar185doVxf+lKKVUCpkG1WlHWLlypdmxY0dex4y3mim9BwLw0v5u7ntuHwedOYpEhcIPr1xMwOvG63Yxq95PIM/9qca6lnxXXSmlVK5EZKcxZmXGn2kgmbjhqEVvMEowcnoSfP+pIb7z3D62O7XLBbj2vHl88oqlzKr3IyLMCHjt3oPkVq9cKaXKbaxAonMkE5ApgHQPRXjkvw7wn6+fTih855KZ3HH1Ms6cY285EvC5aanz4/PoiKJSqnpoIMlDpiGsSCzOhp0dfP+lQ8mKg4ubAtx+9TIua2tGRHC7hOY6Hw01o0vXKqVUpdNAkoNMAcQYw69/d5LvPt/Oif4wYOd6fPzyM7j+wgV43HavI1NOiFJKVRMNJGPIFEAAdh3t477N+3jz2ABgL+X9w3cu5KOXLUn2OvxeNy11vqzLeZVSqlpoIMkgWwA53jfMd59v59e/O5lsu2r5LG67qo2FTq1ylwhNdT5mBHQYSyk1PWggSZFpEh0yJxSePbeBO9a0jdgUsd7vobnOlxzWUkqp6UADCRCOWfQMjQ4gVtzwn68f4+GUCoWz6/3celUr73vHHFzO8l2v20VLvS/nCoRKKVVNpvUrXzhm90CGwqM3Q3xxfxffea79dEKh18XNq5bw4UsWJec9NCdEKaWmaSCJxOL0BiMMZgggmRIKr3MSCltS6oLUeN12hUGPTqYrpaa3aRdIYvHMdchzSSgEezK9ud5Ho+aEKKUUMA0DSTw+ckuYcNTixy8fGZFQuKgpwLrVbbx7WcuIIat6v4eWej9uzQlRSqmkaRdIEowxbNptJxR2DqQmFC7l+gvnj1h5pZPpSimVXcW/MorItcA9gBt4wBjzzfGOeeNIH/c9t4+3xkgodM6tk+lKKTWOig4kIuIG/i/we0AHsF1ENhpj3sx2zNHeEF94/JXk91ctn8Vtq9tYODMw4nF+r5tZOpmulFLjquhAAqwC9hpj2gFE5HHgBiBrIBkIx6gnc0IhaGa6Ukrlq9IDyULgcMr3HcC70h8kIrcBtznfDh68+0O/Owj8CmYBp0p+leU1He4Rpsd96j1Wj0q8zzOy/aDSA0mmiYtRlbqMMfcD9486WGRHtkIt1WI63CNMj/vUe6we1Xaflb4pVAewOOX7RcDRMl2LUkpNS5UeSLYDy0WkVUR8wFpgY5mvSSmlppWKHtoyxsRE5PPAL7GX/z5kjNmVxylGDXdVoelwjzA97lPvsXpU1X2KMaOmFJRSSqmcVfrQllJKqTLTQKKUUqog0yaQiMgBEXldRF4RkR1OW7OIPC0ie5zPTeW+znyJyEMi0ikib6S0Zb0vEfmqiOwVkd+JyAfKc9X5yXKPXxeRI87f8xUR+f2Un1XiPS4WkV+LyFsisktEvui0V83fcox7rLa/ZY2IvCQirzr3+TdOe9X8LUcxxkyLD+AAMCut7X8Ddzpf3wncXe7rnMB9rQYuBt4Y776Ac4BXAT/QCuwD3OW+hwne49eBL2V4bKXe43zgYufrBuBt516q5m85xj1W299SgHrnay/wInBZNf0t0z+mTY8kixuAR5yvHwFuLOO1TIgxZgvQndac7b5uAB43xoSNMfuBvdjbzExpWe4xm0q9x2PGmJedrweAt7B3bqiav+UY95hNxd0jgLENOt96nQ9DFf0t002nQGKAX4nITmfLFIC5xphjYP8jB+aU7eqKK9t9ZdpSZqz/yFPd50XkNWfoKzFMUPH3KCJLgXdiv5Otyr9l2j1Clf0tRcQtIq8AncDTxpiq/VvC9AokVxhjLgauAz4nIqvLfUFlkNOWMhXiPmAZcBFwDPg/TntF36OI1AM/Bv7MGNM/1kMztFXEfWa4x6r7WxpjLGPMRdi7bawSkfPGeHjF3mfCtAkkxpijzudO4CfYXccTIjIfwPncWb4rLKps91U1W8oYY044/1njwHc5PRRQsfcoIl7sF9h/M8b8u9NcVX/LTPdYjX/LBGNML7AZuJYq+1ummhaBRETqRKQh8TXwfuAN7O1UbnEedgvwZHmusOiy3ddGYK2I+EWkFVgOvFSG6ytY4j+k4w+x/55QofcoduW0B4G3jDHfSvlR1fwts91jFf4tZ4vITOfrAPA+YDdV9Lccpdyz/ZPxAbRhr4p4FdgF/E+nvQV4FtjjfG4u97VO4N5+gD0cEMV+Z3PrWPcF/E/sVSG/A64r9/UXcI+PAa8Dr2H/R5xf4fd4JfZwxmvAK87H71fT33KMe6y2v+UFwG+d+3kD+JrTXjV/y/QP3SJFKaVUQabF0JZSSqnS0UCilFKqIBpIlFJKFUQDiVJKqYJoIFFKKVUQDSRKlZiILBCRDSV+jp8ncheUmmy6/FcppVRBtEei1BhE5KNObYlXRGS9sxnfoIh8w6k3sU1E5jqPXeZ8v11E7hKRQad9aaKWioh8QkT+XUR+4dSl+N8pz/V+EdkqIi+LyI+cPanSr2e+iGxxrucNEbnKaT8gIrNE5PaUuh77ReTXuZ5bqYnSQKJUFiLyDuAj2Bt+XgRYwJ8AdcA2Y8yFwBbgM84h9wD3GGMuZey9ki5yzns+8BGn4NMs4C+B9xl7c9EdwJ9nOPa/Ab90rudC7OzwJGPMd5yfXYq9C8C38ji3UhPiKfcFKDWFXQNcAmy3t4kigL3RXgT4mfOYncDvOV9fzukaE98H/iHLeZ81xvQBiMibwBnATOwCR79xnssHbM1w7HbgIWfzw/8wxryS4TFgB7VNxpifisiHcjy3UhOigUSp7AR4xBjz1RGNIl8ypycXLfL/fxRO+TpxvGDXrbg57bneBax3vv2aMWajUwLhg8BjIvL3xphH0475I/wcAQAAAQNJREFUBHZw+nzKfYw6t1LFokNbSmX3LHCTiMyBZM3tM8Z4/Dbg/3O+Xpvnc20DrhCRM53nqhWRs4wxLxpjLnI+NjrP32mM+S72TroXp55ERC4BvgR81Njbsmc9d57Xp1RWGkiUysIY8yb23MKvROQ14GnsuuPZ/Bnw5yLykvO4vjye6yTwCeAHznNtA1ZkeOga4BUR+S120Lon7eefB5qBXzsT7g/kcW6lJkSX/ypVJCJSC4SMMUZE1gI3G2NuKPd1KVVqOkeiVPFcAvyLU8CpF/hUma9HqUmhPRKllFIF0TkSpZRSBdFAopRSqiAaSJRSShVEA4lSSqmCaCBRSilVkP8Hv4ak+jjH2soAAAAASUVORK5CYII=\n",
      "text/plain": [
       "<Figure size 432x288 with 1 Axes>"
      ]
     },
     "metadata": {
      "needs_background": "light"
     },
     "output_type": "display_data"
    }
   ],
   "source": [
    "# Engine size as potential predictor variable of price\n",
    "sns.regplot(x=\"engine-size\", y=\"price\", data=df)\n",
    "plt.ylim(0,)"
   ]
  },
  {
   "cell_type": "markdown",
   "metadata": {},
   "source": [
    "<p>As the engine-size goes up, the price goes up: this indicates a positive direct correlation between these two variables. Engine size seems like a pretty good predictor of price since the regression line is almost a perfect diagonal line.</p>"
   ]
  },
  {
   "cell_type": "markdown",
   "metadata": {},
   "source": [
    " We can examine the correlation between 'engine-size' and 'price' and see it's approximately  0.87"
   ]
  },
  {
   "cell_type": "code",
   "execution_count": 11,
   "metadata": {
    "collapsed": false,
    "jupyter": {
     "outputs_hidden": false
    }
   },
   "outputs": [
    {
     "data": {
      "text/html": [
       "<div>\n",
       "<style scoped>\n",
       "    .dataframe tbody tr th:only-of-type {\n",
       "        vertical-align: middle;\n",
       "    }\n",
       "\n",
       "    .dataframe tbody tr th {\n",
       "        vertical-align: top;\n",
       "    }\n",
       "\n",
       "    .dataframe thead th {\n",
       "        text-align: right;\n",
       "    }\n",
       "</style>\n",
       "<table border=\"1\" class=\"dataframe\">\n",
       "  <thead>\n",
       "    <tr style=\"text-align: right;\">\n",
       "      <th></th>\n",
       "      <th>engine-size</th>\n",
       "      <th>price</th>\n",
       "    </tr>\n",
       "  </thead>\n",
       "  <tbody>\n",
       "    <tr>\n",
       "      <th>engine-size</th>\n",
       "      <td>1.000000</td>\n",
       "      <td>0.872335</td>\n",
       "    </tr>\n",
       "    <tr>\n",
       "      <th>price</th>\n",
       "      <td>0.872335</td>\n",
       "      <td>1.000000</td>\n",
       "    </tr>\n",
       "  </tbody>\n",
       "</table>\n",
       "</div>"
      ],
      "text/plain": [
       "             engine-size     price\n",
       "engine-size     1.000000  0.872335\n",
       "price           0.872335  1.000000"
      ]
     },
     "execution_count": 11,
     "metadata": {},
     "output_type": "execute_result"
    }
   ],
   "source": [
    "df[[\"engine-size\", \"price\"]].corr()"
   ]
  },
  {
   "cell_type": "markdown",
   "metadata": {},
   "source": [
    "Highway mpg is a potential predictor variable of price "
   ]
  },
  {
   "cell_type": "code",
   "execution_count": 12,
   "metadata": {
    "collapsed": false,
    "jupyter": {
     "outputs_hidden": false
    }
   },
   "outputs": [
    {
     "data": {
      "text/plain": [
       "<matplotlib.axes._subplots.AxesSubplot at 0x7f50ccd7cfd0>"
      ]
     },
     "execution_count": 12,
     "metadata": {},
     "output_type": "execute_result"
    },
    {
     "data": {
      "image/png": "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\n",
      "text/plain": [
       "<Figure size 432x288 with 1 Axes>"
      ]
     },
     "metadata": {
      "needs_background": "light"
     },
     "output_type": "display_data"
    }
   ],
   "source": [
    "sns.regplot(x=\"highway-mpg\", y=\"price\", data=df)"
   ]
  },
  {
   "cell_type": "markdown",
   "metadata": {},
   "source": [
    "<p>As the highway-mpg goes up, the price goes down: this indicates an inverse/negative relationship between these two variables. Highway mpg could potentially be a predictor of price.</p>"
   ]
  },
  {
   "cell_type": "markdown",
   "metadata": {},
   "source": [
    "We can examine the correlation between 'highway-mpg' and 'price' and see it's approximately  -0.704"
   ]
  },
  {
   "cell_type": "code",
   "execution_count": 13,
   "metadata": {
    "collapsed": false,
    "jupyter": {
     "outputs_hidden": false
    }
   },
   "outputs": [
    {
     "data": {
      "text/html": [
       "<div>\n",
       "<style scoped>\n",
       "    .dataframe tbody tr th:only-of-type {\n",
       "        vertical-align: middle;\n",
       "    }\n",
       "\n",
       "    .dataframe tbody tr th {\n",
       "        vertical-align: top;\n",
       "    }\n",
       "\n",
       "    .dataframe thead th {\n",
       "        text-align: right;\n",
       "    }\n",
       "</style>\n",
       "<table border=\"1\" class=\"dataframe\">\n",
       "  <thead>\n",
       "    <tr style=\"text-align: right;\">\n",
       "      <th></th>\n",
       "      <th>highway-mpg</th>\n",
       "      <th>price</th>\n",
       "    </tr>\n",
       "  </thead>\n",
       "  <tbody>\n",
       "    <tr>\n",
       "      <th>highway-mpg</th>\n",
       "      <td>1.000000</td>\n",
       "      <td>-0.704692</td>\n",
       "    </tr>\n",
       "    <tr>\n",
       "      <th>price</th>\n",
       "      <td>-0.704692</td>\n",
       "      <td>1.000000</td>\n",
       "    </tr>\n",
       "  </tbody>\n",
       "</table>\n",
       "</div>"
      ],
      "text/plain": [
       "             highway-mpg     price\n",
       "highway-mpg     1.000000 -0.704692\n",
       "price          -0.704692  1.000000"
      ]
     },
     "execution_count": 13,
     "metadata": {},
     "output_type": "execute_result"
    }
   ],
   "source": [
    "df[['highway-mpg', 'price']].corr()"
   ]
  },
  {
   "cell_type": "markdown",
   "metadata": {},
   "source": [
    "<h3>Weak Linear Relationship</h3>"
   ]
  },
  {
   "cell_type": "markdown",
   "metadata": {},
   "source": [
    "Let's see if \"Peak-rpm\" as a predictor variable of \"price\"."
   ]
  },
  {
   "cell_type": "code",
   "execution_count": 14,
   "metadata": {
    "collapsed": false,
    "jupyter": {
     "outputs_hidden": false
    }
   },
   "outputs": [
    {
     "data": {
      "text/plain": [
       "<matplotlib.axes._subplots.AxesSubplot at 0x7f50ccce6630>"
      ]
     },
     "execution_count": 14,
     "metadata": {},
     "output_type": "execute_result"
    },
    {
     "data": {
      "image/png": "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\n",
      "text/plain": [
       "<Figure size 432x288 with 1 Axes>"
      ]
     },
     "metadata": {
      "needs_background": "light"
     },
     "output_type": "display_data"
    }
   ],
   "source": [
    "sns.regplot(x=\"peak-rpm\", y=\"price\", data=df)"
   ]
  },
  {
   "cell_type": "markdown",
   "metadata": {},
   "source": [
    "<p>Peak rpm does not seem like a good predictor of the price at all since the regression line is close to horizontal. Also, the data points are very scattered and far from the fitted line, showing lots of variability. Therefore it's it is not a reliable variable.</p>"
   ]
  },
  {
   "cell_type": "markdown",
   "metadata": {},
   "source": [
    "We can examine the correlation between 'peak-rpm' and 'price' and see it's approximately -0.101616 "
   ]
  },
  {
   "cell_type": "code",
   "execution_count": 15,
   "metadata": {
    "collapsed": false,
    "jupyter": {
     "outputs_hidden": false
    }
   },
   "outputs": [
    {
     "data": {
      "text/html": [
       "<div>\n",
       "<style scoped>\n",
       "    .dataframe tbody tr th:only-of-type {\n",
       "        vertical-align: middle;\n",
       "    }\n",
       "\n",
       "    .dataframe tbody tr th {\n",
       "        vertical-align: top;\n",
       "    }\n",
       "\n",
       "    .dataframe thead th {\n",
       "        text-align: right;\n",
       "    }\n",
       "</style>\n",
       "<table border=\"1\" class=\"dataframe\">\n",
       "  <thead>\n",
       "    <tr style=\"text-align: right;\">\n",
       "      <th></th>\n",
       "      <th>peak-rpm</th>\n",
       "      <th>price</th>\n",
       "    </tr>\n",
       "  </thead>\n",
       "  <tbody>\n",
       "    <tr>\n",
       "      <th>peak-rpm</th>\n",
       "      <td>1.000000</td>\n",
       "      <td>-0.101616</td>\n",
       "    </tr>\n",
       "    <tr>\n",
       "      <th>price</th>\n",
       "      <td>-0.101616</td>\n",
       "      <td>1.000000</td>\n",
       "    </tr>\n",
       "  </tbody>\n",
       "</table>\n",
       "</div>"
      ],
      "text/plain": [
       "          peak-rpm     price\n",
       "peak-rpm  1.000000 -0.101616\n",
       "price    -0.101616  1.000000"
      ]
     },
     "execution_count": 15,
     "metadata": {},
     "output_type": "execute_result"
    }
   ],
   "source": [
    "df[['peak-rpm','price']].corr()"
   ]
  },
  {
   "cell_type": "code",
   "execution_count": 16,
   "metadata": {
    "collapsed": false,
    "jupyter": {
     "outputs_hidden": false
    }
   },
   "outputs": [
    {
     "data": {
      "text/html": [
       "<div>\n",
       "<style scoped>\n",
       "    .dataframe tbody tr th:only-of-type {\n",
       "        vertical-align: middle;\n",
       "    }\n",
       "\n",
       "    .dataframe tbody tr th {\n",
       "        vertical-align: top;\n",
       "    }\n",
       "\n",
       "    .dataframe thead th {\n",
       "        text-align: right;\n",
       "    }\n",
       "</style>\n",
       "<table border=\"1\" class=\"dataframe\">\n",
       "  <thead>\n",
       "    <tr style=\"text-align: right;\">\n",
       "      <th></th>\n",
       "      <th>stroke</th>\n",
       "      <th>price</th>\n",
       "    </tr>\n",
       "  </thead>\n",
       "  <tbody>\n",
       "    <tr>\n",
       "      <th>stroke</th>\n",
       "      <td>1.00000</td>\n",
       "      <td>0.08231</td>\n",
       "    </tr>\n",
       "    <tr>\n",
       "      <th>price</th>\n",
       "      <td>0.08231</td>\n",
       "      <td>1.00000</td>\n",
       "    </tr>\n",
       "  </tbody>\n",
       "</table>\n",
       "</div>"
      ],
      "text/plain": [
       "         stroke    price\n",
       "stroke  1.00000  0.08231\n",
       "price   0.08231  1.00000"
      ]
     },
     "execution_count": 16,
     "metadata": {},
     "output_type": "execute_result"
    }
   ],
   "source": [
    "# Write your code below and press Shift+Enter to execute\n",
    "df[['stroke','price']].corr()"
   ]
  },
  {
   "cell_type": "code",
   "execution_count": 16,
   "metadata": {
    "collapsed": false,
    "jupyter": {
     "outputs_hidden": false
    }
   },
   "outputs": [
    {
     "data": {
      "text/plain": [
       "<matplotlib.axes._subplots.AxesSubplot at 0x7f50cccd93c8>"
      ]
     },
     "execution_count": 16,
     "metadata": {},
     "output_type": "execute_result"
    },
    {
     "data": {
      "image/png": "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\n",
      "text/plain": [
       "<Figure size 432x288 with 1 Axes>"
      ]
     },
     "metadata": {
      "needs_background": "light"
     },
     "output_type": "display_data"
    }
   ],
   "source": [
    "# Write your code below and press Shift+Enter to execute \n",
    "sns.regplot(x='stroke',y='price',data = df)"
   ]
  },
  {
   "cell_type": "markdown",
   "metadata": {},
   "source": [
    "<h3>Categorical variables</h3>\n",
    "\n",
    "<p>These are variables that describe a 'characteristic' of a data unit, and are selected from a small group of categories. The categorical variables can have the type \"object\" or \"int64\". A good way to visualize categorical variables is by using boxplots.</p>"
   ]
  },
  {
   "cell_type": "markdown",
   "metadata": {},
   "source": [
    "Let's look at the relationship between \"body-style\" and \"price\"."
   ]
  },
  {
   "cell_type": "code",
   "execution_count": 18,
   "metadata": {
    "collapsed": false,
    "jupyter": {
     "outputs_hidden": false
    },
    "scrolled": true
   },
   "outputs": [
    {
     "data": {
      "text/plain": [
       "<matplotlib.axes._subplots.AxesSubplot at 0x7f50ccb0aac8>"
      ]
     },
     "execution_count": 18,
     "metadata": {},
     "output_type": "execute_result"
    },
    {
     "data": {
      "image/png": "iVBORw0KGgoAAAANSUhEUgAAAZIAAAEGCAYAAABPdROvAAAABHNCSVQICAgIfAhkiAAAAAlwSFlzAAALEgAACxIB0t1+/AAAADh0RVh0U29mdHdhcmUAbWF0cGxvdGxpYiB2ZXJzaW9uMy4xLjEsIGh0dHA6Ly9tYXRwbG90bGliLm9yZy8QZhcZAAAgAElEQVR4nO3de5hddX3v8fcnyTSEUm6ZAcMMGkpiMVCNTUrxeCkSEwhewAoSH5XxNMd4KBJaWj1iPRXP0zyVthqfiQUFwQyghIC3iBlJDCDYxsRBYiABm1GijInJTLgYzMVcvueP9dvOnsnO3PasvWeSz+t59jNrf9f6rfVba/be3/1ba+3fTxGBmZnZYI2qdgXMzGxkcyIxM7OyOJGYmVlZnEjMzKwsTiRmZlaWMdWuQKXV1tbGxIkTq10NM7MR5bHHHuuMiLpS8466RDJx4kRaW1urXQ0zsxFF0i8ON8+ntszMrCxOJGZmVhYnEjMzK4sTiZmZlcWJxMzMyuJEYmZmZXEiMTOzsuT+OxJJo4FW4FcR8TZJNwAfBDrSIh+PiOVp2euBucABYH5EPJDi04DFwDhgOXBtRISkscAdwDRgB3BFRGzOe5/MzAaqqamJtra2AZVpb28HoKGhYcDbmzRpEvPnzx9wucGoRIvkWuCpHrGFETE1PQpJZAowBzgbuAi4KSUhgJuBecDk9LgoxecCz0fEJGAhcGOue2JmVkG7d+9m9+7d1a5Gn3JtkUhqAN4KLACu62PxS4AlEbEXeEZSG3CupM3A8RGxOq3zDuBSoCWVuSGVvw/4vCSFR+sys2FmMK2DQpmmpqahrs6QyrtF8jngo8DBHvEPS1ov6XZJJ6VYPfBs0TLtKVafpnvGu5WJiP3Ai8D4npWQNE9Sq6TWjo6OnrPNzKwMuSUSSW8DtkfEYz1m3QycCUwFtgKfKRQpsZroJd5bme6BiFsiYnpETK+rK9nnmJmZDVKeLZLXA+9Ip6aWABdIuisitkXEgYg4CNwKnJuWbwdOLyrfAGxJ8YYS8W5lJI0BTgCey2d3zMyslNwSSURcHxENETGR7CL6gxHxPkkTihZ7J/Bkml4GzJE0VtIZZBfV10bEVmCnpPMkCbgS+FZRmcY0fVnahq+PmJlVUDW6kf9XSVPJTkFtBj4EEBEbJC0FNgL7gasj4kAqcxVdt/+2pAfAbcCd6cL8c2QJy8zMKqgiiSQiHgYeTtPv72W5BWR3ePWMtwLnlIjvAS4fqnqamdnA+ZftZmZWFicSMzMrixOJmZmVxYnEzMzK4kRiZmZlcSIxM7OyOJGYmVlZnEjMzKwsTiRmw0BnZyfXXHMNO3bsqHZVzAbMicRsGGhubmb9+vU0NzdXuypmA+ZEYlZlnZ2dLF++nIhg+fLlbpXYiONEYlZlzc3N7N+/H4B9+/a5VWIjjhOJWZWtWLGCwugHEcEDDzxQ5RqZDYwTiVmVnXrqqb0+NxvunEjMqmzbtm29Pjcb7pxIzKps1qxZZIN/giQuvPDCKtfIbGByTySSRkt6XNL96fnJklZK2pT+nlS07PWS2iT9VNKFRfFpkp5I85rSkLukYXnvSfE1kibmvT9mQ62xsZGamhoAampqaGxs7KOE2fBSiRbJtcBTRc8/BqyKiMnAqvQcSVPIhso9G7gIuEnS6FTmZmAe2Tjuk9N8gLnA8xExCVgI3JjvrpgNvdraWmbPno0kLr74YsaPH1/tKpkNSK6JRFID8FbgS0XhS4DC/Y3NwKVF8SURsTcingHagHMlTQCOj4jVkd3ackePMoV13QfMKLRWzEaSxsZGXv3qV7s1YiNS3i2SzwEfBQ4WxU6NiK0A6e8pKV4PPFu0XHuK1afpnvFuZSJiP/AicMjXOUnzJLVKau3o6Ch3n8yGXG1tLYsWLXJrxEak3BKJpLcB2yPisf4WKRGLXuK9lekeiLglIqZHxPS6urp+VsfMzPpjTI7rfj3wDkkXA8cAx0u6C9gmaUJEbE2nrban5duB04vKNwBbUryhRLy4TLukMcAJwHN57ZCZmR0qtxZJRFwfEQ0RMZHsIvqDEfE+YBlQOBHcCHwrTS8D5qQ7sc4gu6i+Np3+2inpvHT948oeZQrruixt45AWiZmZ5SfPFsnhfBpYKmku8EvgcoCI2CBpKbAR2A9cHREHUpmrgMXAOKAlPQBuA+6U1EbWEplTqZ0wM7NMRRJJRDwMPJymdwAzDrPcAmBBiXgrcE6J+B5SIjIzs+rwL9vNzKwsTiRmZlYWJxIzMyuLE4mZmZXFicTMzMriRGI2DHR2dnLNNdd4vHYbkZxIzIaB5uZm1q9f7/HabUSqxg8SjxhNTU20tbUNuFx7e9YHZUNDQx9Ldjdp0iTmz58/4O3Z8NbZ2UlLSwsRQUtLC42Nje680UYUt0iqYPfu3ezevbva1bBhorm5mULPPgcPHnSrxEYct0jKMNjWQaFcU1PTUFbHRqiVK1eyb98+APbt28eKFSu47rrrqlwrs/5zi8SsymbOnNltzPZZs2ZVuUZmA+NEYlZlb3/7239/aisieMc73lHlGpkNjBOJWZV9+9vf7tYiWbZsWZVrZDYwTiRmVbZy5cpuLZIVK1ZUuUZmA+NEYlZlb3zjG7s9f9Ob3lSlmpgNTp5jth8jaa2kn0jaIOlTKX6DpF9JWpceFxeVuV5Sm6SfSrqwKD5N0hNpXlMaKZE0muI9Kb5G0sS89sfMzErLs0WyF7ggIl4DTAUuknRemrcwIqamx3IASVPIRjg8G7gIuEnS6LT8zcA8suF3J6f5AHOB5yNiErAQuDHH/THLxaOPPtrt+SOPPFKlmpgNTp5jtkdEvJSe1qRHb+OpXwIsiYi9EfEM0AacK2kCcHxErE7jsd8BXFpUpvDrrfuAGYXWitlIMXPmTMaMyX7SNWbMGN/+ayNOrtdIJI2WtA7YDqyMiDVp1oclrZd0u6STUqweeLaoeHuK1afpnvFuZSJiP/AicEjfEpLmSWqV1NrR0TFEe2c2NBobG39/19aoUaNobGysco3MBibXRBIRByJiKtBA1ro4h+w01Zlkp7u2Ap9Ji5dqSUQv8d7K9KzHLRExPSKm19XVDXAvzPJVW1tLfX323ei0005zP1s24lTkrq2IeAF4GLgoIralBHMQuBU4Ny3WDpxeVKwB2JLiDSXi3cpIGgOcADyX026Y5aKzs5MtW7KX9JYtW9yVvI04ed61VSfpxDQ9DngL8HS65lHwTuDJNL0MmJPuxDqD7KL62ojYCuyUdF66/nEl8K2iMoXzAJcBD0bhhnyzEaK408aIcKeNNuLk2SKZADwkaT3wI7JrJPcD/5pu5V0PvBn4O4CI2AAsBTYC3wWujogDaV1XAV8iuwD/M6AlxW8DxktqA64DPpbj/pjlolSnjWYjSW69/0bEeuC1JeLv76XMAmBBiXgrcE6J+B7g8vJqalZdM2fOZPny5ezbt4+amhrftWUjjn/ZblZlvmvLRjonErMqq62tZfbs2Uhi9uzZvmvLRhwPbGU2DDQ2NrJ582a3RmxEciIxGwZqa2tZtGhRtathNihOJGZmA9TU1ERbW1vu29m0aRMw+GG9B2rSpEmD2pYTiZnZALW1tbHhiac48dhTct3Owd9lN2H86mf5/0j1hV3bB13WicTMbBBOPPYU3nzWnGpXY8g89PSSQZd1IjEbYoM57dHenvVL2tDQ0MeShxrs6QizoeJEYjYM7N69u9pVMBs0JxKzITaY1kGhTFNT01BXxyx3/kGimZmVxYnEzMzK4kRiZmZlcSIxM7Oy+GJ7UqlfqkJlf63qW0PNLG9OJElbWxuPP7GRg8eenPu29LtsNLzHfvbrXLczapdHHTaz/OWWSCQdAzwCjE3buS8iPinpZOAeYCKwGXh3RDyfylwPzAUOAPMj4oEUnwYsBsYBy4FrIyIkjQXuAKYBO4ArImLzYOt88NiT2TPlbYMtPuwcs/H+alfBzI4CeV4j2QtcEBGvAaYCF0k6j2w43FURMRlYlZ4jaQowBzgbuAi4SdLotK6bgXlk47hPTvMhSzrPR8QkYCFwY477Y2ZmJeSWSCLzUnpakx4BXAI0p3gzcGmavgRYEhF7I+IZsvHZz5U0ATg+IlZHRJC1QIrLFNZ1HzBDhaHmzMysInK9a0vSaEnrgO3AyohYA5waEVsB0t9C95n1wLNFxdtTrD5N94x3KxMR+4EXgUOGl5M0T1KrpNaOjo6h2j0zMyPnRBIRByJiKtBA1ro4p5fFS7Ukopd4b2V61uOWiJgeEdPr6ur6qraZmQ1ARX5HEhEvAA+TXdvYlk5Xkf4WOsFvB04vKtYAbEnxhhLxbmUkjQFOAHyrkplZBeWWSCTVSToxTY8D3gI8DSwDCgNTNwLfStPLgDmSxko6g+yi+tp0+munpPPS9Y8re5QprOsy4MF0HcXMzCokzxbJBOAhSeuBH5FdI7kf+DQwU9ImYGZ6TkRsAJYCG4HvAldHxIG0rquAL5FdgP8Z0JLitwHjJbUB15HuADOzkauzs5NrrrmGHTvyHxXQhkZuvyOJiPXAa0vEdwAzDlNmAbCgRLwVOOT6SkTsAS4vu7JmNmw0Nzezfv16mpubue6666pdHesH97VlZsNGZ2cnLS0tRAQtLS1ulYwQTiRmNmw0NzdTuMx58OBBmpub+yhhw4ETiZkNGytXrmTfvn0A7Nu3jxUrVlS5RtYfTiRmNmzMnDmTmpoaAGpqapg1a1aVa2T94URiZsNGY2MjhV6ORo0aRWNjYx8lbDhwIjGzYaO2tpbZs2cjidmzZzN+/CE9Htkw5PFIzGxYaWxsZPPmzW6NjCD9TiSSXgFMjojvpV+qj4mInflVzcyORrW1tSxatKja1bAB6NepLUkfJOum/Ysp1AB8M69KmZnZyNHfayRXA68HfgMQEZvo6v7dzMyOYv1NJHsj4neFJ6mnXXeOaGZm/U4k35f0cWCcpJnAvcC386uWmZmNFP1NJB8DOoAngA8By4FP5FUpMzMbOfp719Y44PaIuBWyIXRTbFdeFTMzs5Ghvy2SVWSJo2Ac8L2hr46ZmY00/U0kx0TES4UnafrY3gpIOl3SQ5KekrRB0rUpfoOkX0lalx4XF5W5XlKbpJ9KurAoPk3SE2leUxopkTSa4j0pvkbSxP7vupmZDYX+JpLfSvqzwhNJ04DdfZTZD/x9RLwKOA+4WtKUNG9hRExNj+VpnVOAOcDZZGO735ROoQHcDMwjG353cpoPMBd4PiImAQuBG/u5P2ZmNkT6e43kb4F7JW1JzycAV/RWII21vjVN75T0FFDfS5FLgCURsRd4Jg2fe66kzcDxEbEaQNIdwKVkw+1eAtyQyt8HfF6SPG67mVnl9KtFEhE/As4iGzv9b4BXRcRj/d1IOuX0WmBNCn1Y0npJt0s6KcXqgWeLirWnWH2a7hnvViYi9gMvAof08iZpnqRWSa0dHR39rbaZmfVDr4lE0gXp718BbwdeSXZq6e0p1idJxwFfA/42In5DdprqTGAqWYvlM4VFSxSPXuK9lekeiLglIqZHxPS6urr+VNvMzPqpr1Nbfwk8SJZEegrg670VllRDlkS+EhFfB4iIbUXzbwXuT0/bgdOLijcAW1K8oUS8uEx7+rX9CcBzfeyTmZkNoV4TSUR8UtIooCUilg5kxenOqtuApyLis0XxCen6CcA7gSfT9DLgq5I+C5xG1vJZGxEHJO2UdB7ZqbErgUVFZRqB1cBlwIO+PmJmVll9XmyPiIOSPgwMKJGQdfL4fuAJSetS7OPAeyRNJWvRbCb7pTwRsUHSUmAj2R1fV0fEgVTuKmAx2e9XWtIDskR1Z7ow/xzZXV9mZlZB/b1ra6WkfwDuAX5bCEbEYU8jRcQPKH0NY3kvZRYAC0rEW4FzSsT3AJf3WnMzM8tVfxPJX5O1IP6mR/yPh7Y6ZmY20vQ3kUwhSyJvIEsojwJfyKtSZmY2cvQ3kTSTDWrVlJ6/J8XenUelzMxs5OhvIvmTiHhN0fOHJP0kjwqZmdnI0t++th5Pt98CIOkvgP/Mp0pmZjaS9DeR/AXwX5I2p76vVgN/mXrkXZ9b7eyI19nZyTXXXMOOHTuqXRUzG6T+ntq6qO9FzAauubmZ9evX09zczHXXXVft6pjZIPS308Zf9PbIu5J2ZOrs7KSlpYWIoKWlxa0SsxGqv6e2zIZcc3MzhR5tDh48SHNzc5VrZGaD4URiVbNy5Ur27dsHwL59+1ixYkWVa2Rmg+FEYlUzc+ZMampqAKipqWHWrFlVrpGZDYYTiVVNY2MjWSfRMGrUKBobG6tcIzMbDCcSq5ra2lpmz56NJGbPns348YcMbmlmI0B/b/81y0VjYyObN292a8RsBHMisaqqra1l0aJFfS9oZsOWT22ZmVlZckskkk6X9JCkpyRtkHRtip8saaWkTenvSUVlrpfUJumnki4sik9L3bG0SWpKw/giaayke1J8jaSJee2PmZmVlmeLZD/w9xHxKuA84GpJU4CPAasiYjKwKj0nzZsDnE3WJctNkkandd0MzCMbx30yXV22zAWej4hJwELgxhz3x8zMSsgtkUTE1oj4cZreCTwF1AOXkI1lQvp7aZq+BFgSEXsj4hmgDThX0gTg+IhYHdnPoO/oUaawrvuAGYXWipmZVUZFLranU06vBdYAp0bEVsiSjaRT0mL1wA+LirWn2L403TNeKPNsWtd+SS8C44HOHtufR9ai4eUvf/lQ7ZYVaWpqoq2tbcDl2tuzf21DQ8OAyk2aNIn58+cPeHtmQ6G9vZ0Xd+3koaeXVLsqQ+aFXduJ9t2DKpv7xXZJxwFfA/42In7T26IlYtFLvLcy3QMRt0TE9IiYXldX11eVrYJ2797N7t2De/Ga2fCQa4tEUg1ZEvlKRHw9hbdJmpBaIxOA7SneDpxeVLwB2JLiDSXixWXaJY0BTgCey2VnrFeDbR0UyjU1NfWxpNnw0dDQgPbu4M1nzal2VYbMQ08vob5hcD8KzvOuLQG3AU9FxGeLZi0DCr8+awS+VRSfk+7EOoPsovradBpsp6Tz0jqv7FGmsK7LgAej0J2smZlVRJ4tktcD7weekLQuxT4OfBpYKmku8EvgcoCI2CBpKbCR7I6vqyPiQCp3FbAYGAe0pAdkiepOSW1kLZEj5+uB2RFgMNfOBnvdDHztrFpySyQR8QNKX8MAmHGYMguABSXircA5JeJ7SInIzI4MvmY28riLFDPLzWBaB75uNvK4ixQzMyuLE4mZmZXFp7bMejHYH1oO1KZNm4DB30Y9UL4obUPJicSsF21tbTy+4XE4MecNHcz+PP6rx3PeEPBC/puwo4sTiVlfToSD5x+sdi2GzKiHfUbbhpZfUWZmVha3SJL29nZG7XqRYzbeX+2qDJlRu3bQ3r6/2tUwsyOcWyRmZlYWt0iShoYGtu0dw54pb6t2VYbMMRvvp6HhZdWuhpkd4dwiMTOzsjiRmJlZWZxIzMysLE4kZmZWFl9sN7N+cXcxdji5JRJJtwNvA7ZHxDkpdgPwQaAjLfbxiFie5l0PzAUOAPMj4oEUn0bXoFbLgWsjIiSNBe4ApgE7gCsiYnNe+2N2tGtra+PpdevI+z7AwmmSF9at63W5ofDr3LdwdMizRbIY+DzZh32xhRHx78UBSVPIRjc8GzgN+J6kV6YREm8G5gE/JEskF5GNkDgXeD4iJkmaA9wIXJHf7pjZy4C5hx2vbuS5DY/MPRRyu0YSEY+QDX/bH5cASyJib0Q8A7QB50qaABwfEavTWOx3AJcWlWlO0/cBM9KY7mZmVkHVuNj+YUnrJd0u6aQUqweeLVqmPcXq03TPeLcyEbEfeBEYX2qDkuZJapXU2tHRUWoRMzMbpEonkpuBM4GpwFbgMyleqiURvcR7K3NoMOKWiJgeEdPr6uoGVmMzM+tVRRNJRGyLiAMRcRC4FTg3zWoHTi9atAHYkuINJeLdykgaA5xA/0+lmZnZEKno7b+SJkTE1vT0ncCTaXoZ8FVJnyW72D4ZWBsRByTtlHQesAa4ElhUVKYRWA1cBjyYrqMM2qhdz1Wk91/t+Q0AcczxuW5n1K7nIPd7bMzsaJfn7b93A+cDtZLagU8C50uaSnYKajPwIYCI2CBpKbAR2A9cne7YAriKrtt/W9ID4DbgTkltZC2ROeXUd9KkSeUUH5BNm3YCMPnMvD/kX1bR/TKzo1NuiSQi3lMifFsvyy8AFpSItwLnlIjvAS4vp47FKvmDpMK2mpqaKrZNM7O8uIsUMzMrixOJmZmVxYnEzMzK4kRiZmZlcSIxM7OyOJGYmVlZnEjMzKwsTiRmZlYWj5Boh6jUSHhQ2dHwPBKeWT6cSOwQbW1t/PeTP+blxx3oe+Ey/cG+rFG8Z/OPct3OL18anev6zY5mTiRlGOw398F+C6/kN+qXH3eAT0x/qSLbqoR/bj2u2lUY8drb29nJkTWq4Fbgpfb2Ppez3jmRVMG4ceOqXQUzsyHjRFIGn2+3o0lDQwMvdHYecWO2n9jQ0PeC1isnErNetLe3w4sw6uEj6AbHF6A9fDrHhs4R9O4wM7NqcIvErBcNDQ10qIOD5x+sdlWGzKiHR9FQ79M5NnRya5FIul3SdklPFsVOlrRS0qb096SieddLapP0U0kXFsWnSXoizWuSpBQfK+meFF8jaWJe+2JmZoeX56mtxcBFPWIfA1ZFxGRgVXqOpClkQ+WencrcJKlw4//NwDyycdwnF61zLvB8REwCFgI35rYnZmZ2WLklkoh4hGws9WKXAM1puhm4tCi+JCL2RsQzQBtwrqQJwPERsToiArijR5nCuu4DZhRaK2ZmVjmVvth+akRsBUh/T0nxeuDZouXaU6w+TfeMdysTEfuBF4HxpTYqaZ6kVkmtHR0dQ7QrZmYGw+eurVItiegl3luZQ4MRt0TE9IiYXldXN8gqmplZKZW+a2ubpAkRsTWdttqe4u3A6UXLNQBbUryhRLy4TLukMcAJHHoqzcwsFy/s2s5DTy/JdRsv7XkegOOOOamPJcv3wq7t1Jc+qdOnSieSZUAj8On091tF8a9K+ixwGtlF9bURcUDSTknnAWuAK4FFPda1GrgMeDBdRzEzy9WkSZMqsp1Nm7LvxvVnDu4DfiDqGT/o/cotkUi6GzgfqJXUDnySLIEslTQX+CVwOUBEbJC0FNgI7AeujohC17NXkd0BNg5oSQ+A24A7JbWRtUTm5LUvZmbFKtU9UmE7TU1NFdneYOWWSCLiPYeZNeMwyy8AFpSItwLnlIjvISUiG1rt7e38dufoI6rH3F/sHM0fupdXs1wMl4vtZmY2QrmLFDtEQ0MDe/ZvPeLGIznGvbya5cKJxMysAgYzEF45Q1FXciA8JxKzvrxQgW7kC42/SlyWeoGun/UO0K/Jf4TEHelv/vcpZftzYgW2M1gjZRA8JxKzXlTuNs/sm+fk+sn5b6x+cPtVqWPRkY7FiZPzPxYnUrn9OpIHwnMiMeuFb/Ps4mNhh+O7tszMrCxOJGZmVhaf2jKz3BzJdypZFycSMxtWRsqdStbFicRK+uVLlekiZduu7OzqqcfmOyb6L18azStz3YKV4tbB0cGJxA5RqdshAX6XTmMcMzHfWz1fSWX3y+xo4kRih6jkt0jf6mk28vmuLTMzK4sTiZmZlaUqp7YkbQZ2AgeA/RExXdLJwD3ARGAz8O6IeD4tfz0wNy0/PyIeSPFpdA16tRy41qMkWrX5llc72lSzRfLmiJgaEdPT848BqyJiMrAqPUfSFLLRD88GLgJukjQ6lbkZmEc2NO/kNN9sxBk3bpxve7URazhdbL+EbGhegGbgYeD/pPiSiNgLPJOG1j03tWqOj4jVAJLuAC6layheq6DBfAuHwX8TH87fwodrvczyUq0WSQArJD0maV6KnRoRWwHS31NSvB54tqhse4rVp+me8UNImiepVVJrR0fHEO6GlcvfxM1Gvmq1SF4fEVsknQKslPR0L8uqRCx6iR8ajLgFuAVg+vTpvoaSA38LNzt6VaVFEhFb0t/twDeAc4FtkiYApL/b0+LtwOlFxRuALSneUCJuZmYVVPFEIukPJf1RYRqYBTwJLAMa02KNwLfS9DJgjqSxks4gu6i+Np3+2inpPEkCriwqY2ZmFVKNU1unAt/IPvsZA3w1Ir4r6UfAUklzgV8ClwNExAZJS4GNwH7g6og4kNZ1FV23/7bgC+1mZhWno+1nF9OnT4/W1tZqV8PMbESR9FjRzzW68S/bzcysLE4kZmZWFicSMzMrixOJmZmV5ai72C6pA/hFtesB1AKd1a7EMOFjkfFx6OJj0WW4HItXRERdqRlHXSIZLiS1Hu4OiKONj0XGx6GLj0WXkXAsfGrLzMzK4kRiZmZlcSKpnluqXYFhxMci4+PQxceiy7A/Fr5GYmZmZXGLxMzMyuJEYmZmZXEiGUYknSjpb4qenybpvjT9AUmfP0y5l3Kqz0RJTw5g+UslTeljmfMl3X+YeZsl1Q60niXWk8vxyNtAj7cNb0P9/yy8P3p+TgwHTiTDhKTRwInA718gEbElIi6rXq0G7FKg10RiZn2T1NsQH90+J4YDJ5Iikq6UtF7STyTdKekVklal2CpJL0/LLZbUJOm/JP1c0mUpfo+ki4vWt1jSuySNlvRvkn6U1vWhNP98SQ9J+irwBPBp4ExJ69LyPb/RnC7pu5J+KumTh9mHjxRt51NDcFhGS7pV0gZJKySNk/TBtI2fSPqapGMl/Q/gHcC/pfqfKWmSpO+l5X4s6cy0zuMk3SfpaUlfSQOTFXxE0tr0mJT26e2S1kh6PK3v1BQ/TtKXJT2R9vddPY5FraTVkt46BMeh39Lgbd9J+/2kpCskTZP0fUmPSXpAXaOBTkvLrQauLlrHREmPpuP243R8C6+Zh3s5fsOCpI9Kmp+mF0p6ME3PkHSXpJsltabX1aeKyl2c9usH6T12f4qfLOmb6f/8Q0mvTvEbJN2ejsnPC9scRvr1/oHff158VtJDwI2Sxqcyj0v6Il3Di/f8nFD6+2R6L1yR1ne+pEckfUPSRklfkJTPZ35E+JHduXY28FOgNj0/Gfg20Jie/zXwzTS9GLiXLBFPAdpS/J1Ac5r+A+BZss+vmtoAAAh5SURBVEG35gGfSPGxQCtwBnA+8FvgjDRvIvBkUZ1+/xz4ALAVGJ/W+SQwPc17Kf2dRXaroFLd7gfeVMYxmUg2mNjU9Hwp8D5gfNEy/wxcU3RcLiuatwZ4Z5o+Bjg27fOLZEMjjwJWA29Iy2wG/jFNXwncn6ZPousOw/8FfCZN3wh8rmh7JxWOB9kAamuAmVV4Lb0LuLXo+QnAfwF16fkVwO1pej3wl2n634r+38cCx6TpyUBrmj7s8RtOD+A84N40/SiwFqgBPgl8CDg5zRsNPAy8Or1Gni16P9xd9BpYBHwyTV8ArEvTN6RjO5asK5EdQE2197+M98/9wOj0vAn4pzT9ViDSPk6k++fEu4CV6VieSjYw4IT0WtkD/HGat5Ki9+dQPtwi6XIBcF9EdAJExHPA64Cvpvl3Am8oWv6bEXEwIjaS/fMgG6HxAkljgdnAIxGxm+wD/kpJ68g+3MaTfThANmzwM/2s48qI2JHW+fUe9SFtZxbwOPBj4Kyi7QzWMxGxLk0/RvYiPid9W34CeC9ZEu5G2XDK9RHxDYCI2BMRu9LstRHRHhEHgXVpnQV3F/19XZpuAB5I2/tI0fbeAvxHoWBEPJ8ma4BVwEcjYuWg9ro8TwBvkXSjpDcCpwPnACvTa+ATQIOkE4ATI+L7qdydReuoAW5N+3wv3U8Z9nb8hovHgGnpdbCXLOFNB95IlljeLenHZK/Vs8n27yzg50Xvh7uL1vcG0vGJiAeB8en4AXwnIvam9+52ut6Pw8FA3z/3RtcIsG8C7gKIiO8Az1PaG4C7I+JARGwDvg/8eZq3NiJ+ntZ5N4d+ZgyJagy1O1yJLOP3pnj+3h5liYg9kh4GLiT71nl30fxrIuKBbhuUzidrkfRXz/r1fC7gXyLiiwNYZ1+K9/MAWWtoMXBpRPxE0gfIvvn01Nvplp7rLH4dRonpRcBnI2JZOmY3FG2j1P9sP9mb9kKyN1VFRcR/S5oGXAz8C9k3wQ0R8bri5SSdyOFfc38HbANeQ9by2FM0r7fjNyxExD5Jm4H/SdZiWA+8GTgT2A38A/DnEfG8pMVkrZHeXjOl5hWO3XA+HgN9//T8POjPD/16O259fWYMCbdIuqwi+5Y0HrJzsmRvgDlp/nuBH/RjPUvI3jxvBAqJ4wHgKkk1ad2vlPSHJcruBP6ol3XPTOeKx5Fd2P7PHvMfAP5a0nFpO/WSTulHnQfqj4CtaX/eWxT/ff0j4jdAu6RLU13GFs4F9+GKor+r0/QJwK/SdGPRsiuADxeeSDopTQbZqcizJH2svzs1VCSdBuyKiLuAfwf+AqiT9Lo0v0bS2RHxAvCipMK3xOJjeQKwNbU63k92amKkeYQsYTxC1gr532QtqOPJPjBfVHa9a3Za/mngjyVNTM+v6LGu98Lvv4B1ptfYSHS4909Pxfs8m+wULxz6OfEIcIWya7F1ZC2ZtWneuZLOSNdGrqB/n2EDNpwyd1VFxAZJC4DvSzpA1uSeD9wu6SNAB1mC6MsK4A5gWUT8LsW+RNak/XG6MNpBlgh61mGHpP9UdoG9haLTNskPyJr3k4CvRkRrj/IrJL0KWJ2uv75Edk52ez/qPRD/l+wU3S/ITuMUXtRLyE7HzAcuI/sA/KKk/wfsAy7vx7rHSlpD9iXnPSl2A3CvpF8BPyS7vgTZ+eX/SMfrAPApslN+RMQBSXOAb0v6TUTcVMb+DtSfkt10cJBsv68iayU1pdMxY4DPARvIXlO3S9pF1xcPgJuAr0m6HHiIgbVch4tHgX8EVkfEbyXtAR5N38QfJ9v/n5O+EEXEbmW3tX5XUiddH4aQvQa+LGk9sIvuXyhGmsO9f3r6FHB3OgX4fbJrH6U+Jz5Kdhr4J2Rfoj4aEb+WdBbZl7FPk70mHwG+kccOuYsUMxs2JB0XES+lL1z/AWyKiIXVrtdIlFpu/xARb8t7Wz61ZWbDyQfTDQkbyE7vDeX1PsuJWyRmZlYWt0jMzKwsTiRmZlYWJxIzMyuLE4lZP6iMnlzVS4/HA1zPB9JvVPpabkh6UTbrLycSs5HjA0CficSs0pxIzPpvjKRmZT3Q3qes1+MZqXfWJ5T1QjsWQNJFSr3YAn+VYqMkbUq/Pi48b+vZeki/UF6srt5c/05ZD9PTga8o6/X1rZK+UVRmpqSv96ywpPcp60l5naQvKhuuwGxIOZGY9d+fALdExKuB3wDXkfWbdEVE/CnZL9avknQMcCvwdrKucl4GkLo7uYuubjHeAvyk0FFokalkHV6ek9b75Yi4j6zX6PdGxFRgOfCqQlIi+4X8l4tXkno5uAJ4fSpzgN675DAbFCcSs/57NiIK/ZvdBcwg6931v1Osmayfo7NSfFNkP9S6q2gdt5N1kQ9Zf2DdPvyTn5P1ObVI0kVkSaubtN47gfelzh9fR9ZdRrEZwDTgR+lHfjPIuhQ3G1Lua8us/wby692Sy0bEs5K2SbqArDPH96bTTY+lRZZFxD9Jeg1Z78VXA+8mSzo9fZlszJw9ZN2P7+8xX2Tj41w/gHqbDZhbJGb99/JCD75kHUp+D5ioNJIjWSeV3yfrxfYMdY0I+Z7uq+FLZK2UpWkMiQMRMTU9/ildMxkVEV8j6+Dvz1K5br2+RsQWYAvZ+CaLS9R3FXBZoQfo1HP0Kwa782aH40Ri1n9PAY2pB9qTgYVk1ybuVTZI0UHgCxGxh2xUzO+ki+2/6LGeZcBxlD6tBVAPPJxORy0GCi2KxcAX0oXzcSn2FbJTbht7riTFPgGsSHVeSTZyntmQcl9bZhUmaTqwMCLeOATr+jzweETcVn7NzAbH10jMKigNtHUVQ3D3lKTHyMYp+fty12VWDrdIzMysLL5GYmZmZXEiMTOzsjiRmJlZWZxIzMysLE4kZmZWlv8Pi7JOxTzT6oUAAAAASUVORK5CYII=\n",
      "text/plain": [
       "<Figure size 432x288 with 1 Axes>"
      ]
     },
     "metadata": {
      "needs_background": "light"
     },
     "output_type": "display_data"
    }
   ],
   "source": [
    "sns.boxplot(x=\"body-style\", y=\"price\", data=df)"
   ]
  },
  {
   "cell_type": "markdown",
   "metadata": {},
   "source": [
    "<p>We see that the distributions of price between the different body-style categories have a significant overlap, and so body-style would not be a good predictor of price. Let's examine engine \"engine-location\" and \"price\":</p>"
   ]
  },
  {
   "cell_type": "code",
   "execution_count": 19,
   "metadata": {
    "collapsed": false,
    "jupyter": {
     "outputs_hidden": false
    },
    "scrolled": true
   },
   "outputs": [
    {
     "data": {
      "text/plain": [
       "<matplotlib.axes._subplots.AxesSubplot at 0x7f50ccabcfd0>"
      ]
     },
     "execution_count": 19,
     "metadata": {},
     "output_type": "execute_result"
    },
    {
     "data": {
      "image/png": "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\n",
      "text/plain": [
       "<Figure size 432x288 with 1 Axes>"
      ]
     },
     "metadata": {
      "needs_background": "light"
     },
     "output_type": "display_data"
    }
   ],
   "source": [
    "sns.boxplot(x=\"engine-location\", y=\"price\", data=df)"
   ]
  },
  {
   "cell_type": "markdown",
   "metadata": {},
   "source": [
    "<p>Here we see that the distribution of price between these two engine-location categories, front and rear, are distinct enough to take engine-location as a potential good predictor of price.</p>"
   ]
  },
  {
   "cell_type": "markdown",
   "metadata": {},
   "source": [
    " Let's examine \"drive-wheels\" and \"price\"."
   ]
  },
  {
   "cell_type": "code",
   "execution_count": 20,
   "metadata": {
    "collapsed": false,
    "jupyter": {
     "outputs_hidden": false
    }
   },
   "outputs": [
    {
     "data": {
      "text/plain": [
       "<matplotlib.axes._subplots.AxesSubplot at 0x7f50ccb0ab00>"
      ]
     },
     "execution_count": 20,
     "metadata": {},
     "output_type": "execute_result"
    },
    {
     "data": {
      "image/png": "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\n",
      "text/plain": [
       "<Figure size 432x288 with 1 Axes>"
      ]
     },
     "metadata": {
      "needs_background": "light"
     },
     "output_type": "display_data"
    }
   ],
   "source": [
    "# drive-wheels\n",
    "sns.boxplot(x=\"drive-wheels\", y=\"price\", data=df)"
   ]
  },
  {
   "cell_type": "markdown",
   "metadata": {},
   "source": [
    "<p>Here we see that the distribution of price between the different drive-wheels categories differs; as such drive-wheels could potentially be a predictor of price.</p>"
   ]
  },
  {
   "cell_type": "markdown",
   "metadata": {},
   "source": [
    "<h2 id=\"discriptive_statistics\">3. Descriptive Statistical Analysis</h2>"
   ]
  },
  {
   "cell_type": "markdown",
   "metadata": {},
   "source": [
    "<p>Let's first take a look at the variables by utilizing a description method.</p>\n",
    "\n",
    "<p>The <b>describe</b> function automatically computes basic statistics for all continuous variables. Any NaN values are automatically skipped in these statistics.</p>\n",
    "\n",
    "This will show:\n",
    "<ul>\n",
    "    <li>the count of that variable</li>\n",
    "    <li>the mean</li>\n",
    "    <li>the standard deviation (std)</li> \n",
    "    <li>the minimum value</li>\n",
    "    <li>the IQR (Interquartile Range: 25%, 50% and 75%)</li>\n",
    "    <li>the maximum value</li>\n",
    "<ul>\n"
   ]
  },
  {
   "cell_type": "markdown",
   "metadata": {},
   "source": [
    " We can apply the method \"describe\" as follows:"
   ]
  },
  {
   "cell_type": "code",
   "execution_count": 21,
   "metadata": {
    "collapsed": false,
    "jupyter": {
     "outputs_hidden": false
    }
   },
   "outputs": [
    {
     "data": {
      "text/html": [
       "<div>\n",
       "<style scoped>\n",
       "    .dataframe tbody tr th:only-of-type {\n",
       "        vertical-align: middle;\n",
       "    }\n",
       "\n",
       "    .dataframe tbody tr th {\n",
       "        vertical-align: top;\n",
       "    }\n",
       "\n",
       "    .dataframe thead th {\n",
       "        text-align: right;\n",
       "    }\n",
       "</style>\n",
       "<table border=\"1\" class=\"dataframe\">\n",
       "  <thead>\n",
       "    <tr style=\"text-align: right;\">\n",
       "      <th></th>\n",
       "      <th>symboling</th>\n",
       "      <th>normalized-losses</th>\n",
       "      <th>wheel-base</th>\n",
       "      <th>length</th>\n",
       "      <th>width</th>\n",
       "      <th>height</th>\n",
       "      <th>curb-weight</th>\n",
       "      <th>engine-size</th>\n",
       "      <th>bore</th>\n",
       "      <th>stroke</th>\n",
       "      <th>compression-ratio</th>\n",
       "      <th>horsepower</th>\n",
       "      <th>peak-rpm</th>\n",
       "      <th>city-mpg</th>\n",
       "      <th>highway-mpg</th>\n",
       "      <th>price</th>\n",
       "      <th>city-L/100km</th>\n",
       "      <th>diesel</th>\n",
       "      <th>gas</th>\n",
       "    </tr>\n",
       "  </thead>\n",
       "  <tbody>\n",
       "    <tr>\n",
       "      <th>count</th>\n",
       "      <td>201.000000</td>\n",
       "      <td>201.00000</td>\n",
       "      <td>201.000000</td>\n",
       "      <td>201.000000</td>\n",
       "      <td>201.000000</td>\n",
       "      <td>201.000000</td>\n",
       "      <td>201.000000</td>\n",
       "      <td>201.000000</td>\n",
       "      <td>201.000000</td>\n",
       "      <td>197.000000</td>\n",
       "      <td>201.000000</td>\n",
       "      <td>201.000000</td>\n",
       "      <td>201.000000</td>\n",
       "      <td>201.000000</td>\n",
       "      <td>201.000000</td>\n",
       "      <td>201.000000</td>\n",
       "      <td>201.000000</td>\n",
       "      <td>201.000000</td>\n",
       "      <td>201.000000</td>\n",
       "    </tr>\n",
       "    <tr>\n",
       "      <th>mean</th>\n",
       "      <td>0.840796</td>\n",
       "      <td>122.00000</td>\n",
       "      <td>98.797015</td>\n",
       "      <td>0.837102</td>\n",
       "      <td>0.915126</td>\n",
       "      <td>53.766667</td>\n",
       "      <td>2555.666667</td>\n",
       "      <td>126.875622</td>\n",
       "      <td>3.330692</td>\n",
       "      <td>3.256904</td>\n",
       "      <td>10.164279</td>\n",
       "      <td>103.405534</td>\n",
       "      <td>5117.665368</td>\n",
       "      <td>25.179104</td>\n",
       "      <td>30.686567</td>\n",
       "      <td>13207.129353</td>\n",
       "      <td>9.944145</td>\n",
       "      <td>0.099502</td>\n",
       "      <td>0.900498</td>\n",
       "    </tr>\n",
       "    <tr>\n",
       "      <th>std</th>\n",
       "      <td>1.254802</td>\n",
       "      <td>31.99625</td>\n",
       "      <td>6.066366</td>\n",
       "      <td>0.059213</td>\n",
       "      <td>0.029187</td>\n",
       "      <td>2.447822</td>\n",
       "      <td>517.296727</td>\n",
       "      <td>41.546834</td>\n",
       "      <td>0.268072</td>\n",
       "      <td>0.319256</td>\n",
       "      <td>4.004965</td>\n",
       "      <td>37.365700</td>\n",
       "      <td>478.113805</td>\n",
       "      <td>6.423220</td>\n",
       "      <td>6.815150</td>\n",
       "      <td>7947.066342</td>\n",
       "      <td>2.534599</td>\n",
       "      <td>0.300083</td>\n",
       "      <td>0.300083</td>\n",
       "    </tr>\n",
       "    <tr>\n",
       "      <th>min</th>\n",
       "      <td>-2.000000</td>\n",
       "      <td>65.00000</td>\n",
       "      <td>86.600000</td>\n",
       "      <td>0.678039</td>\n",
       "      <td>0.837500</td>\n",
       "      <td>47.800000</td>\n",
       "      <td>1488.000000</td>\n",
       "      <td>61.000000</td>\n",
       "      <td>2.540000</td>\n",
       "      <td>2.070000</td>\n",
       "      <td>7.000000</td>\n",
       "      <td>48.000000</td>\n",
       "      <td>4150.000000</td>\n",
       "      <td>13.000000</td>\n",
       "      <td>16.000000</td>\n",
       "      <td>5118.000000</td>\n",
       "      <td>4.795918</td>\n",
       "      <td>0.000000</td>\n",
       "      <td>0.000000</td>\n",
       "    </tr>\n",
       "    <tr>\n",
       "      <th>25%</th>\n",
       "      <td>0.000000</td>\n",
       "      <td>101.00000</td>\n",
       "      <td>94.500000</td>\n",
       "      <td>0.801538</td>\n",
       "      <td>0.890278</td>\n",
       "      <td>52.000000</td>\n",
       "      <td>2169.000000</td>\n",
       "      <td>98.000000</td>\n",
       "      <td>3.150000</td>\n",
       "      <td>3.110000</td>\n",
       "      <td>8.600000</td>\n",
       "      <td>70.000000</td>\n",
       "      <td>4800.000000</td>\n",
       "      <td>19.000000</td>\n",
       "      <td>25.000000</td>\n",
       "      <td>7775.000000</td>\n",
       "      <td>7.833333</td>\n",
       "      <td>0.000000</td>\n",
       "      <td>1.000000</td>\n",
       "    </tr>\n",
       "    <tr>\n",
       "      <th>50%</th>\n",
       "      <td>1.000000</td>\n",
       "      <td>122.00000</td>\n",
       "      <td>97.000000</td>\n",
       "      <td>0.832292</td>\n",
       "      <td>0.909722</td>\n",
       "      <td>54.100000</td>\n",
       "      <td>2414.000000</td>\n",
       "      <td>120.000000</td>\n",
       "      <td>3.310000</td>\n",
       "      <td>3.290000</td>\n",
       "      <td>9.000000</td>\n",
       "      <td>95.000000</td>\n",
       "      <td>5125.369458</td>\n",
       "      <td>24.000000</td>\n",
       "      <td>30.000000</td>\n",
       "      <td>10295.000000</td>\n",
       "      <td>9.791667</td>\n",
       "      <td>0.000000</td>\n",
       "      <td>1.000000</td>\n",
       "    </tr>\n",
       "    <tr>\n",
       "      <th>75%</th>\n",
       "      <td>2.000000</td>\n",
       "      <td>137.00000</td>\n",
       "      <td>102.400000</td>\n",
       "      <td>0.881788</td>\n",
       "      <td>0.925000</td>\n",
       "      <td>55.500000</td>\n",
       "      <td>2926.000000</td>\n",
       "      <td>141.000000</td>\n",
       "      <td>3.580000</td>\n",
       "      <td>3.410000</td>\n",
       "      <td>9.400000</td>\n",
       "      <td>116.000000</td>\n",
       "      <td>5500.000000</td>\n",
       "      <td>30.000000</td>\n",
       "      <td>34.000000</td>\n",
       "      <td>16500.000000</td>\n",
       "      <td>12.368421</td>\n",
       "      <td>0.000000</td>\n",
       "      <td>1.000000</td>\n",
       "    </tr>\n",
       "    <tr>\n",
       "      <th>max</th>\n",
       "      <td>3.000000</td>\n",
       "      <td>256.00000</td>\n",
       "      <td>120.900000</td>\n",
       "      <td>1.000000</td>\n",
       "      <td>1.000000</td>\n",
       "      <td>59.800000</td>\n",
       "      <td>4066.000000</td>\n",
       "      <td>326.000000</td>\n",
       "      <td>3.940000</td>\n",
       "      <td>4.170000</td>\n",
       "      <td>23.000000</td>\n",
       "      <td>262.000000</td>\n",
       "      <td>6600.000000</td>\n",
       "      <td>49.000000</td>\n",
       "      <td>54.000000</td>\n",
       "      <td>45400.000000</td>\n",
       "      <td>18.076923</td>\n",
       "      <td>1.000000</td>\n",
       "      <td>1.000000</td>\n",
       "    </tr>\n",
       "  </tbody>\n",
       "</table>\n",
       "</div>"
      ],
      "text/plain": [
       "        symboling  normalized-losses  wheel-base      length       width  \\\n",
       "count  201.000000          201.00000  201.000000  201.000000  201.000000   \n",
       "mean     0.840796          122.00000   98.797015    0.837102    0.915126   \n",
       "std      1.254802           31.99625    6.066366    0.059213    0.029187   \n",
       "min     -2.000000           65.00000   86.600000    0.678039    0.837500   \n",
       "25%      0.000000          101.00000   94.500000    0.801538    0.890278   \n",
       "50%      1.000000          122.00000   97.000000    0.832292    0.909722   \n",
       "75%      2.000000          137.00000  102.400000    0.881788    0.925000   \n",
       "max      3.000000          256.00000  120.900000    1.000000    1.000000   \n",
       "\n",
       "           height  curb-weight  engine-size        bore      stroke  \\\n",
       "count  201.000000   201.000000   201.000000  201.000000  197.000000   \n",
       "mean    53.766667  2555.666667   126.875622    3.330692    3.256904   \n",
       "std      2.447822   517.296727    41.546834    0.268072    0.319256   \n",
       "min     47.800000  1488.000000    61.000000    2.540000    2.070000   \n",
       "25%     52.000000  2169.000000    98.000000    3.150000    3.110000   \n",
       "50%     54.100000  2414.000000   120.000000    3.310000    3.290000   \n",
       "75%     55.500000  2926.000000   141.000000    3.580000    3.410000   \n",
       "max     59.800000  4066.000000   326.000000    3.940000    4.170000   \n",
       "\n",
       "       compression-ratio  horsepower     peak-rpm    city-mpg  highway-mpg  \\\n",
       "count         201.000000  201.000000   201.000000  201.000000   201.000000   \n",
       "mean           10.164279  103.405534  5117.665368   25.179104    30.686567   \n",
       "std             4.004965   37.365700   478.113805    6.423220     6.815150   \n",
       "min             7.000000   48.000000  4150.000000   13.000000    16.000000   \n",
       "25%             8.600000   70.000000  4800.000000   19.000000    25.000000   \n",
       "50%             9.000000   95.000000  5125.369458   24.000000    30.000000   \n",
       "75%             9.400000  116.000000  5500.000000   30.000000    34.000000   \n",
       "max            23.000000  262.000000  6600.000000   49.000000    54.000000   \n",
       "\n",
       "              price  city-L/100km      diesel         gas  \n",
       "count    201.000000    201.000000  201.000000  201.000000  \n",
       "mean   13207.129353      9.944145    0.099502    0.900498  \n",
       "std     7947.066342      2.534599    0.300083    0.300083  \n",
       "min     5118.000000      4.795918    0.000000    0.000000  \n",
       "25%     7775.000000      7.833333    0.000000    1.000000  \n",
       "50%    10295.000000      9.791667    0.000000    1.000000  \n",
       "75%    16500.000000     12.368421    0.000000    1.000000  \n",
       "max    45400.000000     18.076923    1.000000    1.000000  "
      ]
     },
     "execution_count": 21,
     "metadata": {},
     "output_type": "execute_result"
    }
   ],
   "source": [
    "df.describe()"
   ]
  },
  {
   "cell_type": "markdown",
   "metadata": {},
   "source": [
    " The default setting of \"describe\" skips variables of type object. We can apply the method \"describe\" on the variables of type 'object' as follows:"
   ]
  },
  {
   "cell_type": "code",
   "execution_count": 22,
   "metadata": {
    "collapsed": false,
    "jupyter": {
     "outputs_hidden": false
    },
    "scrolled": true
   },
   "outputs": [
    {
     "data": {
      "text/html": [
       "<div>\n",
       "<style scoped>\n",
       "    .dataframe tbody tr th:only-of-type {\n",
       "        vertical-align: middle;\n",
       "    }\n",
       "\n",
       "    .dataframe tbody tr th {\n",
       "        vertical-align: top;\n",
       "    }\n",
       "\n",
       "    .dataframe thead th {\n",
       "        text-align: right;\n",
       "    }\n",
       "</style>\n",
       "<table border=\"1\" class=\"dataframe\">\n",
       "  <thead>\n",
       "    <tr style=\"text-align: right;\">\n",
       "      <th></th>\n",
       "      <th>make</th>\n",
       "      <th>aspiration</th>\n",
       "      <th>num-of-doors</th>\n",
       "      <th>body-style</th>\n",
       "      <th>drive-wheels</th>\n",
       "      <th>engine-location</th>\n",
       "      <th>engine-type</th>\n",
       "      <th>num-of-cylinders</th>\n",
       "      <th>fuel-system</th>\n",
       "      <th>horsepower-binned</th>\n",
       "    </tr>\n",
       "  </thead>\n",
       "  <tbody>\n",
       "    <tr>\n",
       "      <th>count</th>\n",
       "      <td>201</td>\n",
       "      <td>201</td>\n",
       "      <td>201</td>\n",
       "      <td>201</td>\n",
       "      <td>201</td>\n",
       "      <td>201</td>\n",
       "      <td>201</td>\n",
       "      <td>201</td>\n",
       "      <td>201</td>\n",
       "      <td>200</td>\n",
       "    </tr>\n",
       "    <tr>\n",
       "      <th>unique</th>\n",
       "      <td>22</td>\n",
       "      <td>2</td>\n",
       "      <td>2</td>\n",
       "      <td>5</td>\n",
       "      <td>3</td>\n",
       "      <td>2</td>\n",
       "      <td>6</td>\n",
       "      <td>7</td>\n",
       "      <td>8</td>\n",
       "      <td>3</td>\n",
       "    </tr>\n",
       "    <tr>\n",
       "      <th>top</th>\n",
       "      <td>toyota</td>\n",
       "      <td>std</td>\n",
       "      <td>four</td>\n",
       "      <td>sedan</td>\n",
       "      <td>fwd</td>\n",
       "      <td>front</td>\n",
       "      <td>ohc</td>\n",
       "      <td>four</td>\n",
       "      <td>mpfi</td>\n",
       "      <td>Low</td>\n",
       "    </tr>\n",
       "    <tr>\n",
       "      <th>freq</th>\n",
       "      <td>32</td>\n",
       "      <td>165</td>\n",
       "      <td>115</td>\n",
       "      <td>94</td>\n",
       "      <td>118</td>\n",
       "      <td>198</td>\n",
       "      <td>145</td>\n",
       "      <td>157</td>\n",
       "      <td>92</td>\n",
       "      <td>115</td>\n",
       "    </tr>\n",
       "  </tbody>\n",
       "</table>\n",
       "</div>"
      ],
      "text/plain": [
       "          make aspiration num-of-doors body-style drive-wheels  \\\n",
       "count      201        201          201        201          201   \n",
       "unique      22          2            2          5            3   \n",
       "top     toyota        std         four      sedan          fwd   \n",
       "freq        32        165          115         94          118   \n",
       "\n",
       "       engine-location engine-type num-of-cylinders fuel-system  \\\n",
       "count              201         201              201         201   \n",
       "unique               2           6                7           8   \n",
       "top              front         ohc             four        mpfi   \n",
       "freq               198         145              157          92   \n",
       "\n",
       "       horsepower-binned  \n",
       "count                200  \n",
       "unique                 3  \n",
       "top                  Low  \n",
       "freq                 115  "
      ]
     },
     "execution_count": 22,
     "metadata": {},
     "output_type": "execute_result"
    }
   ],
   "source": [
    "df.describe(include=['object'])"
   ]
  },
  {
   "cell_type": "markdown",
   "metadata": {},
   "source": [
    "<h3>Value Counts</h3>"
   ]
  },
  {
   "cell_type": "markdown",
   "metadata": {},
   "source": [
    "<p>Value-counts is a good way of understanding how many units of each characteristic/variable we have. We can apply the \"value_counts\" method on the column 'drive-wheels'. Don’t forget the method \"value_counts\" only works on Pandas series, not Pandas Dataframes. As a result, we only include one bracket \"df['drive-wheels']\" not two brackets \"df[['drive-wheels']]\".</p>"
   ]
  },
  {
   "cell_type": "code",
   "execution_count": 23,
   "metadata": {
    "collapsed": false,
    "jupyter": {
     "outputs_hidden": false
    }
   },
   "outputs": [
    {
     "data": {
      "text/plain": [
       "fwd    118\n",
       "rwd     75\n",
       "4wd      8\n",
       "Name: drive-wheels, dtype: int64"
      ]
     },
     "execution_count": 23,
     "metadata": {},
     "output_type": "execute_result"
    }
   ],
   "source": [
    "df['drive-wheels'].value_counts()"
   ]
  },
  {
   "cell_type": "markdown",
   "metadata": {},
   "source": [
    "We can convert the series to a Dataframe as follows :"
   ]
  },
  {
   "cell_type": "code",
   "execution_count": 24,
   "metadata": {
    "collapsed": false,
    "jupyter": {
     "outputs_hidden": false
    }
   },
   "outputs": [
    {
     "data": {
      "text/html": [
       "<div>\n",
       "<style scoped>\n",
       "    .dataframe tbody tr th:only-of-type {\n",
       "        vertical-align: middle;\n",
       "    }\n",
       "\n",
       "    .dataframe tbody tr th {\n",
       "        vertical-align: top;\n",
       "    }\n",
       "\n",
       "    .dataframe thead th {\n",
       "        text-align: right;\n",
       "    }\n",
       "</style>\n",
       "<table border=\"1\" class=\"dataframe\">\n",
       "  <thead>\n",
       "    <tr style=\"text-align: right;\">\n",
       "      <th></th>\n",
       "      <th>drive-wheels</th>\n",
       "    </tr>\n",
       "  </thead>\n",
       "  <tbody>\n",
       "    <tr>\n",
       "      <th>fwd</th>\n",
       "      <td>118</td>\n",
       "    </tr>\n",
       "    <tr>\n",
       "      <th>rwd</th>\n",
       "      <td>75</td>\n",
       "    </tr>\n",
       "    <tr>\n",
       "      <th>4wd</th>\n",
       "      <td>8</td>\n",
       "    </tr>\n",
       "  </tbody>\n",
       "</table>\n",
       "</div>"
      ],
      "text/plain": [
       "     drive-wheels\n",
       "fwd           118\n",
       "rwd            75\n",
       "4wd             8"
      ]
     },
     "execution_count": 24,
     "metadata": {},
     "output_type": "execute_result"
    }
   ],
   "source": [
    "df['drive-wheels'].value_counts().to_frame()"
   ]
  },
  {
   "cell_type": "markdown",
   "metadata": {},
   "source": [
    "Let's repeat the above steps but save the results to the dataframe \"drive_wheels_counts\" and rename the column  'drive-wheels' to 'value_counts'."
   ]
  },
  {
   "cell_type": "code",
   "execution_count": 24,
   "metadata": {
    "collapsed": false,
    "jupyter": {
     "outputs_hidden": false
    }
   },
   "outputs": [
    {
     "data": {
      "text/html": [
       "<div>\n",
       "<style scoped>\n",
       "    .dataframe tbody tr th:only-of-type {\n",
       "        vertical-align: middle;\n",
       "    }\n",
       "\n",
       "    .dataframe tbody tr th {\n",
       "        vertical-align: top;\n",
       "    }\n",
       "\n",
       "    .dataframe thead th {\n",
       "        text-align: right;\n",
       "    }\n",
       "</style>\n",
       "<table border=\"1\" class=\"dataframe\">\n",
       "  <thead>\n",
       "    <tr style=\"text-align: right;\">\n",
       "      <th></th>\n",
       "      <th>value_counts</th>\n",
       "    </tr>\n",
       "  </thead>\n",
       "  <tbody>\n",
       "    <tr>\n",
       "      <th>fwd</th>\n",
       "      <td>118</td>\n",
       "    </tr>\n",
       "    <tr>\n",
       "      <th>rwd</th>\n",
       "      <td>75</td>\n",
       "    </tr>\n",
       "    <tr>\n",
       "      <th>4wd</th>\n",
       "      <td>8</td>\n",
       "    </tr>\n",
       "  </tbody>\n",
       "</table>\n",
       "</div>"
      ],
      "text/plain": [
       "     value_counts\n",
       "fwd           118\n",
       "rwd            75\n",
       "4wd             8"
      ]
     },
     "execution_count": 24,
     "metadata": {},
     "output_type": "execute_result"
    }
   ],
   "source": [
    "drive_wheels_counts = df['drive-wheels'].value_counts().to_frame()\n",
    "drive_wheels_counts.rename(columns={'drive-wheels': 'value_counts'}, inplace=True)\n",
    "drive_wheels_counts"
   ]
  },
  {
   "cell_type": "markdown",
   "metadata": {},
   "source": [
    " Now let's rename the index to 'drive-wheels':"
   ]
  },
  {
   "cell_type": "code",
   "execution_count": 25,
   "metadata": {
    "collapsed": false,
    "jupyter": {
     "outputs_hidden": false
    }
   },
   "outputs": [
    {
     "data": {
      "text/html": [
       "<div>\n",
       "<style scoped>\n",
       "    .dataframe tbody tr th:only-of-type {\n",
       "        vertical-align: middle;\n",
       "    }\n",
       "\n",
       "    .dataframe tbody tr th {\n",
       "        vertical-align: top;\n",
       "    }\n",
       "\n",
       "    .dataframe thead th {\n",
       "        text-align: right;\n",
       "    }\n",
       "</style>\n",
       "<table border=\"1\" class=\"dataframe\">\n",
       "  <thead>\n",
       "    <tr style=\"text-align: right;\">\n",
       "      <th></th>\n",
       "      <th>value_counts</th>\n",
       "    </tr>\n",
       "    <tr>\n",
       "      <th>drive-wheels</th>\n",
       "      <th></th>\n",
       "    </tr>\n",
       "  </thead>\n",
       "  <tbody>\n",
       "    <tr>\n",
       "      <th>fwd</th>\n",
       "      <td>118</td>\n",
       "    </tr>\n",
       "    <tr>\n",
       "      <th>rwd</th>\n",
       "      <td>75</td>\n",
       "    </tr>\n",
       "    <tr>\n",
       "      <th>4wd</th>\n",
       "      <td>8</td>\n",
       "    </tr>\n",
       "  </tbody>\n",
       "</table>\n",
       "</div>"
      ],
      "text/plain": [
       "              value_counts\n",
       "drive-wheels              \n",
       "fwd                    118\n",
       "rwd                     75\n",
       "4wd                      8"
      ]
     },
     "execution_count": 25,
     "metadata": {},
     "output_type": "execute_result"
    }
   ],
   "source": [
    "drive_wheels_counts.index.name = 'drive-wheels'\n",
    "drive_wheels_counts"
   ]
  },
  {
   "cell_type": "markdown",
   "metadata": {},
   "source": [
    "We can repeat the above process for the variable 'engine-location'."
   ]
  },
  {
   "cell_type": "code",
   "execution_count": 26,
   "metadata": {
    "collapsed": false,
    "jupyter": {
     "outputs_hidden": false
    }
   },
   "outputs": [
    {
     "data": {
      "text/html": [
       "<div>\n",
       "<style scoped>\n",
       "    .dataframe tbody tr th:only-of-type {\n",
       "        vertical-align: middle;\n",
       "    }\n",
       "\n",
       "    .dataframe tbody tr th {\n",
       "        vertical-align: top;\n",
       "    }\n",
       "\n",
       "    .dataframe thead th {\n",
       "        text-align: right;\n",
       "    }\n",
       "</style>\n",
       "<table border=\"1\" class=\"dataframe\">\n",
       "  <thead>\n",
       "    <tr style=\"text-align: right;\">\n",
       "      <th></th>\n",
       "      <th>value_counts</th>\n",
       "    </tr>\n",
       "    <tr>\n",
       "      <th>engine-location</th>\n",
       "      <th></th>\n",
       "    </tr>\n",
       "  </thead>\n",
       "  <tbody>\n",
       "    <tr>\n",
       "      <th>front</th>\n",
       "      <td>198</td>\n",
       "    </tr>\n",
       "    <tr>\n",
       "      <th>rear</th>\n",
       "      <td>3</td>\n",
       "    </tr>\n",
       "  </tbody>\n",
       "</table>\n",
       "</div>"
      ],
      "text/plain": [
       "                 value_counts\n",
       "engine-location              \n",
       "front                     198\n",
       "rear                        3"
      ]
     },
     "execution_count": 26,
     "metadata": {},
     "output_type": "execute_result"
    }
   ],
   "source": [
    "# engine-location as variable\n",
    "engine_loc_counts = df['engine-location'].value_counts().to_frame()\n",
    "engine_loc_counts.rename(columns={'engine-location': 'value_counts'}, inplace=True)\n",
    "engine_loc_counts.index.name = 'engine-location'\n",
    "engine_loc_counts.head(10)"
   ]
  },
  {
   "cell_type": "markdown",
   "metadata": {},
   "source": [
    "<p>Examining the value counts of the engine location would not be a good predictor variable for the price. This is because we only have three cars with a rear engine and 198 with an engine in the front, this result is skewed. Thus, we are not able to draw any conclusions about the engine location.</p>"
   ]
  },
  {
   "cell_type": "markdown",
   "metadata": {},
   "source": [
    "<h2 id=\"basic_grouping\">4. Basics of Grouping</h2>"
   ]
  },
  {
   "cell_type": "markdown",
   "metadata": {},
   "source": [
    "<p>The \"groupby\" method groups data by different categories. The data is grouped based on one or several variables and analysis is performed on the individual groups.</p>\n",
    "\n",
    "<p>For example, let's group by the variable \"drive-wheels\". We see that there are 3 different categories of drive wheels.</p>"
   ]
  },
  {
   "cell_type": "code",
   "execution_count": 27,
   "metadata": {
    "collapsed": false,
    "jupyter": {
     "outputs_hidden": false
    }
   },
   "outputs": [
    {
     "data": {
      "text/plain": [
       "array(['rwd', 'fwd', '4wd'], dtype=object)"
      ]
     },
     "execution_count": 27,
     "metadata": {},
     "output_type": "execute_result"
    }
   ],
   "source": [
    "df['drive-wheels'].unique()"
   ]
  },
  {
   "cell_type": "markdown",
   "metadata": {},
   "source": [
    "<p>If we want to know, on average, which type of drive wheel is most valuable, we can group \"drive-wheels\" and then average them.</p>\n",
    "\n",
    "<p>We can select the columns 'drive-wheels', 'body-style' and 'price', then assign it to the variable \"df_group_one\".</p>"
   ]
  },
  {
   "cell_type": "code",
   "execution_count": 28,
   "metadata": {},
   "outputs": [],
   "source": [
    "df_group_one = df[['drive-wheels','body-style','price']]"
   ]
  },
  {
   "cell_type": "markdown",
   "metadata": {},
   "source": [
    "We can then calculate the average price for each of the different categories of data."
   ]
  },
  {
   "cell_type": "code",
   "execution_count": 29,
   "metadata": {
    "collapsed": false,
    "jupyter": {
     "outputs_hidden": false
    }
   },
   "outputs": [
    {
     "data": {
      "text/html": [
       "<div>\n",
       "<style scoped>\n",
       "    .dataframe tbody tr th:only-of-type {\n",
       "        vertical-align: middle;\n",
       "    }\n",
       "\n",
       "    .dataframe tbody tr th {\n",
       "        vertical-align: top;\n",
       "    }\n",
       "\n",
       "    .dataframe thead th {\n",
       "        text-align: right;\n",
       "    }\n",
       "</style>\n",
       "<table border=\"1\" class=\"dataframe\">\n",
       "  <thead>\n",
       "    <tr style=\"text-align: right;\">\n",
       "      <th></th>\n",
       "      <th>drive-wheels</th>\n",
       "      <th>price</th>\n",
       "    </tr>\n",
       "  </thead>\n",
       "  <tbody>\n",
       "    <tr>\n",
       "      <th>0</th>\n",
       "      <td>4wd</td>\n",
       "      <td>10241.000000</td>\n",
       "    </tr>\n",
       "    <tr>\n",
       "      <th>1</th>\n",
       "      <td>fwd</td>\n",
       "      <td>9244.779661</td>\n",
       "    </tr>\n",
       "    <tr>\n",
       "      <th>2</th>\n",
       "      <td>rwd</td>\n",
       "      <td>19757.613333</td>\n",
       "    </tr>\n",
       "  </tbody>\n",
       "</table>\n",
       "</div>"
      ],
      "text/plain": [
       "  drive-wheels         price\n",
       "0          4wd  10241.000000\n",
       "1          fwd   9244.779661\n",
       "2          rwd  19757.613333"
      ]
     },
     "execution_count": 29,
     "metadata": {},
     "output_type": "execute_result"
    }
   ],
   "source": [
    "# grouping results\n",
    "df_group_one = df_group_one.groupby(['drive-wheels'],as_index=False).mean()\n",
    "df_group_one"
   ]
  },
  {
   "cell_type": "markdown",
   "metadata": {},
   "source": [
    "<p>From our data, it seems rear-wheel drive vehicles are, on average, the most expensive, while 4-wheel and front-wheel are approximately the same in price.</p>\n",
    "\n",
    "<p>You can also group with multiple variables. For example, let's group by both 'drive-wheels' and 'body-style'. This groups the dataframe by the unique combinations 'drive-wheels' and 'body-style'. We can store the results in the variable 'grouped_test1'.</p>"
   ]
  },
  {
   "cell_type": "code",
   "execution_count": 30,
   "metadata": {
    "collapsed": false,
    "jupyter": {
     "outputs_hidden": false
    }
   },
   "outputs": [
    {
     "data": {
      "text/html": [
       "<div>\n",
       "<style scoped>\n",
       "    .dataframe tbody tr th:only-of-type {\n",
       "        vertical-align: middle;\n",
       "    }\n",
       "\n",
       "    .dataframe tbody tr th {\n",
       "        vertical-align: top;\n",
       "    }\n",
       "\n",
       "    .dataframe thead th {\n",
       "        text-align: right;\n",
       "    }\n",
       "</style>\n",
       "<table border=\"1\" class=\"dataframe\">\n",
       "  <thead>\n",
       "    <tr style=\"text-align: right;\">\n",
       "      <th></th>\n",
       "      <th>drive-wheels</th>\n",
       "      <th>body-style</th>\n",
       "      <th>price</th>\n",
       "    </tr>\n",
       "  </thead>\n",
       "  <tbody>\n",
       "    <tr>\n",
       "      <th>0</th>\n",
       "      <td>4wd</td>\n",
       "      <td>hatchback</td>\n",
       "      <td>7603.000000</td>\n",
       "    </tr>\n",
       "    <tr>\n",
       "      <th>1</th>\n",
       "      <td>4wd</td>\n",
       "      <td>sedan</td>\n",
       "      <td>12647.333333</td>\n",
       "    </tr>\n",
       "    <tr>\n",
       "      <th>2</th>\n",
       "      <td>4wd</td>\n",
       "      <td>wagon</td>\n",
       "      <td>9095.750000</td>\n",
       "    </tr>\n",
       "    <tr>\n",
       "      <th>3</th>\n",
       "      <td>fwd</td>\n",
       "      <td>convertible</td>\n",
       "      <td>11595.000000</td>\n",
       "    </tr>\n",
       "    <tr>\n",
       "      <th>4</th>\n",
       "      <td>fwd</td>\n",
       "      <td>hardtop</td>\n",
       "      <td>8249.000000</td>\n",
       "    </tr>\n",
       "    <tr>\n",
       "      <th>5</th>\n",
       "      <td>fwd</td>\n",
       "      <td>hatchback</td>\n",
       "      <td>8396.387755</td>\n",
       "    </tr>\n",
       "    <tr>\n",
       "      <th>6</th>\n",
       "      <td>fwd</td>\n",
       "      <td>sedan</td>\n",
       "      <td>9811.800000</td>\n",
       "    </tr>\n",
       "    <tr>\n",
       "      <th>7</th>\n",
       "      <td>fwd</td>\n",
       "      <td>wagon</td>\n",
       "      <td>9997.333333</td>\n",
       "    </tr>\n",
       "    <tr>\n",
       "      <th>8</th>\n",
       "      <td>rwd</td>\n",
       "      <td>convertible</td>\n",
       "      <td>23949.600000</td>\n",
       "    </tr>\n",
       "    <tr>\n",
       "      <th>9</th>\n",
       "      <td>rwd</td>\n",
       "      <td>hardtop</td>\n",
       "      <td>24202.714286</td>\n",
       "    </tr>\n",
       "    <tr>\n",
       "      <th>10</th>\n",
       "      <td>rwd</td>\n",
       "      <td>hatchback</td>\n",
       "      <td>14337.777778</td>\n",
       "    </tr>\n",
       "    <tr>\n",
       "      <th>11</th>\n",
       "      <td>rwd</td>\n",
       "      <td>sedan</td>\n",
       "      <td>21711.833333</td>\n",
       "    </tr>\n",
       "    <tr>\n",
       "      <th>12</th>\n",
       "      <td>rwd</td>\n",
       "      <td>wagon</td>\n",
       "      <td>16994.222222</td>\n",
       "    </tr>\n",
       "  </tbody>\n",
       "</table>\n",
       "</div>"
      ],
      "text/plain": [
       "   drive-wheels   body-style         price\n",
       "0           4wd    hatchback   7603.000000\n",
       "1           4wd        sedan  12647.333333\n",
       "2           4wd        wagon   9095.750000\n",
       "3           fwd  convertible  11595.000000\n",
       "4           fwd      hardtop   8249.000000\n",
       "5           fwd    hatchback   8396.387755\n",
       "6           fwd        sedan   9811.800000\n",
       "7           fwd        wagon   9997.333333\n",
       "8           rwd  convertible  23949.600000\n",
       "9           rwd      hardtop  24202.714286\n",
       "10          rwd    hatchback  14337.777778\n",
       "11          rwd        sedan  21711.833333\n",
       "12          rwd        wagon  16994.222222"
      ]
     },
     "execution_count": 30,
     "metadata": {},
     "output_type": "execute_result"
    }
   ],
   "source": [
    "# grouping results\n",
    "df_gptest = df[['drive-wheels','body-style','price']]\n",
    "grouped_test1 = df_gptest.groupby(['drive-wheels','body-style'],as_index=False).mean()\n",
    "grouped_test1"
   ]
  },
  {
   "cell_type": "markdown",
   "metadata": {},
   "source": [
    "<p>This grouped data is much easier to visualize when it is made into a pivot table. A pivot table is like an Excel spreadsheet, with one variable along the column and another along the row. We can convert the dataframe to a pivot table using the method \"pivot \" to create a pivot table from the groups.</p>\n",
    "\n",
    "<p>In this case, we will leave the drive-wheel variable as the rows of the table, and pivot body-style to become the columns of the table:</p>"
   ]
  },
  {
   "cell_type": "code",
   "execution_count": 32,
   "metadata": {
    "collapsed": false,
    "jupyter": {
     "outputs_hidden": false
    }
   },
   "outputs": [
    {
     "data": {
      "text/html": [
       "<div>\n",
       "<style scoped>\n",
       "    .dataframe tbody tr th:only-of-type {\n",
       "        vertical-align: middle;\n",
       "    }\n",
       "\n",
       "    .dataframe tbody tr th {\n",
       "        vertical-align: top;\n",
       "    }\n",
       "\n",
       "    .dataframe thead tr th {\n",
       "        text-align: left;\n",
       "    }\n",
       "\n",
       "    .dataframe thead tr:last-of-type th {\n",
       "        text-align: right;\n",
       "    }\n",
       "</style>\n",
       "<table border=\"1\" class=\"dataframe\">\n",
       "  <thead>\n",
       "    <tr>\n",
       "      <th></th>\n",
       "      <th colspan=\"5\" halign=\"left\">price</th>\n",
       "    </tr>\n",
       "    <tr>\n",
       "      <th>body-style</th>\n",
       "      <th>convertible</th>\n",
       "      <th>hardtop</th>\n",
       "      <th>hatchback</th>\n",
       "      <th>sedan</th>\n",
       "      <th>wagon</th>\n",
       "    </tr>\n",
       "    <tr>\n",
       "      <th>drive-wheels</th>\n",
       "      <th></th>\n",
       "      <th></th>\n",
       "      <th></th>\n",
       "      <th></th>\n",
       "      <th></th>\n",
       "    </tr>\n",
       "  </thead>\n",
       "  <tbody>\n",
       "    <tr>\n",
       "      <th>4wd</th>\n",
       "      <td>NaN</td>\n",
       "      <td>NaN</td>\n",
       "      <td>7603.000000</td>\n",
       "      <td>12647.333333</td>\n",
       "      <td>9095.750000</td>\n",
       "    </tr>\n",
       "    <tr>\n",
       "      <th>fwd</th>\n",
       "      <td>11595.0</td>\n",
       "      <td>8249.000000</td>\n",
       "      <td>8396.387755</td>\n",
       "      <td>9811.800000</td>\n",
       "      <td>9997.333333</td>\n",
       "    </tr>\n",
       "    <tr>\n",
       "      <th>rwd</th>\n",
       "      <td>23949.6</td>\n",
       "      <td>24202.714286</td>\n",
       "      <td>14337.777778</td>\n",
       "      <td>21711.833333</td>\n",
       "      <td>16994.222222</td>\n",
       "    </tr>\n",
       "  </tbody>\n",
       "</table>\n",
       "</div>"
      ],
      "text/plain": [
       "                   price                                            \\\n",
       "body-style   convertible       hardtop     hatchback         sedan   \n",
       "drive-wheels                                                         \n",
       "4wd                  NaN           NaN   7603.000000  12647.333333   \n",
       "fwd              11595.0   8249.000000   8396.387755   9811.800000   \n",
       "rwd              23949.6  24202.714286  14337.777778  21711.833333   \n",
       "\n",
       "                            \n",
       "body-style           wagon  \n",
       "drive-wheels                \n",
       "4wd            9095.750000  \n",
       "fwd            9997.333333  \n",
       "rwd           16994.222222  "
      ]
     },
     "execution_count": 32,
     "metadata": {},
     "output_type": "execute_result"
    }
   ],
   "source": [
    "grouped_pivot = grouped_test1.pivot(index='drive-wheels',columns='body-style')\n",
    "grouped_pivot"
   ]
  },
  {
   "cell_type": "markdown",
   "metadata": {},
   "source": [
    "<p>Often, we won't have data for some of the pivot cells. We can fill these missing cells with the value 0, but any other value could potentially be used as well. It should be mentioned that missing data is quite a complex subject and is an entire course on its own.</p>"
   ]
  },
  {
   "cell_type": "code",
   "execution_count": 34,
   "metadata": {
    "collapsed": false,
    "jupyter": {
     "outputs_hidden": false
    },
    "scrolled": true
   },
   "outputs": [
    {
     "data": {
      "text/html": [
       "<div>\n",
       "<style scoped>\n",
       "    .dataframe tbody tr th:only-of-type {\n",
       "        vertical-align: middle;\n",
       "    }\n",
       "\n",
       "    .dataframe tbody tr th {\n",
       "        vertical-align: top;\n",
       "    }\n",
       "\n",
       "    .dataframe thead tr th {\n",
       "        text-align: left;\n",
       "    }\n",
       "\n",
       "    .dataframe thead tr:last-of-type th {\n",
       "        text-align: right;\n",
       "    }\n",
       "</style>\n",
       "<table border=\"1\" class=\"dataframe\">\n",
       "  <thead>\n",
       "    <tr>\n",
       "      <th></th>\n",
       "      <th colspan=\"5\" halign=\"left\">price</th>\n",
       "    </tr>\n",
       "    <tr>\n",
       "      <th>body-style</th>\n",
       "      <th>convertible</th>\n",
       "      <th>hardtop</th>\n",
       "      <th>hatchback</th>\n",
       "      <th>sedan</th>\n",
       "      <th>wagon</th>\n",
       "    </tr>\n",
       "    <tr>\n",
       "      <th>drive-wheels</th>\n",
       "      <th></th>\n",
       "      <th></th>\n",
       "      <th></th>\n",
       "      <th></th>\n",
       "      <th></th>\n",
       "    </tr>\n",
       "  </thead>\n",
       "  <tbody>\n",
       "    <tr>\n",
       "      <th>4wd</th>\n",
       "      <td>0.0</td>\n",
       "      <td>0.000000</td>\n",
       "      <td>7603.000000</td>\n",
       "      <td>12647.333333</td>\n",
       "      <td>9095.750000</td>\n",
       "    </tr>\n",
       "    <tr>\n",
       "      <th>fwd</th>\n",
       "      <td>11595.0</td>\n",
       "      <td>8249.000000</td>\n",
       "      <td>8396.387755</td>\n",
       "      <td>9811.800000</td>\n",
       "      <td>9997.333333</td>\n",
       "    </tr>\n",
       "    <tr>\n",
       "      <th>rwd</th>\n",
       "      <td>23949.6</td>\n",
       "      <td>24202.714286</td>\n",
       "      <td>14337.777778</td>\n",
       "      <td>21711.833333</td>\n",
       "      <td>16994.222222</td>\n",
       "    </tr>\n",
       "  </tbody>\n",
       "</table>\n",
       "</div>"
      ],
      "text/plain": [
       "                   price                                            \\\n",
       "body-style   convertible       hardtop     hatchback         sedan   \n",
       "drive-wheels                                                         \n",
       "4wd                  0.0      0.000000   7603.000000  12647.333333   \n",
       "fwd              11595.0   8249.000000   8396.387755   9811.800000   \n",
       "rwd              23949.6  24202.714286  14337.777778  21711.833333   \n",
       "\n",
       "                            \n",
       "body-style           wagon  \n",
       "drive-wheels                \n",
       "4wd            9095.750000  \n",
       "fwd            9997.333333  \n",
       "rwd           16994.222222  "
      ]
     },
     "execution_count": 34,
     "metadata": {},
     "output_type": "execute_result"
    }
   ],
   "source": [
    "grouped_pivot = grouped_pivot.fillna(0) #fill missing values with 0\n",
    "grouped_pivot"
   ]
  },
  {
   "cell_type": "markdown",
   "metadata": {},
   "source": [
    "<div class=\"alert alert-danger alertdanger\" style=\"margin-top: 20px\">\n",
    "<h1>Question 4:</h1>\n",
    "\n",
    "<p>Use the \"groupby\" function to find the average \"price\" of each car based on \"body-style\" ? </p>\n",
    "</div>"
   ]
  },
  {
   "cell_type": "code",
   "execution_count": 35,
   "metadata": {
    "collapsed": false,
    "jupyter": {
     "outputs_hidden": false
    }
   },
   "outputs": [
    {
     "data": {
      "text/html": [
       "<div>\n",
       "<style scoped>\n",
       "    .dataframe tbody tr th:only-of-type {\n",
       "        vertical-align: middle;\n",
       "    }\n",
       "\n",
       "    .dataframe tbody tr th {\n",
       "        vertical-align: top;\n",
       "    }\n",
       "\n",
       "    .dataframe thead th {\n",
       "        text-align: right;\n",
       "    }\n",
       "</style>\n",
       "<table border=\"1\" class=\"dataframe\">\n",
       "  <thead>\n",
       "    <tr style=\"text-align: right;\">\n",
       "      <th></th>\n",
       "      <th>body-style</th>\n",
       "      <th>price</th>\n",
       "    </tr>\n",
       "  </thead>\n",
       "  <tbody>\n",
       "    <tr>\n",
       "      <th>0</th>\n",
       "      <td>convertible</td>\n",
       "      <td>21890.500000</td>\n",
       "    </tr>\n",
       "    <tr>\n",
       "      <th>1</th>\n",
       "      <td>hardtop</td>\n",
       "      <td>22208.500000</td>\n",
       "    </tr>\n",
       "    <tr>\n",
       "      <th>2</th>\n",
       "      <td>hatchback</td>\n",
       "      <td>9957.441176</td>\n",
       "    </tr>\n",
       "    <tr>\n",
       "      <th>3</th>\n",
       "      <td>sedan</td>\n",
       "      <td>14459.755319</td>\n",
       "    </tr>\n",
       "    <tr>\n",
       "      <th>4</th>\n",
       "      <td>wagon</td>\n",
       "      <td>12371.960000</td>\n",
       "    </tr>\n",
       "  </tbody>\n",
       "</table>\n",
       "</div>"
      ],
      "text/plain": [
       "    body-style         price\n",
       "0  convertible  21890.500000\n",
       "1      hardtop  22208.500000\n",
       "2    hatchback   9957.441176\n",
       "3        sedan  14459.755319\n",
       "4        wagon  12371.960000"
      ]
     },
     "execution_count": 35,
     "metadata": {},
     "output_type": "execute_result"
    }
   ],
   "source": [
    "# Write your code below and press Shift+Enter to execute \n",
    "df_gptest2 = df[['body-style','price']]\n",
    "grouped_test_bodystyle = df_gptest2.groupby(['body-style'],as_index= False).mean()\n",
    "grouped_test_bodystyle"
   ]
  },
  {
   "cell_type": "markdown",
   "metadata": {},
   "source": [
    "Double-click <b>here</b> for the solution.\n",
    "\n",
    "<!-- The answer is below:\n",
    "\n",
    "# grouping results\n",
    "df_gptest2 = df[['body-style','price']]\n",
    "grouped_test_bodystyle = df_gptest2.groupby(['body-style'],as_index= False).mean()\n",
    "grouped_test_bodystyle\n",
    "\n",
    "-->"
   ]
  },
  {
   "cell_type": "markdown",
   "metadata": {},
   "source": [
    "If you did not import \"pyplot\" let's do it again. "
   ]
  },
  {
   "cell_type": "code",
   "execution_count": 36,
   "metadata": {},
   "outputs": [],
   "source": [
    "import matplotlib.pyplot as plt\n",
    "%matplotlib inline "
   ]
  },
  {
   "cell_type": "markdown",
   "metadata": {},
   "source": [
    "<h4>Variables: Drive Wheels and Body Style vs Price</h4>"
   ]
  },
  {
   "cell_type": "markdown",
   "metadata": {},
   "source": [
    "Let's use a heat map to visualize the relationship between Body Style vs Price."
   ]
  },
  {
   "cell_type": "code",
   "execution_count": 37,
   "metadata": {
    "collapsed": false,
    "jupyter": {
     "outputs_hidden": false
    }
   },
   "outputs": [
    {
     "data": {
      "image/png": "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\n",
      "text/plain": [
       "<Figure size 432x288 with 2 Axes>"
      ]
     },
     "metadata": {
      "needs_background": "light"
     },
     "output_type": "display_data"
    }
   ],
   "source": [
    "#use the grouped results\n",
    "plt.pcolor(grouped_pivot, cmap='RdBu')\n",
    "plt.colorbar()\n",
    "plt.show()"
   ]
  },
  {
   "cell_type": "markdown",
   "metadata": {},
   "source": [
    "<p>The heatmap plots the target variable (price) proportional to colour with respect to the variables 'drive-wheel' and 'body-style' in the vertical and horizontal axis respectively. This allows us to visualize how the price is related to 'drive-wheel' and 'body-style'.</p>\n",
    "\n",
    "<p>The default labels convey no useful information to us. Let's change that:</p>"
   ]
  },
  {
   "cell_type": "code",
   "execution_count": 38,
   "metadata": {
    "collapsed": false,
    "jupyter": {
     "outputs_hidden": false
    }
   },
   "outputs": [
    {
     "data": {
      "image/png": "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\n",
      "text/plain": [
       "<Figure size 432x288 with 2 Axes>"
      ]
     },
     "metadata": {
      "needs_background": "light"
     },
     "output_type": "display_data"
    }
   ],
   "source": [
    "fig, ax = plt.subplots()\n",
    "im = ax.pcolor(grouped_pivot, cmap='RdBu')\n",
    "\n",
    "#label names\n",
    "row_labels = grouped_pivot.columns.levels[1]\n",
    "col_labels = grouped_pivot.index\n",
    "\n",
    "#move ticks and labels to the center\n",
    "ax.set_xticks(np.arange(grouped_pivot.shape[1]) + 0.5, minor=False)\n",
    "ax.set_yticks(np.arange(grouped_pivot.shape[0]) + 0.5, minor=False)\n",
    "\n",
    "#insert labels\n",
    "ax.set_xticklabels(row_labels, minor=False)\n",
    "ax.set_yticklabels(col_labels, minor=False)\n",
    "\n",
    "#rotate label if too long\n",
    "plt.xticks(rotation=90)\n",
    "\n",
    "fig.colorbar(im)\n",
    "plt.show()"
   ]
  },
  {
   "cell_type": "markdown",
   "metadata": {},
   "source": [
    "<p>Visualization is very important in data science, and Python visualization packages provide great freedom. We will go more in-depth in a separate Python Visualizations course.</p>\n",
    "\n",
    "<p>The main question we want to answer in this module, is \"What are the main characteristics which have the most impact on the car price?\".</p>\n",
    "\n",
    "<p>To get a better measure of the important characteristics, we look at the correlation of these variables with the car price, in other words: how is the car price dependent on this variable?</p>"
   ]
  },
  {
   "cell_type": "markdown",
   "metadata": {},
   "source": [
    "<h2 id=\"correlation_causation\">5. Correlation and Causation</h2>"
   ]
  },
  {
   "cell_type": "markdown",
   "metadata": {},
   "source": [
    "<p><b>Correlation</b>: a measure of the extent of interdependence between variables.</p>\n",
    "\n",
    "<p><b>Causation</b>: the relationship between cause and effect between two variables.</p>\n",
    "\n",
    "<p>It is important to know the difference between these two and that correlation does not imply causation. Determining correlation is much simpler  the determining causation as causation may require independent experimentation.</p>"
   ]
  },
  {
   "cell_type": "markdown",
   "metadata": {},
   "source": [
    "<p3>Pearson Correlation</p>\n",
    "<p>The Pearson Correlation measures the linear dependence between two variables X and Y.</p>\n",
    "<p>The resulting coefficient is a value between -1 and 1 inclusive, where:</p>\n",
    "<ul>\n",
    "    <li><b>1</b>: Total positive linear correlation.</li>\n",
    "    <li><b>0</b>: No linear correlation, the two variables most likely do not affect each other.</li>\n",
    "    <li><b>-1</b>: Total negative linear correlation.</li>\n",
    "</ul>"
   ]
  },
  {
   "cell_type": "markdown",
   "metadata": {},
   "source": [
    "<p>Pearson Correlation is the default method of the function \"corr\".  Like before we can calculate the Pearson Correlation of the of the 'int64' or 'float64'  variables.</p>"
   ]
  },
  {
   "cell_type": "code",
   "execution_count": 39,
   "metadata": {
    "collapsed": false,
    "jupyter": {
     "outputs_hidden": false
    }
   },
   "outputs": [
    {
     "data": {
      "text/html": [
       "<div>\n",
       "<style scoped>\n",
       "    .dataframe tbody tr th:only-of-type {\n",
       "        vertical-align: middle;\n",
       "    }\n",
       "\n",
       "    .dataframe tbody tr th {\n",
       "        vertical-align: top;\n",
       "    }\n",
       "\n",
       "    .dataframe thead th {\n",
       "        text-align: right;\n",
       "    }\n",
       "</style>\n",
       "<table border=\"1\" class=\"dataframe\">\n",
       "  <thead>\n",
       "    <tr style=\"text-align: right;\">\n",
       "      <th></th>\n",
       "      <th>symboling</th>\n",
       "      <th>normalized-losses</th>\n",
       "      <th>wheel-base</th>\n",
       "      <th>length</th>\n",
       "      <th>width</th>\n",
       "      <th>height</th>\n",
       "      <th>curb-weight</th>\n",
       "      <th>engine-size</th>\n",
       "      <th>bore</th>\n",
       "      <th>stroke</th>\n",
       "      <th>compression-ratio</th>\n",
       "      <th>horsepower</th>\n",
       "      <th>peak-rpm</th>\n",
       "      <th>city-mpg</th>\n",
       "      <th>highway-mpg</th>\n",
       "      <th>price</th>\n",
       "      <th>city-L/100km</th>\n",
       "      <th>diesel</th>\n",
       "      <th>gas</th>\n",
       "    </tr>\n",
       "  </thead>\n",
       "  <tbody>\n",
       "    <tr>\n",
       "      <th>symboling</th>\n",
       "      <td>1.000000</td>\n",
       "      <td>0.466264</td>\n",
       "      <td>-0.535987</td>\n",
       "      <td>-0.365404</td>\n",
       "      <td>-0.242423</td>\n",
       "      <td>-0.550160</td>\n",
       "      <td>-0.233118</td>\n",
       "      <td>-0.110581</td>\n",
       "      <td>-0.140019</td>\n",
       "      <td>-0.008245</td>\n",
       "      <td>-0.182196</td>\n",
       "      <td>0.075819</td>\n",
       "      <td>0.279740</td>\n",
       "      <td>-0.035527</td>\n",
       "      <td>0.036233</td>\n",
       "      <td>-0.082391</td>\n",
       "      <td>0.066171</td>\n",
       "      <td>-0.196735</td>\n",
       "      <td>0.196735</td>\n",
       "    </tr>\n",
       "    <tr>\n",
       "      <th>normalized-losses</th>\n",
       "      <td>0.466264</td>\n",
       "      <td>1.000000</td>\n",
       "      <td>-0.056661</td>\n",
       "      <td>0.019424</td>\n",
       "      <td>0.086802</td>\n",
       "      <td>-0.373737</td>\n",
       "      <td>0.099404</td>\n",
       "      <td>0.112360</td>\n",
       "      <td>-0.029862</td>\n",
       "      <td>0.055563</td>\n",
       "      <td>-0.114713</td>\n",
       "      <td>0.217299</td>\n",
       "      <td>0.239543</td>\n",
       "      <td>-0.225016</td>\n",
       "      <td>-0.181877</td>\n",
       "      <td>0.133999</td>\n",
       "      <td>0.238567</td>\n",
       "      <td>-0.101546</td>\n",
       "      <td>0.101546</td>\n",
       "    </tr>\n",
       "    <tr>\n",
       "      <th>wheel-base</th>\n",
       "      <td>-0.535987</td>\n",
       "      <td>-0.056661</td>\n",
       "      <td>1.000000</td>\n",
       "      <td>0.876024</td>\n",
       "      <td>0.814507</td>\n",
       "      <td>0.590742</td>\n",
       "      <td>0.782097</td>\n",
       "      <td>0.572027</td>\n",
       "      <td>0.493244</td>\n",
       "      <td>0.158502</td>\n",
       "      <td>0.250313</td>\n",
       "      <td>0.371147</td>\n",
       "      <td>-0.360305</td>\n",
       "      <td>-0.470606</td>\n",
       "      <td>-0.543304</td>\n",
       "      <td>0.584642</td>\n",
       "      <td>0.476153</td>\n",
       "      <td>0.307237</td>\n",
       "      <td>-0.307237</td>\n",
       "    </tr>\n",
       "    <tr>\n",
       "      <th>length</th>\n",
       "      <td>-0.365404</td>\n",
       "      <td>0.019424</td>\n",
       "      <td>0.876024</td>\n",
       "      <td>1.000000</td>\n",
       "      <td>0.857170</td>\n",
       "      <td>0.492063</td>\n",
       "      <td>0.880665</td>\n",
       "      <td>0.685025</td>\n",
       "      <td>0.608971</td>\n",
       "      <td>0.124139</td>\n",
       "      <td>0.159733</td>\n",
       "      <td>0.579821</td>\n",
       "      <td>-0.285970</td>\n",
       "      <td>-0.665192</td>\n",
       "      <td>-0.698142</td>\n",
       "      <td>0.690628</td>\n",
       "      <td>0.657373</td>\n",
       "      <td>0.211187</td>\n",
       "      <td>-0.211187</td>\n",
       "    </tr>\n",
       "    <tr>\n",
       "      <th>width</th>\n",
       "      <td>-0.242423</td>\n",
       "      <td>0.086802</td>\n",
       "      <td>0.814507</td>\n",
       "      <td>0.857170</td>\n",
       "      <td>1.000000</td>\n",
       "      <td>0.306002</td>\n",
       "      <td>0.866201</td>\n",
       "      <td>0.729436</td>\n",
       "      <td>0.544885</td>\n",
       "      <td>0.188829</td>\n",
       "      <td>0.189867</td>\n",
       "      <td>0.615077</td>\n",
       "      <td>-0.245800</td>\n",
       "      <td>-0.633531</td>\n",
       "      <td>-0.680635</td>\n",
       "      <td>0.751265</td>\n",
       "      <td>0.673363</td>\n",
       "      <td>0.244356</td>\n",
       "      <td>-0.244356</td>\n",
       "    </tr>\n",
       "    <tr>\n",
       "      <th>height</th>\n",
       "      <td>-0.550160</td>\n",
       "      <td>-0.373737</td>\n",
       "      <td>0.590742</td>\n",
       "      <td>0.492063</td>\n",
       "      <td>0.306002</td>\n",
       "      <td>1.000000</td>\n",
       "      <td>0.307581</td>\n",
       "      <td>0.074694</td>\n",
       "      <td>0.180449</td>\n",
       "      <td>-0.062704</td>\n",
       "      <td>0.259737</td>\n",
       "      <td>-0.087027</td>\n",
       "      <td>-0.309974</td>\n",
       "      <td>-0.049800</td>\n",
       "      <td>-0.104812</td>\n",
       "      <td>0.135486</td>\n",
       "      <td>0.003811</td>\n",
       "      <td>0.281578</td>\n",
       "      <td>-0.281578</td>\n",
       "    </tr>\n",
       "    <tr>\n",
       "      <th>curb-weight</th>\n",
       "      <td>-0.233118</td>\n",
       "      <td>0.099404</td>\n",
       "      <td>0.782097</td>\n",
       "      <td>0.880665</td>\n",
       "      <td>0.866201</td>\n",
       "      <td>0.307581</td>\n",
       "      <td>1.000000</td>\n",
       "      <td>0.849072</td>\n",
       "      <td>0.644060</td>\n",
       "      <td>0.167562</td>\n",
       "      <td>0.156433</td>\n",
       "      <td>0.757976</td>\n",
       "      <td>-0.279361</td>\n",
       "      <td>-0.749543</td>\n",
       "      <td>-0.794889</td>\n",
       "      <td>0.834415</td>\n",
       "      <td>0.785353</td>\n",
       "      <td>0.221046</td>\n",
       "      <td>-0.221046</td>\n",
       "    </tr>\n",
       "    <tr>\n",
       "      <th>engine-size</th>\n",
       "      <td>-0.110581</td>\n",
       "      <td>0.112360</td>\n",
       "      <td>0.572027</td>\n",
       "      <td>0.685025</td>\n",
       "      <td>0.729436</td>\n",
       "      <td>0.074694</td>\n",
       "      <td>0.849072</td>\n",
       "      <td>1.000000</td>\n",
       "      <td>0.572609</td>\n",
       "      <td>0.209523</td>\n",
       "      <td>0.028889</td>\n",
       "      <td>0.822676</td>\n",
       "      <td>-0.256733</td>\n",
       "      <td>-0.650546</td>\n",
       "      <td>-0.679571</td>\n",
       "      <td>0.872335</td>\n",
       "      <td>0.745059</td>\n",
       "      <td>0.070779</td>\n",
       "      <td>-0.070779</td>\n",
       "    </tr>\n",
       "    <tr>\n",
       "      <th>bore</th>\n",
       "      <td>-0.140019</td>\n",
       "      <td>-0.029862</td>\n",
       "      <td>0.493244</td>\n",
       "      <td>0.608971</td>\n",
       "      <td>0.544885</td>\n",
       "      <td>0.180449</td>\n",
       "      <td>0.644060</td>\n",
       "      <td>0.572609</td>\n",
       "      <td>1.000000</td>\n",
       "      <td>-0.055390</td>\n",
       "      <td>0.001263</td>\n",
       "      <td>0.566936</td>\n",
       "      <td>-0.267392</td>\n",
       "      <td>-0.582027</td>\n",
       "      <td>-0.591309</td>\n",
       "      <td>0.543155</td>\n",
       "      <td>0.554610</td>\n",
       "      <td>0.054458</td>\n",
       "      <td>-0.054458</td>\n",
       "    </tr>\n",
       "    <tr>\n",
       "      <th>stroke</th>\n",
       "      <td>-0.008245</td>\n",
       "      <td>0.055563</td>\n",
       "      <td>0.158502</td>\n",
       "      <td>0.124139</td>\n",
       "      <td>0.188829</td>\n",
       "      <td>-0.062704</td>\n",
       "      <td>0.167562</td>\n",
       "      <td>0.209523</td>\n",
       "      <td>-0.055390</td>\n",
       "      <td>1.000000</td>\n",
       "      <td>0.187923</td>\n",
       "      <td>0.098462</td>\n",
       "      <td>-0.065713</td>\n",
       "      <td>-0.034696</td>\n",
       "      <td>-0.035201</td>\n",
       "      <td>0.082310</td>\n",
       "      <td>0.037300</td>\n",
       "      <td>0.241303</td>\n",
       "      <td>-0.241303</td>\n",
       "    </tr>\n",
       "    <tr>\n",
       "      <th>compression-ratio</th>\n",
       "      <td>-0.182196</td>\n",
       "      <td>-0.114713</td>\n",
       "      <td>0.250313</td>\n",
       "      <td>0.159733</td>\n",
       "      <td>0.189867</td>\n",
       "      <td>0.259737</td>\n",
       "      <td>0.156433</td>\n",
       "      <td>0.028889</td>\n",
       "      <td>0.001263</td>\n",
       "      <td>0.187923</td>\n",
       "      <td>1.000000</td>\n",
       "      <td>-0.214514</td>\n",
       "      <td>-0.435780</td>\n",
       "      <td>0.331425</td>\n",
       "      <td>0.268465</td>\n",
       "      <td>0.071107</td>\n",
       "      <td>-0.299372</td>\n",
       "      <td>0.985231</td>\n",
       "      <td>-0.985231</td>\n",
       "    </tr>\n",
       "    <tr>\n",
       "      <th>horsepower</th>\n",
       "      <td>0.075819</td>\n",
       "      <td>0.217299</td>\n",
       "      <td>0.371147</td>\n",
       "      <td>0.579821</td>\n",
       "      <td>0.615077</td>\n",
       "      <td>-0.087027</td>\n",
       "      <td>0.757976</td>\n",
       "      <td>0.822676</td>\n",
       "      <td>0.566936</td>\n",
       "      <td>0.098462</td>\n",
       "      <td>-0.214514</td>\n",
       "      <td>1.000000</td>\n",
       "      <td>0.107885</td>\n",
       "      <td>-0.822214</td>\n",
       "      <td>-0.804575</td>\n",
       "      <td>0.809575</td>\n",
       "      <td>0.889488</td>\n",
       "      <td>-0.169053</td>\n",
       "      <td>0.169053</td>\n",
       "    </tr>\n",
       "    <tr>\n",
       "      <th>peak-rpm</th>\n",
       "      <td>0.279740</td>\n",
       "      <td>0.239543</td>\n",
       "      <td>-0.360305</td>\n",
       "      <td>-0.285970</td>\n",
       "      <td>-0.245800</td>\n",
       "      <td>-0.309974</td>\n",
       "      <td>-0.279361</td>\n",
       "      <td>-0.256733</td>\n",
       "      <td>-0.267392</td>\n",
       "      <td>-0.065713</td>\n",
       "      <td>-0.435780</td>\n",
       "      <td>0.107885</td>\n",
       "      <td>1.000000</td>\n",
       "      <td>-0.115413</td>\n",
       "      <td>-0.058598</td>\n",
       "      <td>-0.101616</td>\n",
       "      <td>0.115830</td>\n",
       "      <td>-0.475812</td>\n",
       "      <td>0.475812</td>\n",
       "    </tr>\n",
       "    <tr>\n",
       "      <th>city-mpg</th>\n",
       "      <td>-0.035527</td>\n",
       "      <td>-0.225016</td>\n",
       "      <td>-0.470606</td>\n",
       "      <td>-0.665192</td>\n",
       "      <td>-0.633531</td>\n",
       "      <td>-0.049800</td>\n",
       "      <td>-0.749543</td>\n",
       "      <td>-0.650546</td>\n",
       "      <td>-0.582027</td>\n",
       "      <td>-0.034696</td>\n",
       "      <td>0.331425</td>\n",
       "      <td>-0.822214</td>\n",
       "      <td>-0.115413</td>\n",
       "      <td>1.000000</td>\n",
       "      <td>0.972044</td>\n",
       "      <td>-0.686571</td>\n",
       "      <td>-0.949713</td>\n",
       "      <td>0.265676</td>\n",
       "      <td>-0.265676</td>\n",
       "    </tr>\n",
       "    <tr>\n",
       "      <th>highway-mpg</th>\n",
       "      <td>0.036233</td>\n",
       "      <td>-0.181877</td>\n",
       "      <td>-0.543304</td>\n",
       "      <td>-0.698142</td>\n",
       "      <td>-0.680635</td>\n",
       "      <td>-0.104812</td>\n",
       "      <td>-0.794889</td>\n",
       "      <td>-0.679571</td>\n",
       "      <td>-0.591309</td>\n",
       "      <td>-0.035201</td>\n",
       "      <td>0.268465</td>\n",
       "      <td>-0.804575</td>\n",
       "      <td>-0.058598</td>\n",
       "      <td>0.972044</td>\n",
       "      <td>1.000000</td>\n",
       "      <td>-0.704692</td>\n",
       "      <td>-0.930028</td>\n",
       "      <td>0.198690</td>\n",
       "      <td>-0.198690</td>\n",
       "    </tr>\n",
       "    <tr>\n",
       "      <th>price</th>\n",
       "      <td>-0.082391</td>\n",
       "      <td>0.133999</td>\n",
       "      <td>0.584642</td>\n",
       "      <td>0.690628</td>\n",
       "      <td>0.751265</td>\n",
       "      <td>0.135486</td>\n",
       "      <td>0.834415</td>\n",
       "      <td>0.872335</td>\n",
       "      <td>0.543155</td>\n",
       "      <td>0.082310</td>\n",
       "      <td>0.071107</td>\n",
       "      <td>0.809575</td>\n",
       "      <td>-0.101616</td>\n",
       "      <td>-0.686571</td>\n",
       "      <td>-0.704692</td>\n",
       "      <td>1.000000</td>\n",
       "      <td>0.789898</td>\n",
       "      <td>0.110326</td>\n",
       "      <td>-0.110326</td>\n",
       "    </tr>\n",
       "    <tr>\n",
       "      <th>city-L/100km</th>\n",
       "      <td>0.066171</td>\n",
       "      <td>0.238567</td>\n",
       "      <td>0.476153</td>\n",
       "      <td>0.657373</td>\n",
       "      <td>0.673363</td>\n",
       "      <td>0.003811</td>\n",
       "      <td>0.785353</td>\n",
       "      <td>0.745059</td>\n",
       "      <td>0.554610</td>\n",
       "      <td>0.037300</td>\n",
       "      <td>-0.299372</td>\n",
       "      <td>0.889488</td>\n",
       "      <td>0.115830</td>\n",
       "      <td>-0.949713</td>\n",
       "      <td>-0.930028</td>\n",
       "      <td>0.789898</td>\n",
       "      <td>1.000000</td>\n",
       "      <td>-0.241282</td>\n",
       "      <td>0.241282</td>\n",
       "    </tr>\n",
       "    <tr>\n",
       "      <th>diesel</th>\n",
       "      <td>-0.196735</td>\n",
       "      <td>-0.101546</td>\n",
       "      <td>0.307237</td>\n",
       "      <td>0.211187</td>\n",
       "      <td>0.244356</td>\n",
       "      <td>0.281578</td>\n",
       "      <td>0.221046</td>\n",
       "      <td>0.070779</td>\n",
       "      <td>0.054458</td>\n",
       "      <td>0.241303</td>\n",
       "      <td>0.985231</td>\n",
       "      <td>-0.169053</td>\n",
       "      <td>-0.475812</td>\n",
       "      <td>0.265676</td>\n",
       "      <td>0.198690</td>\n",
       "      <td>0.110326</td>\n",
       "      <td>-0.241282</td>\n",
       "      <td>1.000000</td>\n",
       "      <td>-1.000000</td>\n",
       "    </tr>\n",
       "    <tr>\n",
       "      <th>gas</th>\n",
       "      <td>0.196735</td>\n",
       "      <td>0.101546</td>\n",
       "      <td>-0.307237</td>\n",
       "      <td>-0.211187</td>\n",
       "      <td>-0.244356</td>\n",
       "      <td>-0.281578</td>\n",
       "      <td>-0.221046</td>\n",
       "      <td>-0.070779</td>\n",
       "      <td>-0.054458</td>\n",
       "      <td>-0.241303</td>\n",
       "      <td>-0.985231</td>\n",
       "      <td>0.169053</td>\n",
       "      <td>0.475812</td>\n",
       "      <td>-0.265676</td>\n",
       "      <td>-0.198690</td>\n",
       "      <td>-0.110326</td>\n",
       "      <td>0.241282</td>\n",
       "      <td>-1.000000</td>\n",
       "      <td>1.000000</td>\n",
       "    </tr>\n",
       "  </tbody>\n",
       "</table>\n",
       "</div>"
      ],
      "text/plain": [
       "                   symboling  normalized-losses  wheel-base    length  \\\n",
       "symboling           1.000000           0.466264   -0.535987 -0.365404   \n",
       "normalized-losses   0.466264           1.000000   -0.056661  0.019424   \n",
       "wheel-base         -0.535987          -0.056661    1.000000  0.876024   \n",
       "length             -0.365404           0.019424    0.876024  1.000000   \n",
       "width              -0.242423           0.086802    0.814507  0.857170   \n",
       "height             -0.550160          -0.373737    0.590742  0.492063   \n",
       "curb-weight        -0.233118           0.099404    0.782097  0.880665   \n",
       "engine-size        -0.110581           0.112360    0.572027  0.685025   \n",
       "bore               -0.140019          -0.029862    0.493244  0.608971   \n",
       "stroke             -0.008245           0.055563    0.158502  0.124139   \n",
       "compression-ratio  -0.182196          -0.114713    0.250313  0.159733   \n",
       "horsepower          0.075819           0.217299    0.371147  0.579821   \n",
       "peak-rpm            0.279740           0.239543   -0.360305 -0.285970   \n",
       "city-mpg           -0.035527          -0.225016   -0.470606 -0.665192   \n",
       "highway-mpg         0.036233          -0.181877   -0.543304 -0.698142   \n",
       "price              -0.082391           0.133999    0.584642  0.690628   \n",
       "city-L/100km        0.066171           0.238567    0.476153  0.657373   \n",
       "diesel             -0.196735          -0.101546    0.307237  0.211187   \n",
       "gas                 0.196735           0.101546   -0.307237 -0.211187   \n",
       "\n",
       "                      width    height  curb-weight  engine-size      bore  \\\n",
       "symboling         -0.242423 -0.550160    -0.233118    -0.110581 -0.140019   \n",
       "normalized-losses  0.086802 -0.373737     0.099404     0.112360 -0.029862   \n",
       "wheel-base         0.814507  0.590742     0.782097     0.572027  0.493244   \n",
       "length             0.857170  0.492063     0.880665     0.685025  0.608971   \n",
       "width              1.000000  0.306002     0.866201     0.729436  0.544885   \n",
       "height             0.306002  1.000000     0.307581     0.074694  0.180449   \n",
       "curb-weight        0.866201  0.307581     1.000000     0.849072  0.644060   \n",
       "engine-size        0.729436  0.074694     0.849072     1.000000  0.572609   \n",
       "bore               0.544885  0.180449     0.644060     0.572609  1.000000   \n",
       "stroke             0.188829 -0.062704     0.167562     0.209523 -0.055390   \n",
       "compression-ratio  0.189867  0.259737     0.156433     0.028889  0.001263   \n",
       "horsepower         0.615077 -0.087027     0.757976     0.822676  0.566936   \n",
       "peak-rpm          -0.245800 -0.309974    -0.279361    -0.256733 -0.267392   \n",
       "city-mpg          -0.633531 -0.049800    -0.749543    -0.650546 -0.582027   \n",
       "highway-mpg       -0.680635 -0.104812    -0.794889    -0.679571 -0.591309   \n",
       "price              0.751265  0.135486     0.834415     0.872335  0.543155   \n",
       "city-L/100km       0.673363  0.003811     0.785353     0.745059  0.554610   \n",
       "diesel             0.244356  0.281578     0.221046     0.070779  0.054458   \n",
       "gas               -0.244356 -0.281578    -0.221046    -0.070779 -0.054458   \n",
       "\n",
       "                     stroke  compression-ratio  horsepower  peak-rpm  \\\n",
       "symboling         -0.008245          -0.182196    0.075819  0.279740   \n",
       "normalized-losses  0.055563          -0.114713    0.217299  0.239543   \n",
       "wheel-base         0.158502           0.250313    0.371147 -0.360305   \n",
       "length             0.124139           0.159733    0.579821 -0.285970   \n",
       "width              0.188829           0.189867    0.615077 -0.245800   \n",
       "height            -0.062704           0.259737   -0.087027 -0.309974   \n",
       "curb-weight        0.167562           0.156433    0.757976 -0.279361   \n",
       "engine-size        0.209523           0.028889    0.822676 -0.256733   \n",
       "bore              -0.055390           0.001263    0.566936 -0.267392   \n",
       "stroke             1.000000           0.187923    0.098462 -0.065713   \n",
       "compression-ratio  0.187923           1.000000   -0.214514 -0.435780   \n",
       "horsepower         0.098462          -0.214514    1.000000  0.107885   \n",
       "peak-rpm          -0.065713          -0.435780    0.107885  1.000000   \n",
       "city-mpg          -0.034696           0.331425   -0.822214 -0.115413   \n",
       "highway-mpg       -0.035201           0.268465   -0.804575 -0.058598   \n",
       "price              0.082310           0.071107    0.809575 -0.101616   \n",
       "city-L/100km       0.037300          -0.299372    0.889488  0.115830   \n",
       "diesel             0.241303           0.985231   -0.169053 -0.475812   \n",
       "gas               -0.241303          -0.985231    0.169053  0.475812   \n",
       "\n",
       "                   city-mpg  highway-mpg     price  city-L/100km    diesel  \\\n",
       "symboling         -0.035527     0.036233 -0.082391      0.066171 -0.196735   \n",
       "normalized-losses -0.225016    -0.181877  0.133999      0.238567 -0.101546   \n",
       "wheel-base        -0.470606    -0.543304  0.584642      0.476153  0.307237   \n",
       "length            -0.665192    -0.698142  0.690628      0.657373  0.211187   \n",
       "width             -0.633531    -0.680635  0.751265      0.673363  0.244356   \n",
       "height            -0.049800    -0.104812  0.135486      0.003811  0.281578   \n",
       "curb-weight       -0.749543    -0.794889  0.834415      0.785353  0.221046   \n",
       "engine-size       -0.650546    -0.679571  0.872335      0.745059  0.070779   \n",
       "bore              -0.582027    -0.591309  0.543155      0.554610  0.054458   \n",
       "stroke            -0.034696    -0.035201  0.082310      0.037300  0.241303   \n",
       "compression-ratio  0.331425     0.268465  0.071107     -0.299372  0.985231   \n",
       "horsepower        -0.822214    -0.804575  0.809575      0.889488 -0.169053   \n",
       "peak-rpm          -0.115413    -0.058598 -0.101616      0.115830 -0.475812   \n",
       "city-mpg           1.000000     0.972044 -0.686571     -0.949713  0.265676   \n",
       "highway-mpg        0.972044     1.000000 -0.704692     -0.930028  0.198690   \n",
       "price             -0.686571    -0.704692  1.000000      0.789898  0.110326   \n",
       "city-L/100km      -0.949713    -0.930028  0.789898      1.000000 -0.241282   \n",
       "diesel             0.265676     0.198690  0.110326     -0.241282  1.000000   \n",
       "gas               -0.265676    -0.198690 -0.110326      0.241282 -1.000000   \n",
       "\n",
       "                        gas  \n",
       "symboling          0.196735  \n",
       "normalized-losses  0.101546  \n",
       "wheel-base        -0.307237  \n",
       "length            -0.211187  \n",
       "width             -0.244356  \n",
       "height            -0.281578  \n",
       "curb-weight       -0.221046  \n",
       "engine-size       -0.070779  \n",
       "bore              -0.054458  \n",
       "stroke            -0.241303  \n",
       "compression-ratio -0.985231  \n",
       "horsepower         0.169053  \n",
       "peak-rpm           0.475812  \n",
       "city-mpg          -0.265676  \n",
       "highway-mpg       -0.198690  \n",
       "price             -0.110326  \n",
       "city-L/100km       0.241282  \n",
       "diesel            -1.000000  \n",
       "gas                1.000000  "
      ]
     },
     "execution_count": 39,
     "metadata": {},
     "output_type": "execute_result"
    }
   ],
   "source": [
    "df.corr()"
   ]
  },
  {
   "cell_type": "markdown",
   "metadata": {},
   "source": [
    " sometimes we would like to know the significant of the correlation estimate. "
   ]
  },
  {
   "cell_type": "markdown",
   "metadata": {},
   "source": [
    "<b>P-value</b>: \n",
    "<p>What is this P-value? The P-value is the probability value that the correlation between these two variables is statistically significant. Normally, we choose a significance level of 0.05, which means that we are 95% confident that the correlation between the variables is significant.</p>\n",
    "\n",
    "By convention, when the\n",
    "<ul>\n",
    "    <li>p-value is $<$ 0.001: we say there is strong evidence that the correlation is significant.</li>\n",
    "    <li>the p-value is $<$ 0.05: there is moderate evidence that the correlation is significant.</li>\n",
    "    <li>the p-value is $<$ 0.1: there is weak evidence that the correlation is significant.</li>\n",
    "    <li>the p-value is $>$ 0.1: there is no evidence that the correlation is significant.</li>\n",
    "</ul>"
   ]
  },
  {
   "cell_type": "markdown",
   "metadata": {},
   "source": [
    " We can obtain this information using  \"stats\" module in the \"scipy\"  library."
   ]
  },
  {
   "cell_type": "code",
   "execution_count": 40,
   "metadata": {},
   "outputs": [],
   "source": [
    "from scipy import stats"
   ]
  },
  {
   "cell_type": "markdown",
   "metadata": {},
   "source": [
    "<h3>Wheel-base vs Price</h3>"
   ]
  },
  {
   "cell_type": "markdown",
   "metadata": {},
   "source": [
    "Let's calculate the  Pearson Correlation Coefficient and P-value of 'wheel-base' and 'price'. "
   ]
  },
  {
   "cell_type": "code",
   "execution_count": 41,
   "metadata": {
    "collapsed": false,
    "jupyter": {
     "outputs_hidden": false
    }
   },
   "outputs": [
    {
     "name": "stdout",
     "output_type": "stream",
     "text": [
      "The Pearson Correlation Coefficient is 0.5846418222655081  with a P-value of P = 8.076488270732955e-20\n"
     ]
    }
   ],
   "source": [
    "pearson_coef, p_value = stats.pearsonr(df['wheel-base'], df['price'])\n",
    "print(\"The Pearson Correlation Coefficient is\", pearson_coef, \" with a P-value of P =\", p_value)  "
   ]
  },
  {
   "cell_type": "markdown",
   "metadata": {},
   "source": [
    "<h5>Conclusion:</h5>\n",
    "<p>Since the p-value is $<$ 0.001, the correlation between wheel-base and price is statistically significant, although the linear relationship isn't extremely strong (~0.585)</p>"
   ]
  },
  {
   "cell_type": "markdown",
   "metadata": {},
   "source": [
    "<h3>Horsepower vs Price</h3>"
   ]
  },
  {
   "cell_type": "markdown",
   "metadata": {},
   "source": [
    " Let's calculate the  Pearson Correlation Coefficient and P-value of 'horsepower' and 'price'."
   ]
  },
  {
   "cell_type": "code",
   "execution_count": 42,
   "metadata": {
    "collapsed": false,
    "jupyter": {
     "outputs_hidden": false
    }
   },
   "outputs": [
    {
     "name": "stdout",
     "output_type": "stream",
     "text": [
      "The Pearson Correlation Coefficient is 0.8095745670036559  with a P-value of P =  6.36905742825998e-48\n"
     ]
    }
   ],
   "source": [
    "pearson_coef, p_value = stats.pearsonr(df['horsepower'], df['price'])\n",
    "print(\"The Pearson Correlation Coefficient is\", pearson_coef, \" with a P-value of P = \", p_value)  "
   ]
  },
  {
   "cell_type": "markdown",
   "metadata": {},
   "source": [
    "<h5>Conclusion:</h5>\n",
    "\n",
    "<p>Since the p-value is $<$ 0.001, the correlation between horsepower and price is statistically significant, and the linear relationship is quite strong (~0.809, close to 1)</p>"
   ]
  },
  {
   "cell_type": "markdown",
   "metadata": {},
   "source": [
    "<h3>Length vs Price</h3>\n",
    "\n",
    "Let's calculate the  Pearson Correlation Coefficient and P-value of 'length' and 'price'."
   ]
  },
  {
   "cell_type": "code",
   "execution_count": 43,
   "metadata": {
    "collapsed": false,
    "jupyter": {
     "outputs_hidden": false
    }
   },
   "outputs": [
    {
     "name": "stdout",
     "output_type": "stream",
     "text": [
      "The Pearson Correlation Coefficient is 0.690628380448364  with a P-value of P =  8.016477466159053e-30\n"
     ]
    }
   ],
   "source": [
    "pearson_coef, p_value = stats.pearsonr(df['length'], df['price'])\n",
    "print(\"The Pearson Correlation Coefficient is\", pearson_coef, \" with a P-value of P = \", p_value)  "
   ]
  },
  {
   "cell_type": "markdown",
   "metadata": {},
   "source": [
    "<h5>Conclusion:</h5>\n",
    "<p>Since the p-value is $<$ 0.001, the correlation between length and price is statistically significant, and the linear relationship is moderately strong (~0.691).</p>"
   ]
  },
  {
   "cell_type": "markdown",
   "metadata": {},
   "source": [
    "<h3>Width vs Price</h3>"
   ]
  },
  {
   "cell_type": "markdown",
   "metadata": {},
   "source": [
    " Let's calculate the Pearson Correlation Coefficient and P-value of 'width' and 'price':"
   ]
  },
  {
   "cell_type": "code",
   "execution_count": 44,
   "metadata": {
    "collapsed": false,
    "jupyter": {
     "outputs_hidden": false
    }
   },
   "outputs": [
    {
     "name": "stdout",
     "output_type": "stream",
     "text": [
      "The Pearson Correlation Coefficient is 0.7512653440522674  with a P-value of P = 9.200335510481426e-38\n"
     ]
    }
   ],
   "source": [
    "pearson_coef, p_value = stats.pearsonr(df['width'], df['price'])\n",
    "print(\"The Pearson Correlation Coefficient is\", pearson_coef, \" with a P-value of P =\", p_value ) "
   ]
  },
  {
   "cell_type": "markdown",
   "metadata": {},
   "source": [
    "##### Conclusion:\n",
    "\n",
    "Since the p-value is < 0.001, the correlation between width and price is statistically significant, and the linear relationship is quite strong (~0.751)."
   ]
  },
  {
   "cell_type": "markdown",
   "metadata": {},
   "source": [
    "### Curb-weight vs Price"
   ]
  },
  {
   "cell_type": "markdown",
   "metadata": {},
   "source": [
    " Let's calculate the Pearson Correlation Coefficient and P-value of 'curb-weight' and 'price':"
   ]
  },
  {
   "cell_type": "code",
   "execution_count": 45,
   "metadata": {
    "collapsed": false,
    "jupyter": {
     "outputs_hidden": false
    }
   },
   "outputs": [
    {
     "name": "stdout",
     "output_type": "stream",
     "text": [
      "The Pearson Correlation Coefficient is 0.8344145257702846  with a P-value of P =  2.1895772388936997e-53\n"
     ]
    }
   ],
   "source": [
    "pearson_coef, p_value = stats.pearsonr(df['curb-weight'], df['price'])\n",
    "print( \"The Pearson Correlation Coefficient is\", pearson_coef, \" with a P-value of P = \", p_value)  "
   ]
  },
  {
   "cell_type": "markdown",
   "metadata": {},
   "source": [
    "<h5>Conclusion:</h5>\n",
    "<p>Since the p-value is $<$ 0.001, the correlation between curb-weight and price is statistically significant, and the linear relationship is quite strong (~0.834).</p>"
   ]
  },
  {
   "cell_type": "markdown",
   "metadata": {},
   "source": [
    "<h3>Engine-size vs Price</h3>\n",
    "\n",
    "Let's calculate the Pearson Correlation Coefficient and P-value of 'engine-size' and 'price':"
   ]
  },
  {
   "cell_type": "code",
   "execution_count": 46,
   "metadata": {
    "collapsed": false,
    "jupyter": {
     "outputs_hidden": false
    }
   },
   "outputs": [
    {
     "name": "stdout",
     "output_type": "stream",
     "text": [
      "The Pearson Correlation Coefficient is 0.8723351674455185  with a P-value of P = 9.265491622197996e-64\n"
     ]
    }
   ],
   "source": [
    "pearson_coef, p_value = stats.pearsonr(df['engine-size'], df['price'])\n",
    "print(\"The Pearson Correlation Coefficient is\", pearson_coef, \" with a P-value of P =\", p_value) "
   ]
  },
  {
   "cell_type": "markdown",
   "metadata": {},
   "source": [
    "<h5>Conclusion:</h5>\n",
    "\n",
    "<p>Since the p-value is $<$ 0.001, the correlation between engine-size and price is statistically significant, and the linear relationship is very strong (~0.872).</p>"
   ]
  },
  {
   "cell_type": "markdown",
   "metadata": {},
   "source": [
    "<h3>Bore vs Price</h3>"
   ]
  },
  {
   "cell_type": "markdown",
   "metadata": {},
   "source": [
    " Let's calculate the  Pearson Correlation Coefficient and P-value of 'bore' and 'price':"
   ]
  },
  {
   "cell_type": "code",
   "execution_count": 47,
   "metadata": {
    "collapsed": false,
    "jupyter": {
     "outputs_hidden": false
    }
   },
   "outputs": [
    {
     "name": "stdout",
     "output_type": "stream",
     "text": [
      "The Pearson Correlation Coefficient is 0.5431553832626602  with a P-value of P =   8.049189483935364e-17\n"
     ]
    }
   ],
   "source": [
    "pearson_coef, p_value = stats.pearsonr(df['bore'], df['price'])\n",
    "print(\"The Pearson Correlation Coefficient is\", pearson_coef, \" with a P-value of P =  \", p_value ) "
   ]
  },
  {
   "cell_type": "markdown",
   "metadata": {},
   "source": [
    "<h5>Conclusion:</h5>\n",
    "<p>Since the p-value is $<$ 0.001, the correlation between bore and price is statistically significant, but the linear relationship is only moderate (~0.521).</p>"
   ]
  },
  {
   "cell_type": "markdown",
   "metadata": {},
   "source": [
    " We can relate the process for each 'City-mpg'  and 'Highway-mpg':"
   ]
  },
  {
   "cell_type": "markdown",
   "metadata": {},
   "source": [
    "<h3>City-mpg vs Price</h3>"
   ]
  },
  {
   "cell_type": "code",
   "execution_count": 48,
   "metadata": {
    "collapsed": false,
    "jupyter": {
     "outputs_hidden": false
    }
   },
   "outputs": [
    {
     "name": "stdout",
     "output_type": "stream",
     "text": [
      "The Pearson Correlation Coefficient is -0.6865710067844677  with a P-value of P =  2.3211320655676368e-29\n"
     ]
    }
   ],
   "source": [
    "pearson_coef, p_value = stats.pearsonr(df['city-mpg'], df['price'])\n",
    "print(\"The Pearson Correlation Coefficient is\", pearson_coef, \" with a P-value of P = \", p_value)  "
   ]
  },
  {
   "cell_type": "markdown",
   "metadata": {},
   "source": [
    "<h5>Conclusion:</h5>\n",
    "<p>Since the p-value is $<$ 0.001, the correlation between city-mpg and price is statistically significant, and the coefficient of ~ -0.687 shows that the relationship is negative and moderately strong.</p>"
   ]
  },
  {
   "cell_type": "markdown",
   "metadata": {},
   "source": [
    "<h3>Highway-mpg vs Price</h3>"
   ]
  },
  {
   "cell_type": "code",
   "execution_count": 49,
   "metadata": {
    "collapsed": false,
    "jupyter": {
     "outputs_hidden": false
    }
   },
   "outputs": [
    {
     "name": "stdout",
     "output_type": "stream",
     "text": [
      "The Pearson Correlation Coefficient is -0.7046922650589529  with a P-value of P =  1.7495471144476807e-31\n"
     ]
    }
   ],
   "source": [
    "pearson_coef, p_value = stats.pearsonr(df['highway-mpg'], df['price'])\n",
    "print( \"The Pearson Correlation Coefficient is\", pearson_coef, \" with a P-value of P = \", p_value ) "
   ]
  },
  {
   "cell_type": "markdown",
   "metadata": {},
   "source": [
    "##### Conclusion:\n",
    "Since the p-value is < 0.001, the correlation between highway-mpg and price is statistically significant, and the coefficient of ~ -0.705 shows that the relationship is negative and moderately strong."
   ]
  },
  {
   "cell_type": "markdown",
   "metadata": {},
   "source": [
    "<h2 id=\"anova\">6. ANOVA</h2>"
   ]
  },
  {
   "cell_type": "markdown",
   "metadata": {},
   "source": [
    "<h3>ANOVA: Analysis of Variance</h3>\n",
    "<p>The Analysis of Variance  (ANOVA) is a statistical method used to test whether there are significant differences between the means of two or more groups. ANOVA returns two parameters:</p>\n",
    "\n",
    "<p><b>F-test score</b>: ANOVA assumes the means of all groups are the same, calculates how much the actual means deviate from the assumption, and reports it as the F-test score. A larger score means there is a larger difference between the means.</p>\n",
    "\n",
    "<p><b>P-value</b>:  P-value tells how statistically significant is our calculated score value.</p>\n",
    "\n",
    "<p>If our price variable is strongly correlated with the variable we are analyzing, expect ANOVA to return a sizeable F-test score and a small p-value.</p>"
   ]
  },
  {
   "cell_type": "markdown",
   "metadata": {},
   "source": [
    "<h3>Drive Wheels</h3>"
   ]
  },
  {
   "cell_type": "markdown",
   "metadata": {},
   "source": [
    "<p>Since ANOVA analyzes the difference between different groups of the same variable, the groupby function will come in handy. Because the ANOVA algorithm averages the data automatically, we do not need to take the average before hand.</p>\n",
    "\n",
    "<p>Let's see if different types 'drive-wheels' impact  'price', we group the data.</p>"
   ]
  },
  {
   "cell_type": "markdown",
   "metadata": {},
   "source": [
    " Let's see if different types 'drive-wheels' impact  'price', we group the data."
   ]
  },
  {
   "cell_type": "code",
   "execution_count": 50,
   "metadata": {
    "collapsed": false,
    "jupyter": {
     "outputs_hidden": false
    }
   },
   "outputs": [
    {
     "data": {
      "text/html": [
       "<div>\n",
       "<style scoped>\n",
       "    .dataframe tbody tr th:only-of-type {\n",
       "        vertical-align: middle;\n",
       "    }\n",
       "\n",
       "    .dataframe tbody tr th {\n",
       "        vertical-align: top;\n",
       "    }\n",
       "\n",
       "    .dataframe thead th {\n",
       "        text-align: right;\n",
       "    }\n",
       "</style>\n",
       "<table border=\"1\" class=\"dataframe\">\n",
       "  <thead>\n",
       "    <tr style=\"text-align: right;\">\n",
       "      <th></th>\n",
       "      <th>drive-wheels</th>\n",
       "      <th>price</th>\n",
       "    </tr>\n",
       "  </thead>\n",
       "  <tbody>\n",
       "    <tr>\n",
       "      <th>0</th>\n",
       "      <td>rwd</td>\n",
       "      <td>13495.0</td>\n",
       "    </tr>\n",
       "    <tr>\n",
       "      <th>1</th>\n",
       "      <td>rwd</td>\n",
       "      <td>16500.0</td>\n",
       "    </tr>\n",
       "    <tr>\n",
       "      <th>3</th>\n",
       "      <td>fwd</td>\n",
       "      <td>13950.0</td>\n",
       "    </tr>\n",
       "    <tr>\n",
       "      <th>4</th>\n",
       "      <td>4wd</td>\n",
       "      <td>17450.0</td>\n",
       "    </tr>\n",
       "    <tr>\n",
       "      <th>5</th>\n",
       "      <td>fwd</td>\n",
       "      <td>15250.0</td>\n",
       "    </tr>\n",
       "    <tr>\n",
       "      <th>136</th>\n",
       "      <td>4wd</td>\n",
       "      <td>7603.0</td>\n",
       "    </tr>\n",
       "  </tbody>\n",
       "</table>\n",
       "</div>"
      ],
      "text/plain": [
       "    drive-wheels    price\n",
       "0            rwd  13495.0\n",
       "1            rwd  16500.0\n",
       "3            fwd  13950.0\n",
       "4            4wd  17450.0\n",
       "5            fwd  15250.0\n",
       "136          4wd   7603.0"
      ]
     },
     "execution_count": 50,
     "metadata": {},
     "output_type": "execute_result"
    }
   ],
   "source": [
    "grouped_test2=df_gptest[['drive-wheels', 'price']].groupby(['drive-wheels'])\n",
    "grouped_test2.head(2)\n"
   ]
  },
  {
   "cell_type": "code",
   "execution_count": 51,
   "metadata": {},
   "outputs": [
    {
     "data": {
      "text/html": [
       "<div>\n",
       "<style scoped>\n",
       "    .dataframe tbody tr th:only-of-type {\n",
       "        vertical-align: middle;\n",
       "    }\n",
       "\n",
       "    .dataframe tbody tr th {\n",
       "        vertical-align: top;\n",
       "    }\n",
       "\n",
       "    .dataframe thead th {\n",
       "        text-align: right;\n",
       "    }\n",
       "</style>\n",
       "<table border=\"1\" class=\"dataframe\">\n",
       "  <thead>\n",
       "    <tr style=\"text-align: right;\">\n",
       "      <th></th>\n",
       "      <th>drive-wheels</th>\n",
       "      <th>body-style</th>\n",
       "      <th>price</th>\n",
       "    </tr>\n",
       "  </thead>\n",
       "  <tbody>\n",
       "    <tr>\n",
       "      <th>0</th>\n",
       "      <td>rwd</td>\n",
       "      <td>convertible</td>\n",
       "      <td>13495.0</td>\n",
       "    </tr>\n",
       "    <tr>\n",
       "      <th>1</th>\n",
       "      <td>rwd</td>\n",
       "      <td>convertible</td>\n",
       "      <td>16500.0</td>\n",
       "    </tr>\n",
       "    <tr>\n",
       "      <th>2</th>\n",
       "      <td>rwd</td>\n",
       "      <td>hatchback</td>\n",
       "      <td>16500.0</td>\n",
       "    </tr>\n",
       "    <tr>\n",
       "      <th>3</th>\n",
       "      <td>fwd</td>\n",
       "      <td>sedan</td>\n",
       "      <td>13950.0</td>\n",
       "    </tr>\n",
       "    <tr>\n",
       "      <th>4</th>\n",
       "      <td>4wd</td>\n",
       "      <td>sedan</td>\n",
       "      <td>17450.0</td>\n",
       "    </tr>\n",
       "    <tr>\n",
       "      <th>...</th>\n",
       "      <td>...</td>\n",
       "      <td>...</td>\n",
       "      <td>...</td>\n",
       "    </tr>\n",
       "    <tr>\n",
       "      <th>196</th>\n",
       "      <td>rwd</td>\n",
       "      <td>sedan</td>\n",
       "      <td>16845.0</td>\n",
       "    </tr>\n",
       "    <tr>\n",
       "      <th>197</th>\n",
       "      <td>rwd</td>\n",
       "      <td>sedan</td>\n",
       "      <td>19045.0</td>\n",
       "    </tr>\n",
       "    <tr>\n",
       "      <th>198</th>\n",
       "      <td>rwd</td>\n",
       "      <td>sedan</td>\n",
       "      <td>21485.0</td>\n",
       "    </tr>\n",
       "    <tr>\n",
       "      <th>199</th>\n",
       "      <td>rwd</td>\n",
       "      <td>sedan</td>\n",
       "      <td>22470.0</td>\n",
       "    </tr>\n",
       "    <tr>\n",
       "      <th>200</th>\n",
       "      <td>rwd</td>\n",
       "      <td>sedan</td>\n",
       "      <td>22625.0</td>\n",
       "    </tr>\n",
       "  </tbody>\n",
       "</table>\n",
       "<p>201 rows × 3 columns</p>\n",
       "</div>"
      ],
      "text/plain": [
       "    drive-wheels   body-style    price\n",
       "0            rwd  convertible  13495.0\n",
       "1            rwd  convertible  16500.0\n",
       "2            rwd    hatchback  16500.0\n",
       "3            fwd        sedan  13950.0\n",
       "4            4wd        sedan  17450.0\n",
       "..           ...          ...      ...\n",
       "196          rwd        sedan  16845.0\n",
       "197          rwd        sedan  19045.0\n",
       "198          rwd        sedan  21485.0\n",
       "199          rwd        sedan  22470.0\n",
       "200          rwd        sedan  22625.0\n",
       "\n",
       "[201 rows x 3 columns]"
      ]
     },
     "execution_count": 51,
     "metadata": {},
     "output_type": "execute_result"
    }
   ],
   "source": [
    "df_gptest"
   ]
  },
  {
   "cell_type": "markdown",
   "metadata": {},
   "source": [
    " We can obtain the values of the method group using the method \"get_group\".  "
   ]
  },
  {
   "cell_type": "code",
   "execution_count": 52,
   "metadata": {
    "collapsed": false,
    "jupyter": {
     "outputs_hidden": false
    }
   },
   "outputs": [
    {
     "data": {
      "text/plain": [
       "4      17450.0\n",
       "136     7603.0\n",
       "140     9233.0\n",
       "141    11259.0\n",
       "144     8013.0\n",
       "145    11694.0\n",
       "150     7898.0\n",
       "151     8778.0\n",
       "Name: price, dtype: float64"
      ]
     },
     "execution_count": 52,
     "metadata": {},
     "output_type": "execute_result"
    }
   ],
   "source": [
    "grouped_test2.get_group('4wd')['price']"
   ]
  },
  {
   "cell_type": "markdown",
   "metadata": {},
   "source": [
    "we can use the function 'f_oneway' in the module 'stats'  to obtain the <b>F-test score</b> and <b>P-value</b>."
   ]
  },
  {
   "cell_type": "code",
   "execution_count": 53,
   "metadata": {
    "collapsed": false,
    "jupyter": {
     "outputs_hidden": false
    }
   },
   "outputs": [
    {
     "name": "stdout",
     "output_type": "stream",
     "text": [
      "ANOVA results: F= 67.95406500780399 , P = 3.3945443577151245e-23\n"
     ]
    }
   ],
   "source": [
    "# ANOVA\n",
    "f_val, p_val = stats.f_oneway(grouped_test2.get_group('fwd')['price'], grouped_test2.get_group('rwd')['price'], grouped_test2.get_group('4wd')['price'])  \n",
    " \n",
    "print( \"ANOVA results: F=\", f_val, \", P =\", p_val)   "
   ]
  },
  {
   "cell_type": "markdown",
   "metadata": {},
   "source": [
    "This is a great result, with a large F test score showing a strong correlation and a P value of almost 0 implying almost certain statistical significance. But does this mean all three tested groups are all this highly correlated? "
   ]
  },
  {
   "cell_type": "markdown",
   "metadata": {},
   "source": [
    "#### Separately: fwd and rwd"
   ]
  },
  {
   "cell_type": "code",
   "execution_count": 54,
   "metadata": {
    "collapsed": false,
    "jupyter": {
     "outputs_hidden": false
    }
   },
   "outputs": [
    {
     "name": "stdout",
     "output_type": "stream",
     "text": [
      "ANOVA results: F= 130.5533160959111 , P = 2.2355306355677845e-23\n"
     ]
    }
   ],
   "source": [
    "f_val, p_val = stats.f_oneway(grouped_test2.get_group('fwd')['price'], grouped_test2.get_group('rwd')['price'])  \n",
    " \n",
    "print( \"ANOVA results: F=\", f_val, \", P =\", p_val )"
   ]
  },
  {
   "cell_type": "markdown",
   "metadata": {},
   "source": [
    " Let's examine the other groups "
   ]
  },
  {
   "cell_type": "markdown",
   "metadata": {},
   "source": [
    "#### 4wd and rwd"
   ]
  },
  {
   "cell_type": "code",
   "execution_count": 55,
   "metadata": {
    "collapsed": false,
    "jupyter": {
     "outputs_hidden": false
    },
    "scrolled": true
   },
   "outputs": [
    {
     "name": "stdout",
     "output_type": "stream",
     "text": [
      "ANOVA results: F= 8.580681368924756 , P = 0.004411492211225333\n"
     ]
    }
   ],
   "source": [
    "f_val, p_val = stats.f_oneway(grouped_test2.get_group('4wd')['price'], grouped_test2.get_group('rwd')['price'])  \n",
    "   \n",
    "print( \"ANOVA results: F=\", f_val, \", P =\", p_val)   "
   ]
  },
  {
   "cell_type": "markdown",
   "metadata": {},
   "source": [
    "<h4>4wd and fwd</h4>"
   ]
  },
  {
   "cell_type": "code",
   "execution_count": 56,
   "metadata": {
    "collapsed": false,
    "jupyter": {
     "outputs_hidden": false
    }
   },
   "outputs": [
    {
     "name": "stdout",
     "output_type": "stream",
     "text": [
      "ANOVA results: F= 0.665465750252303 , P = 0.41620116697845666\n"
     ]
    }
   ],
   "source": [
    "f_val, p_val = stats.f_oneway(grouped_test2.get_group('4wd')['price'], grouped_test2.get_group('fwd')['price'])  \n",
    " \n",
    "print(\"ANOVA results: F=\", f_val, \", P =\", p_val)   "
   ]
  },
  {
   "cell_type": "markdown",
   "metadata": {},
   "source": [
    "<h3>Conclusion: Important Variables</h3>"
   ]
  },
  {
   "cell_type": "markdown",
   "metadata": {},
   "source": [
    "<p>We now have a better idea of what our data looks like and which variables are important to take into account when predicting the car price. We have narrowed it down to the following variables:</p>\n",
    "\n",
    "Continuous numerical variables:\n",
    "<ul>\n",
    "    <li>Length</li>\n",
    "    <li>Width</li>\n",
    "    <li>Curb-weight</li>\n",
    "    <li>Engine-size</li>\n",
    "    <li>Horsepower</li>\n",
    "    <li>City-mpg</li>\n",
    "    <li>Highway-mpg</li>\n",
    "    <li>Wheel-base</li>\n",
    "    <li>Bore</li>\n",
    "</ul>\n",
    "    \n",
    "Categorical variables:\n",
    "<ul>\n",
    "    <li>Drive-wheels</li>\n",
    "</ul>\n",
    "\n",
    "<p>As we now move into building machine learning models to automate our analysis, feeding the model with variables that meaningfully affect our target variable will improve our model's prediction performance.</p>"
   ]
  },
  {
   "cell_type": "markdown",
   "metadata": {},
   "source": [
    "<h1>Thank you for completing this notebook</h1>"
   ]
  },
  {
   "cell_type": "markdown",
   "metadata": {},
   "source": [
    "<div class=\"alert alert-block alert-info\" style=\"margin-top: 20px\">\n",
    "\n",
    "    <p><a href=\"https://cocl.us/corsera_da0101en_notebook_bottom\"><img src=\"https://s3-api.us-geo.objectstorage.softlayer.net/cf-courses-data/CognitiveClass/DA0101EN/Images/BottomAd.png\" width=\"750\" align=\"center\"></a></p>\n",
    "</div>\n"
   ]
  },
  {
   "cell_type": "markdown",
   "metadata": {},
   "source": [
    "<h3>About the Authors:</h3>\n",
    "\n",
    "This notebook was written by <a href=\"https://www.linkedin.com/in/mahdi-noorian-58219234/\" target=\"_blank\">Mahdi Noorian PhD</a>, <a href=\"https://www.linkedin.com/in/joseph-s-50398b136/\" target=\"_blank\">Joseph Santarcangelo</a>, Bahare Talayian, Eric Xiao, Steven Dong, Parizad, Hima Vsudevan and <a href=\"https://www.linkedin.com/in/fiorellawever/\" target=\"_blank\">Fiorella Wenver</a> and <a href=\" https://www.linkedin.com/in/yi-leng-yao-84451275/ \" target=\"_blank\" >Yi Yao</a>.\n",
    "\n",
    "<p><a href=\"https://www.linkedin.com/in/joseph-s-50398b136/\" target=\"_blank\">Joseph Santarcangelo</a> is a Data Scientist at IBM, and holds a PhD in Electrical Engineering. His research focused on using Machine Learning, Signal Processing, and Computer Vision to determine how videos impact human cognition. Joseph has been working for IBM since he completed his PhD.</p>"
   ]
  },
  {
   "cell_type": "markdown",
   "metadata": {},
   "source": [
    "<hr>\n",
    "<p>Copyright &copy; 2018 IBM Developer Skills Network. This notebook and its source code are released under the terms of the <a href=\"https://cognitiveclass.ai/mit-license/\">MIT License</a>.</p>"
   ]
  }
 ],
 "metadata": {
  "anaconda-cloud": {},
  "kernelspec": {
   "display_name": "Python",
   "language": "python",
   "name": "conda-env-python-py"
  },
  "language_info": {
   "codemirror_mode": {
    "name": "ipython",
    "version": 3
   },
   "file_extension": ".py",
   "mimetype": "text/x-python",
   "name": "python",
   "nbconvert_exporter": "python",
   "pygments_lexer": "ipython3",
   "version": "3.6.11"
  }
 },
 "nbformat": 4,
 "nbformat_minor": 4
}
